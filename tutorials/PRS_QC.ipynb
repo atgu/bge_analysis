{
 "cells": [
  {
   "cell_type": "code",
   "execution_count": 1,
   "id": "0e0d826b",
   "metadata": {},
   "outputs": [
    {
     "data": {
      "text/html": [
       "    <style>\n",
       "        .bk-notebook-logo {\n",
       "            display: block;\n",
       "            width: 20px;\n",
       "            height: 20px;\n",
       "            background-image: url(data:image/png;base64,iVBORw0KGgoAAAANSUhEUgAAABQAAAAUCAYAAACNiR0NAAAABHNCSVQICAgIfAhkiAAAAAlwSFlzAAALEgAACxIB0t1+/AAAABx0RVh0U29mdHdhcmUAQWRvYmUgRmlyZXdvcmtzIENTNui8sowAAAOkSURBVDiNjZRtaJVlGMd/1/08zzln5zjP1LWcU9N0NkN8m2CYjpgQYQXqSs0I84OLIC0hkEKoPtiH3gmKoiJDU7QpLgoLjLIQCpEsNJ1vqUOdO7ppbuec5+V+rj4ctwzd8IIbbi6u+8f1539dt3A78eXC7QizUF7gyV1fD1Yqg4JWz84yffhm0qkFqBogB9rM8tZdtwVsPUhWhGcFJngGeWrPzHm5oaMmkfEg1usvLFyc8jLRqDOMru7AyC8saQr7GG7f5fvDeH7Ej8CM66nIF+8yngt6HWaKh7k49Soy9nXurCi1o3qUbS3zWfrYeQDTB/Qj6kX6Ybhw4B+bOYoLKCC9H3Nu/leUTZ1JdRWkkn2ldcCamzrcf47KKXdAJllSlxAOkRgyHsGC/zRday5Qld9DyoM4/q/rUoy/CXh3jzOu3bHUVZeU+DEn8FInkPBFlu3+nW3Nw0mk6vCDiWg8CeJaxEwuHS3+z5RgY+YBR6V1Z1nxSOfoaPa4LASWxxdNp+VWTk7+4vzaou8v8PN+xo+KY2xsw6une2frhw05CTYOmQvsEhjhWjn0bmXPjpE1+kplmmkP3suftwTubK9Vq22qKmrBhpY4jvd5afdRA3wGjFAgcnTK2s4hY0/GPNIb0nErGMCRxWOOX64Z8RAC4oCXdklmEvcL8o0BfkNK4lUg9HTl+oPlQxdNo3Mg4Nv175e/1LDGzZen30MEjRUtmXSfiTVu1kK8W4txyV6BMKlbgk3lMwYCiusNy9fVfvvwMxv8Ynl6vxoByANLTWplvuj/nF9m2+PDtt1eiHPBr1oIfhCChQMBw6Aw0UulqTKZdfVvfG7VcfIqLG9bcldL/+pdWTLxLUy8Qq38heUIjh4XlzZxzQm19lLFlr8vdQ97rjZVOLf8nclzckbcD4wxXMidpX30sFd37Fv/GtwwhzhxGVAprjbg0gCAEeIgwCZyTV2Z1REEW8O4py0wsjeloKoMr6iCY6dP92H6Vw/oTyICIthibxjm/DfN9lVz8IqtqKYLUXfoKVMVQVVJOElGjrnnUt9T9wbgp8AyYKaGlqingHZU/uG2NTZSVqwHQTWkx9hxjkpWDaCg6Ckj5qebgBVbT3V3NNXMSiWSDdGV3hrtzla7J+duwPOToIg42ChPQOQjspnSlp1V+Gjdged7+8UN5CRAV7a5EdFNwCjEaBR27b3W890TE7g24NAP/mMDXRWrGoFPQI9ls/MWO2dWFAar/xcOIImbbpA3zgAAAABJRU5ErkJggg==);\n",
       "        }\n",
       "    </style>\n",
       "    <div>\n",
       "        <a href=\"https://bokeh.org\" target=\"_blank\" class=\"bk-notebook-logo\"></a>\n",
       "        <span id=\"d5acade1-509a-4d2c-abf1-0142699702a9\">Loading BokehJS ...</span>\n",
       "    </div>\n"
      ]
     },
     "metadata": {},
     "output_type": "display_data"
    },
    {
     "data": {
      "application/javascript": [
       "(function(root) {\n",
       "  function now() {\n",
       "    return new Date();\n",
       "  }\n",
       "\n",
       "  const force = true;\n",
       "\n",
       "  if (typeof root._bokeh_onload_callbacks === \"undefined\" || force === true) {\n",
       "    root._bokeh_onload_callbacks = [];\n",
       "    root._bokeh_is_loading = undefined;\n",
       "  }\n",
       "\n",
       "const JS_MIME_TYPE = 'application/javascript';\n",
       "  const HTML_MIME_TYPE = 'text/html';\n",
       "  const EXEC_MIME_TYPE = 'application/vnd.bokehjs_exec.v0+json';\n",
       "  const CLASS_NAME = 'output_bokeh rendered_html';\n",
       "\n",
       "  /**\n",
       "   * Render data to the DOM node\n",
       "   */\n",
       "  function render(props, node) {\n",
       "    const script = document.createElement(\"script\");\n",
       "    node.appendChild(script);\n",
       "  }\n",
       "\n",
       "  /**\n",
       "   * Handle when an output is cleared or removed\n",
       "   */\n",
       "  function handleClearOutput(event, handle) {\n",
       "    function drop(id) {\n",
       "      const view = Bokeh.index.get_by_id(id)\n",
       "      if (view != null) {\n",
       "        view.model.document.clear()\n",
       "        Bokeh.index.delete(view)\n",
       "      }\n",
       "    }\n",
       "\n",
       "    const cell = handle.cell;\n",
       "\n",
       "    const id = cell.output_area._bokeh_element_id;\n",
       "    const server_id = cell.output_area._bokeh_server_id;\n",
       "\n",
       "    // Clean up Bokeh references\n",
       "    if (id != null) {\n",
       "      drop(id)\n",
       "    }\n",
       "\n",
       "    if (server_id !== undefined) {\n",
       "      // Clean up Bokeh references\n",
       "      const cmd_clean = \"from bokeh.io.state import curstate; print(curstate().uuid_to_server['\" + server_id + \"'].get_sessions()[0].document.roots[0]._id)\";\n",
       "      cell.notebook.kernel.execute(cmd_clean, {\n",
       "        iopub: {\n",
       "          output: function(msg) {\n",
       "            const id = msg.content.text.trim()\n",
       "            drop(id)\n",
       "          }\n",
       "        }\n",
       "      });\n",
       "      // Destroy server and session\n",
       "      const cmd_destroy = \"import bokeh.io.notebook as ion; ion.destroy_server('\" + server_id + \"')\";\n",
       "      cell.notebook.kernel.execute(cmd_destroy);\n",
       "    }\n",
       "  }\n",
       "\n",
       "  /**\n",
       "   * Handle when a new output is added\n",
       "   */\n",
       "  function handleAddOutput(event, handle) {\n",
       "    const output_area = handle.output_area;\n",
       "    const output = handle.output;\n",
       "\n",
       "    // limit handleAddOutput to display_data with EXEC_MIME_TYPE content only\n",
       "    if ((output.output_type != \"display_data\") || (!Object.prototype.hasOwnProperty.call(output.data, EXEC_MIME_TYPE))) {\n",
       "      return\n",
       "    }\n",
       "\n",
       "    const toinsert = output_area.element.find(\".\" + CLASS_NAME.split(' ')[0]);\n",
       "\n",
       "    if (output.metadata[EXEC_MIME_TYPE][\"id\"] !== undefined) {\n",
       "      toinsert[toinsert.length - 1].firstChild.textContent = output.data[JS_MIME_TYPE];\n",
       "      // store reference to embed id on output_area\n",
       "      output_area._bokeh_element_id = output.metadata[EXEC_MIME_TYPE][\"id\"];\n",
       "    }\n",
       "    if (output.metadata[EXEC_MIME_TYPE][\"server_id\"] !== undefined) {\n",
       "      const bk_div = document.createElement(\"div\");\n",
       "      bk_div.innerHTML = output.data[HTML_MIME_TYPE];\n",
       "      const script_attrs = bk_div.children[0].attributes;\n",
       "      for (let i = 0; i < script_attrs.length; i++) {\n",
       "        toinsert[toinsert.length - 1].firstChild.setAttribute(script_attrs[i].name, script_attrs[i].value);\n",
       "        toinsert[toinsert.length - 1].firstChild.textContent = bk_div.children[0].textContent\n",
       "      }\n",
       "      // store reference to server id on output_area\n",
       "      output_area._bokeh_server_id = output.metadata[EXEC_MIME_TYPE][\"server_id\"];\n",
       "    }\n",
       "  }\n",
       "\n",
       "  function register_renderer(events, OutputArea) {\n",
       "\n",
       "    function append_mime(data, metadata, element) {\n",
       "      // create a DOM node to render to\n",
       "      const toinsert = this.create_output_subarea(\n",
       "        metadata,\n",
       "        CLASS_NAME,\n",
       "        EXEC_MIME_TYPE\n",
       "      );\n",
       "      this.keyboard_manager.register_events(toinsert);\n",
       "      // Render to node\n",
       "      const props = {data: data, metadata: metadata[EXEC_MIME_TYPE]};\n",
       "      render(props, toinsert[toinsert.length - 1]);\n",
       "      element.append(toinsert);\n",
       "      return toinsert\n",
       "    }\n",
       "\n",
       "    /* Handle when an output is cleared or removed */\n",
       "    events.on('clear_output.CodeCell', handleClearOutput);\n",
       "    events.on('delete.Cell', handleClearOutput);\n",
       "\n",
       "    /* Handle when a new output is added */\n",
       "    events.on('output_added.OutputArea', handleAddOutput);\n",
       "\n",
       "    /**\n",
       "     * Register the mime type and append_mime function with output_area\n",
       "     */\n",
       "    OutputArea.prototype.register_mime_type(EXEC_MIME_TYPE, append_mime, {\n",
       "      /* Is output safe? */\n",
       "      safe: true,\n",
       "      /* Index of renderer in `output_area.display_order` */\n",
       "      index: 0\n",
       "    });\n",
       "  }\n",
       "\n",
       "  // register the mime type if in Jupyter Notebook environment and previously unregistered\n",
       "  if (root.Jupyter !== undefined) {\n",
       "    const events = require('base/js/events');\n",
       "    const OutputArea = require('notebook/js/outputarea').OutputArea;\n",
       "\n",
       "    if (OutputArea.prototype.mime_types().indexOf(EXEC_MIME_TYPE) == -1) {\n",
       "      register_renderer(events, OutputArea);\n",
       "    }\n",
       "  }\n",
       "  if (typeof (root._bokeh_timeout) === \"undefined\" || force === true) {\n",
       "    root._bokeh_timeout = Date.now() + 5000;\n",
       "    root._bokeh_failed_load = false;\n",
       "  }\n",
       "\n",
       "  const NB_LOAD_WARNING = {'data': {'text/html':\n",
       "     \"<div style='background-color: #fdd'>\\n\"+\n",
       "     \"<p>\\n\"+\n",
       "     \"BokehJS does not appear to have successfully loaded. If loading BokehJS from CDN, this \\n\"+\n",
       "     \"may be due to a slow or bad network connection. Possible fixes:\\n\"+\n",
       "     \"</p>\\n\"+\n",
       "     \"<ul>\\n\"+\n",
       "     \"<li>re-rerun `output_notebook()` to attempt to load from CDN again, or</li>\\n\"+\n",
       "     \"<li>use INLINE resources instead, as so:</li>\\n\"+\n",
       "     \"</ul>\\n\"+\n",
       "     \"<code>\\n\"+\n",
       "     \"from bokeh.resources import INLINE\\n\"+\n",
       "     \"output_notebook(resources=INLINE)\\n\"+\n",
       "     \"</code>\\n\"+\n",
       "     \"</div>\"}};\n",
       "\n",
       "  function display_loaded() {\n",
       "    const el = document.getElementById(\"d5acade1-509a-4d2c-abf1-0142699702a9\");\n",
       "    if (el != null) {\n",
       "      el.textContent = \"BokehJS is loading...\";\n",
       "    }\n",
       "    if (root.Bokeh !== undefined) {\n",
       "      if (el != null) {\n",
       "        el.textContent = \"BokehJS \" + root.Bokeh.version + \" successfully loaded.\";\n",
       "      }\n",
       "    } else if (Date.now() < root._bokeh_timeout) {\n",
       "      setTimeout(display_loaded, 100)\n",
       "    }\n",
       "  }\n",
       "\n",
       "  function run_callbacks() {\n",
       "    try {\n",
       "      root._bokeh_onload_callbacks.forEach(function(callback) {\n",
       "        if (callback != null)\n",
       "          callback();\n",
       "      });\n",
       "    } finally {\n",
       "      delete root._bokeh_onload_callbacks\n",
       "    }\n",
       "    console.debug(\"Bokeh: all callbacks have finished\");\n",
       "  }\n",
       "\n",
       "  function load_libs(css_urls, js_urls, callback) {\n",
       "    if (css_urls == null) css_urls = [];\n",
       "    if (js_urls == null) js_urls = [];\n",
       "\n",
       "    root._bokeh_onload_callbacks.push(callback);\n",
       "    if (root._bokeh_is_loading > 0) {\n",
       "      console.debug(\"Bokeh: BokehJS is being loaded, scheduling callback at\", now());\n",
       "      return null;\n",
       "    }\n",
       "    if (js_urls == null || js_urls.length === 0) {\n",
       "      run_callbacks();\n",
       "      return null;\n",
       "    }\n",
       "    console.debug(\"Bokeh: BokehJS not loaded, scheduling load and callback at\", now());\n",
       "    root._bokeh_is_loading = css_urls.length + js_urls.length;\n",
       "\n",
       "    function on_load() {\n",
       "      root._bokeh_is_loading--;\n",
       "      if (root._bokeh_is_loading === 0) {\n",
       "        console.debug(\"Bokeh: all BokehJS libraries/stylesheets loaded\");\n",
       "        run_callbacks()\n",
       "      }\n",
       "    }\n",
       "\n",
       "    function on_error(url) {\n",
       "      console.error(\"failed to load \" + url);\n",
       "    }\n",
       "\n",
       "    for (let i = 0; i < css_urls.length; i++) {\n",
       "      const url = css_urls[i];\n",
       "      const element = document.createElement(\"link\");\n",
       "      element.onload = on_load;\n",
       "      element.onerror = on_error.bind(null, url);\n",
       "      element.rel = \"stylesheet\";\n",
       "      element.type = \"text/css\";\n",
       "      element.href = url;\n",
       "      console.debug(\"Bokeh: injecting link tag for BokehJS stylesheet: \", url);\n",
       "      document.body.appendChild(element);\n",
       "    }\n",
       "\n",
       "    for (let i = 0; i < js_urls.length; i++) {\n",
       "      const url = js_urls[i];\n",
       "      const element = document.createElement('script');\n",
       "      element.onload = on_load;\n",
       "      element.onerror = on_error.bind(null, url);\n",
       "      element.async = false;\n",
       "      element.src = url;\n",
       "      console.debug(\"Bokeh: injecting script tag for BokehJS library: \", url);\n",
       "      document.head.appendChild(element);\n",
       "    }\n",
       "  };\n",
       "\n",
       "  function inject_raw_css(css) {\n",
       "    const element = document.createElement(\"style\");\n",
       "    element.appendChild(document.createTextNode(css));\n",
       "    document.body.appendChild(element);\n",
       "  }\n",
       "\n",
       "  const js_urls = [\"https://cdn.bokeh.org/bokeh/release/bokeh-3.3.4.min.js\", \"https://cdn.bokeh.org/bokeh/release/bokeh-gl-3.3.4.min.js\", \"https://cdn.bokeh.org/bokeh/release/bokeh-widgets-3.3.4.min.js\", \"https://cdn.bokeh.org/bokeh/release/bokeh-tables-3.3.4.min.js\", \"https://cdn.bokeh.org/bokeh/release/bokeh-mathjax-3.3.4.min.js\"];\n",
       "  const css_urls = [];\n",
       "\n",
       "  const inline_js = [    function(Bokeh) {\n",
       "      Bokeh.set_log_level(\"info\");\n",
       "    },\n",
       "function(Bokeh) {\n",
       "    }\n",
       "  ];\n",
       "\n",
       "  function run_inline_js() {\n",
       "    if (root.Bokeh !== undefined || force === true) {\n",
       "          for (let i = 0; i < inline_js.length; i++) {\n",
       "      inline_js[i].call(root, root.Bokeh);\n",
       "    }\n",
       "if (force === true) {\n",
       "        display_loaded();\n",
       "      }} else if (Date.now() < root._bokeh_timeout) {\n",
       "      setTimeout(run_inline_js, 100);\n",
       "    } else if (!root._bokeh_failed_load) {\n",
       "      console.log(\"Bokeh: BokehJS failed to load within specified timeout.\");\n",
       "      root._bokeh_failed_load = true;\n",
       "    } else if (force !== true) {\n",
       "      const cell = $(document.getElementById(\"d5acade1-509a-4d2c-abf1-0142699702a9\")).parents('.cell').data().cell;\n",
       "      cell.output_area.append_execute_result(NB_LOAD_WARNING)\n",
       "    }\n",
       "  }\n",
       "\n",
       "  if (root._bokeh_is_loading === 0) {\n",
       "    console.debug(\"Bokeh: BokehJS loaded, going straight to plotting\");\n",
       "    run_inline_js();\n",
       "  } else {\n",
       "    load_libs(css_urls, js_urls, function() {\n",
       "      console.debug(\"Bokeh: BokehJS plotting callback run at\", now());\n",
       "      run_inline_js();\n",
       "    });\n",
       "  }\n",
       "}(window));"
      ],
      "application/vnd.bokehjs_load.v0+json": "(function(root) {\n  function now() {\n    return new Date();\n  }\n\n  const force = true;\n\n  if (typeof root._bokeh_onload_callbacks === \"undefined\" || force === true) {\n    root._bokeh_onload_callbacks = [];\n    root._bokeh_is_loading = undefined;\n  }\n\n\n  if (typeof (root._bokeh_timeout) === \"undefined\" || force === true) {\n    root._bokeh_timeout = Date.now() + 5000;\n    root._bokeh_failed_load = false;\n  }\n\n  const NB_LOAD_WARNING = {'data': {'text/html':\n     \"<div style='background-color: #fdd'>\\n\"+\n     \"<p>\\n\"+\n     \"BokehJS does not appear to have successfully loaded. If loading BokehJS from CDN, this \\n\"+\n     \"may be due to a slow or bad network connection. Possible fixes:\\n\"+\n     \"</p>\\n\"+\n     \"<ul>\\n\"+\n     \"<li>re-rerun `output_notebook()` to attempt to load from CDN again, or</li>\\n\"+\n     \"<li>use INLINE resources instead, as so:</li>\\n\"+\n     \"</ul>\\n\"+\n     \"<code>\\n\"+\n     \"from bokeh.resources import INLINE\\n\"+\n     \"output_notebook(resources=INLINE)\\n\"+\n     \"</code>\\n\"+\n     \"</div>\"}};\n\n  function display_loaded() {\n    const el = document.getElementById(\"d5acade1-509a-4d2c-abf1-0142699702a9\");\n    if (el != null) {\n      el.textContent = \"BokehJS is loading...\";\n    }\n    if (root.Bokeh !== undefined) {\n      if (el != null) {\n        el.textContent = \"BokehJS \" + root.Bokeh.version + \" successfully loaded.\";\n      }\n    } else if (Date.now() < root._bokeh_timeout) {\n      setTimeout(display_loaded, 100)\n    }\n  }\n\n  function run_callbacks() {\n    try {\n      root._bokeh_onload_callbacks.forEach(function(callback) {\n        if (callback != null)\n          callback();\n      });\n    } finally {\n      delete root._bokeh_onload_callbacks\n    }\n    console.debug(\"Bokeh: all callbacks have finished\");\n  }\n\n  function load_libs(css_urls, js_urls, callback) {\n    if (css_urls == null) css_urls = [];\n    if (js_urls == null) js_urls = [];\n\n    root._bokeh_onload_callbacks.push(callback);\n    if (root._bokeh_is_loading > 0) {\n      console.debug(\"Bokeh: BokehJS is being loaded, scheduling callback at\", now());\n      return null;\n    }\n    if (js_urls == null || js_urls.length === 0) {\n      run_callbacks();\n      return null;\n    }\n    console.debug(\"Bokeh: BokehJS not loaded, scheduling load and callback at\", now());\n    root._bokeh_is_loading = css_urls.length + js_urls.length;\n\n    function on_load() {\n      root._bokeh_is_loading--;\n      if (root._bokeh_is_loading === 0) {\n        console.debug(\"Bokeh: all BokehJS libraries/stylesheets loaded\");\n        run_callbacks()\n      }\n    }\n\n    function on_error(url) {\n      console.error(\"failed to load \" + url);\n    }\n\n    for (let i = 0; i < css_urls.length; i++) {\n      const url = css_urls[i];\n      const element = document.createElement(\"link\");\n      element.onload = on_load;\n      element.onerror = on_error.bind(null, url);\n      element.rel = \"stylesheet\";\n      element.type = \"text/css\";\n      element.href = url;\n      console.debug(\"Bokeh: injecting link tag for BokehJS stylesheet: \", url);\n      document.body.appendChild(element);\n    }\n\n    for (let i = 0; i < js_urls.length; i++) {\n      const url = js_urls[i];\n      const element = document.createElement('script');\n      element.onload = on_load;\n      element.onerror = on_error.bind(null, url);\n      element.async = false;\n      element.src = url;\n      console.debug(\"Bokeh: injecting script tag for BokehJS library: \", url);\n      document.head.appendChild(element);\n    }\n  };\n\n  function inject_raw_css(css) {\n    const element = document.createElement(\"style\");\n    element.appendChild(document.createTextNode(css));\n    document.body.appendChild(element);\n  }\n\n  const js_urls = [\"https://cdn.bokeh.org/bokeh/release/bokeh-3.3.4.min.js\", \"https://cdn.bokeh.org/bokeh/release/bokeh-gl-3.3.4.min.js\", \"https://cdn.bokeh.org/bokeh/release/bokeh-widgets-3.3.4.min.js\", \"https://cdn.bokeh.org/bokeh/release/bokeh-tables-3.3.4.min.js\", \"https://cdn.bokeh.org/bokeh/release/bokeh-mathjax-3.3.4.min.js\"];\n  const css_urls = [];\n\n  const inline_js = [    function(Bokeh) {\n      Bokeh.set_log_level(\"info\");\n    },\nfunction(Bokeh) {\n    }\n  ];\n\n  function run_inline_js() {\n    if (root.Bokeh !== undefined || force === true) {\n          for (let i = 0; i < inline_js.length; i++) {\n      inline_js[i].call(root, root.Bokeh);\n    }\nif (force === true) {\n        display_loaded();\n      }} else if (Date.now() < root._bokeh_timeout) {\n      setTimeout(run_inline_js, 100);\n    } else if (!root._bokeh_failed_load) {\n      console.log(\"Bokeh: BokehJS failed to load within specified timeout.\");\n      root._bokeh_failed_load = true;\n    } else if (force !== true) {\n      const cell = $(document.getElementById(\"d5acade1-509a-4d2c-abf1-0142699702a9\")).parents('.cell').data().cell;\n      cell.output_area.append_execute_result(NB_LOAD_WARNING)\n    }\n  }\n\n  if (root._bokeh_is_loading === 0) {\n    console.debug(\"Bokeh: BokehJS loaded, going straight to plotting\");\n    run_inline_js();\n  } else {\n    load_libs(css_urls, js_urls, function() {\n      console.debug(\"Bokeh: BokehJS plotting callback run at\", now());\n      run_inline_js();\n    });\n  }\n}(window));"
     },
     "metadata": {},
     "output_type": "display_data"
    },
    {
     "name": "stderr",
     "output_type": "stream",
     "text": [
      "/opt/conda/miniconda3/lib/python3.10/site-packages/hailtop/aiocloud/aiogoogle/user_config.py:43: UserWarning:\n",
      "\n",
      "Reading spark-defaults.conf to determine GCS requester pays configuration. This is deprecated. Please use `hailctl config set gcs_requester_pays/project` and `hailctl config set gcs_requester_pays/buckets`.\n",
      "\n",
      "Setting default log level to \"WARN\".\n",
      "To adjust logging level use sc.setLogLevel(newLevel). For SparkR, use setLogLevel(newLevel).\n"
     ]
    },
    {
     "name": "stdout",
     "output_type": "stream",
     "text": [
      "SPARKMONITOR_LISTENER: Started SparkListener for Jupyter Notebook\n",
      "SPARKMONITOR_LISTENER: Port obtained from environment: 42687\n",
      "SPARKMONITOR_LISTENER: Application Started: application_1729004182107_0001 ...Start Time: 1729005302662\n"
     ]
    },
    {
     "name": "stderr",
     "output_type": "stream",
     "text": [
      "Running on Apache Spark version 3.3.2\n",
      "SparkUI available at http://tboltz-m.us-central1-c.c.neale-pumas-bge.internal:38903\n",
      "Welcome to\n",
      "     __  __     <>__\n",
      "    / /_/ /__  __/ /\n",
      "   / __  / _ `/ / /\n",
      "  /_/ /_/\\_,_/_/_/   version 0.2.130-bea04d9c79b5\n",
      "LOGGING: writing to /home/hail/hail-20241015-1514-0.2.130-bea04d9c79b5.log\n"
     ]
    }
   ],
   "source": [
    "import hail as hl\n",
    "hl.init(spark_conf={'spark.driver.memory': '128g'})\n",
    "import pandas as pd"
   ]
  },
  {
   "cell_type": "code",
   "execution_count": 2,
   "id": "7a18c10a",
   "metadata": {},
   "outputs": [
    {
     "name": "stderr",
     "output_type": "stream",
     "text": [
      "2024-10-15 15:15:24.199 Hail: INFO: Reading table to impute column types 1) / 1]\n",
      "2024-10-15 15:15:27.429 Hail: INFO: Finished type imputation        (0 + 1) / 1]\n",
      "  Loading field 'PROJECT' as type str (imputed)\n",
      "  Loading field 'SUBJECT_ID' as type str (imputed)\n",
      "  Loading field 'DATA_TYPE' as type str (imputed)\n",
      "  Loading field 'PRIMARY_DISEASE' as type str (imputed)\n",
      "  Loading field 'AGE_UNSPECIFIED' as type str (imputed)\n",
      "  Loading field 'RACE_ETHNICITY' as type str (imputed)\n",
      "  Loading field 'DISEASE_DESCRIPTION' as type str (imputed)\n",
      "  Loading field 'VERSION' as type int32 (imputed)\n",
      "  Loading field 'TERRA_WORKSPACE' as type str (imputed)\n",
      "  Loading field 'INVESTIGATOR' as type str (imputed)\n",
      "  Loading field 'EXTERNAL_PI' as type str (imputed)\n",
      "  Loading field 'COHORT' as type str (imputed)\n",
      "  Loading field 'ORSP_CG' as type str (imputed)\n",
      "  Loading field 'CONSENT' as type str (imputed)\n",
      "  Loading field 'SEQ_ID' as type str (imputed)\n",
      "  Loading field 'COLLABORATOR_PARTICIPANT_ID' as type str (imputed)\n",
      "  Loading field 'SM_ID' as type str (imputed)\n",
      "  Loading field 'PDO' as type str (imputed)\n",
      "  Loading field 'CAPTURE' as type str (imputed)\n",
      "  Loading field 'SEX' as type str (imputed)\n",
      "  Loading field 'CRAM' as type str (imputed)\n",
      "  Loading field 'GVCF' as type str (imputed)\n",
      "  Loading field 'ROLE' as type str (imputed)\n",
      "  Loading field 'COVERAGE_MET' as type str (imputed)\n",
      "  Loading field 'CHIMERA' as type float64 (imputed)\n",
      "  Loading field 'CONTAMINATION' as type float64 (imputed)\n",
      "  Loading field 'CALLSET' as type str (imputed)\n",
      "  Loading field '' as type bool (imputed)\n"
     ]
    },
    {
     "data": {
      "text/html": [
       "<table><thead><tr><td style=\"white-space: nowrap; max-width: 500px; overflow: hidden; text-overflow: ellipsis; \" colspan=\"1\"><div style=\"text-align: left;\"></div></td><td style=\"white-space: nowrap; max-width: 500px; overflow: hidden; text-overflow: ellipsis; \" colspan=\"1\"><div style=\"text-align: left;\"></div></td><td style=\"white-space: nowrap; max-width: 500px; overflow: hidden; text-overflow: ellipsis; \" colspan=\"1\"><div style=\"text-align: left;\"></div></td><td style=\"white-space: nowrap; max-width: 500px; overflow: hidden; text-overflow: ellipsis; \" colspan=\"1\"><div style=\"text-align: left;\"></div></td><td style=\"white-space: nowrap; max-width: 500px; overflow: hidden; text-overflow: ellipsis; \" colspan=\"1\"><div style=\"text-align: left;\"></div></td><td style=\"white-space: nowrap; max-width: 500px; overflow: hidden; text-overflow: ellipsis; \" colspan=\"1\"><div style=\"text-align: left;\"></div></td><td style=\"white-space: nowrap; max-width: 500px; overflow: hidden; text-overflow: ellipsis; \" colspan=\"1\"><div style=\"text-align: left;\"></div></td><td style=\"white-space: nowrap; max-width: 500px; overflow: hidden; text-overflow: ellipsis; \" colspan=\"1\"><div style=\"text-align: left;\"></div></td><td style=\"white-space: nowrap; max-width: 500px; overflow: hidden; text-overflow: ellipsis; \" colspan=\"1\"><div style=\"text-align: left;\"></div></td><td style=\"white-space: nowrap; max-width: 500px; overflow: hidden; text-overflow: ellipsis; \" colspan=\"1\"><div style=\"text-align: left;\"></div></td><td style=\"white-space: nowrap; max-width: 500px; overflow: hidden; text-overflow: ellipsis; \" colspan=\"1\"><div style=\"text-align: left;\"></div></td><td style=\"white-space: nowrap; max-width: 500px; overflow: hidden; text-overflow: ellipsis; \" colspan=\"1\"><div style=\"text-align: left;\"></div></td><td style=\"white-space: nowrap; max-width: 500px; overflow: hidden; text-overflow: ellipsis; \" colspan=\"1\"><div style=\"text-align: left;\"></div></td><td style=\"white-space: nowrap; max-width: 500px; overflow: hidden; text-overflow: ellipsis; \" colspan=\"1\"><div style=\"text-align: left;\"></div></td><td style=\"white-space: nowrap; max-width: 500px; overflow: hidden; text-overflow: ellipsis; \" colspan=\"1\"><div style=\"text-align: left;\"></div></td><td style=\"white-space: nowrap; max-width: 500px; overflow: hidden; text-overflow: ellipsis; \" colspan=\"1\"><div style=\"text-align: left;\"></div></td><td style=\"white-space: nowrap; max-width: 500px; overflow: hidden; text-overflow: ellipsis; \" colspan=\"1\"><div style=\"text-align: left;\"></div></td><td style=\"white-space: nowrap; max-width: 500px; overflow: hidden; text-overflow: ellipsis; \" colspan=\"1\"><div style=\"text-align: left;\"></div></td><td style=\"white-space: nowrap; max-width: 500px; overflow: hidden; text-overflow: ellipsis; \" colspan=\"1\"><div style=\"text-align: left;\"></div></td><td style=\"white-space: nowrap; max-width: 500px; overflow: hidden; text-overflow: ellipsis; \" colspan=\"1\"><div style=\"text-align: left;\"></div></td><td style=\"white-space: nowrap; max-width: 500px; overflow: hidden; text-overflow: ellipsis; \" colspan=\"1\"><div style=\"text-align: left;\"></div></td><td style=\"white-space: nowrap; max-width: 500px; overflow: hidden; text-overflow: ellipsis; \" colspan=\"1\"><div style=\"text-align: left;\"></div></td><td style=\"white-space: nowrap; max-width: 500px; overflow: hidden; text-overflow: ellipsis; \" colspan=\"1\"><div style=\"text-align: left;\"></div></td><td style=\"white-space: nowrap; max-width: 500px; overflow: hidden; text-overflow: ellipsis; \" colspan=\"1\"><div style=\"text-align: left;\"></div></td><td style=\"white-space: nowrap; max-width: 500px; overflow: hidden; text-overflow: ellipsis; \" colspan=\"1\"><div style=\"text-align: left;\"></div></td><td style=\"white-space: nowrap; max-width: 500px; overflow: hidden; text-overflow: ellipsis; \" colspan=\"1\"><div style=\"text-align: left;\"></div></td><td style=\"white-space: nowrap; max-width: 500px; overflow: hidden; text-overflow: ellipsis; \" colspan=\"1\"><div style=\"text-align: left;\"></div></td><td style=\"white-space: nowrap; max-width: 500px; overflow: hidden; text-overflow: ellipsis; \" colspan=\"1\"><div style=\"text-align: left;\"></div></td></tr><tr><td style=\"white-space: nowrap; max-width: 500px; overflow: hidden; text-overflow: ellipsis; \" colspan=\"1\"><div style=\"text-align: left;border-bottom: solid 2px #000; padding-bottom: 5px\">PROJECT</div></td><td style=\"white-space: nowrap; max-width: 500px; overflow: hidden; text-overflow: ellipsis; \" colspan=\"1\"><div style=\"text-align: left;border-bottom: solid 2px #000; padding-bottom: 5px\">SUBJECT_ID</div></td><td style=\"white-space: nowrap; max-width: 500px; overflow: hidden; text-overflow: ellipsis; \" colspan=\"1\"><div style=\"text-align: left;border-bottom: solid 2px #000; padding-bottom: 5px\">DATA_TYPE</div></td><td style=\"white-space: nowrap; max-width: 500px; overflow: hidden; text-overflow: ellipsis; \" colspan=\"1\"><div style=\"text-align: left;border-bottom: solid 2px #000; padding-bottom: 5px\">PRIMARY_DISEASE</div></td><td style=\"white-space: nowrap; max-width: 500px; overflow: hidden; text-overflow: ellipsis; \" colspan=\"1\"><div style=\"text-align: left;border-bottom: solid 2px #000; padding-bottom: 5px\">AGE_UNSPECIFIED</div></td><td style=\"white-space: nowrap; max-width: 500px; overflow: hidden; text-overflow: ellipsis; \" colspan=\"1\"><div style=\"text-align: left;border-bottom: solid 2px #000; padding-bottom: 5px\">RACE_ETHNICITY</div></td><td style=\"white-space: nowrap; max-width: 500px; overflow: hidden; text-overflow: ellipsis; \" colspan=\"1\"><div style=\"text-align: left;border-bottom: solid 2px #000; padding-bottom: 5px\">DISEASE_DESCRIPTION</div></td><td style=\"white-space: nowrap; max-width: 500px; overflow: hidden; text-overflow: ellipsis; \" colspan=\"1\"><div style=\"text-align: left;border-bottom: solid 2px #000; padding-bottom: 5px\">VERSION</div></td><td style=\"white-space: nowrap; max-width: 500px; overflow: hidden; text-overflow: ellipsis; \" colspan=\"1\"><div style=\"text-align: left;border-bottom: solid 2px #000; padding-bottom: 5px\">TERRA_WORKSPACE</div></td><td style=\"white-space: nowrap; max-width: 500px; overflow: hidden; text-overflow: ellipsis; \" colspan=\"1\"><div style=\"text-align: left;border-bottom: solid 2px #000; padding-bottom: 5px\">INVESTIGATOR</div></td><td style=\"white-space: nowrap; max-width: 500px; overflow: hidden; text-overflow: ellipsis; \" colspan=\"1\"><div style=\"text-align: left;border-bottom: solid 2px #000; padding-bottom: 5px\">EXTERNAL_PI</div></td><td style=\"white-space: nowrap; max-width: 500px; overflow: hidden; text-overflow: ellipsis; \" colspan=\"1\"><div style=\"text-align: left;border-bottom: solid 2px #000; padding-bottom: 5px\">COHORT</div></td><td style=\"white-space: nowrap; max-width: 500px; overflow: hidden; text-overflow: ellipsis; \" colspan=\"1\"><div style=\"text-align: left;border-bottom: solid 2px #000; padding-bottom: 5px\">ORSP_CG</div></td><td style=\"white-space: nowrap; max-width: 500px; overflow: hidden; text-overflow: ellipsis; \" colspan=\"1\"><div style=\"text-align: left;border-bottom: solid 2px #000; padding-bottom: 5px\">CONSENT</div></td><td style=\"white-space: nowrap; max-width: 500px; overflow: hidden; text-overflow: ellipsis; \" colspan=\"1\"><div style=\"text-align: left;border-bottom: solid 2px #000; padding-bottom: 5px\">SEQ_ID</div></td><td style=\"white-space: nowrap; max-width: 500px; overflow: hidden; text-overflow: ellipsis; \" colspan=\"1\"><div style=\"text-align: left;border-bottom: solid 2px #000; padding-bottom: 5px\">COLLABORATOR_PARTICIPANT_ID</div></td><td style=\"white-space: nowrap; max-width: 500px; overflow: hidden; text-overflow: ellipsis; \" colspan=\"1\"><div style=\"text-align: left;border-bottom: solid 2px #000; padding-bottom: 5px\">SM_ID</div></td><td style=\"white-space: nowrap; max-width: 500px; overflow: hidden; text-overflow: ellipsis; \" colspan=\"1\"><div style=\"text-align: left;border-bottom: solid 2px #000; padding-bottom: 5px\">PDO</div></td><td style=\"white-space: nowrap; max-width: 500px; overflow: hidden; text-overflow: ellipsis; \" colspan=\"1\"><div style=\"text-align: left;border-bottom: solid 2px #000; padding-bottom: 5px\">CAPTURE</div></td><td style=\"white-space: nowrap; max-width: 500px; overflow: hidden; text-overflow: ellipsis; \" colspan=\"1\"><div style=\"text-align: left;border-bottom: solid 2px #000; padding-bottom: 5px\">SEX</div></td><td style=\"white-space: nowrap; max-width: 500px; overflow: hidden; text-overflow: ellipsis; \" colspan=\"1\"><div style=\"text-align: left;border-bottom: solid 2px #000; padding-bottom: 5px\">CRAM</div></td><td style=\"white-space: nowrap; max-width: 500px; overflow: hidden; text-overflow: ellipsis; \" colspan=\"1\"><div style=\"text-align: left;border-bottom: solid 2px #000; padding-bottom: 5px\">GVCF</div></td><td style=\"white-space: nowrap; max-width: 500px; overflow: hidden; text-overflow: ellipsis; \" colspan=\"1\"><div style=\"text-align: left;border-bottom: solid 2px #000; padding-bottom: 5px\">ROLE</div></td><td style=\"white-space: nowrap; max-width: 500px; overflow: hidden; text-overflow: ellipsis; \" colspan=\"1\"><div style=\"text-align: left;border-bottom: solid 2px #000; padding-bottom: 5px\">COVERAGE_MET</div></td><td style=\"white-space: nowrap; max-width: 500px; overflow: hidden; text-overflow: ellipsis; \" colspan=\"1\"><div style=\"text-align: left;border-bottom: solid 2px #000; padding-bottom: 5px\">CHIMERA</div></td><td style=\"white-space: nowrap; max-width: 500px; overflow: hidden; text-overflow: ellipsis; \" colspan=\"1\"><div style=\"text-align: left;border-bottom: solid 2px #000; padding-bottom: 5px\">CONTAMINATION</div></td><td style=\"white-space: nowrap; max-width: 500px; overflow: hidden; text-overflow: ellipsis; \" colspan=\"1\"><div style=\"text-align: left;border-bottom: solid 2px #000; padding-bottom: 5px\">CALLSET</div></td><td style=\"white-space: nowrap; max-width: 500px; overflow: hidden; text-overflow: ellipsis; \" colspan=\"1\"><div style=\"text-align: left;border-bottom: solid 2px #000; padding-bottom: 5px\"></div></td></tr><tr><td style=\"white-space: nowrap; max-width: 500px; overflow: hidden; text-overflow: ellipsis; text-align: left;\">str</td><td style=\"white-space: nowrap; max-width: 500px; overflow: hidden; text-overflow: ellipsis; text-align: left;\">str</td><td style=\"white-space: nowrap; max-width: 500px; overflow: hidden; text-overflow: ellipsis; text-align: left;\">str</td><td style=\"white-space: nowrap; max-width: 500px; overflow: hidden; text-overflow: ellipsis; text-align: left;\">str</td><td style=\"white-space: nowrap; max-width: 500px; overflow: hidden; text-overflow: ellipsis; text-align: left;\">str</td><td style=\"white-space: nowrap; max-width: 500px; overflow: hidden; text-overflow: ellipsis; text-align: left;\">str</td><td style=\"white-space: nowrap; max-width: 500px; overflow: hidden; text-overflow: ellipsis; text-align: left;\">str</td><td style=\"white-space: nowrap; max-width: 500px; overflow: hidden; text-overflow: ellipsis; text-align: left;\">int32</td><td style=\"white-space: nowrap; max-width: 500px; overflow: hidden; text-overflow: ellipsis; text-align: left;\">str</td><td style=\"white-space: nowrap; max-width: 500px; overflow: hidden; text-overflow: ellipsis; text-align: left;\">str</td><td style=\"white-space: nowrap; max-width: 500px; overflow: hidden; text-overflow: ellipsis; text-align: left;\">str</td><td style=\"white-space: nowrap; max-width: 500px; overflow: hidden; text-overflow: ellipsis; text-align: left;\">str</td><td style=\"white-space: nowrap; max-width: 500px; overflow: hidden; text-overflow: ellipsis; text-align: left;\">str</td><td style=\"white-space: nowrap; max-width: 500px; overflow: hidden; text-overflow: ellipsis; text-align: left;\">str</td><td style=\"white-space: nowrap; max-width: 500px; overflow: hidden; text-overflow: ellipsis; text-align: left;\">str</td><td style=\"white-space: nowrap; max-width: 500px; overflow: hidden; text-overflow: ellipsis; text-align: left;\">str</td><td style=\"white-space: nowrap; max-width: 500px; overflow: hidden; text-overflow: ellipsis; text-align: left;\">str</td><td style=\"white-space: nowrap; max-width: 500px; overflow: hidden; text-overflow: ellipsis; text-align: left;\">str</td><td style=\"white-space: nowrap; max-width: 500px; overflow: hidden; text-overflow: ellipsis; text-align: left;\">str</td><td style=\"white-space: nowrap; max-width: 500px; overflow: hidden; text-overflow: ellipsis; text-align: left;\">str</td><td style=\"white-space: nowrap; max-width: 500px; overflow: hidden; text-overflow: ellipsis; text-align: left;\">str</td><td style=\"white-space: nowrap; max-width: 500px; overflow: hidden; text-overflow: ellipsis; text-align: left;\">str</td><td style=\"white-space: nowrap; max-width: 500px; overflow: hidden; text-overflow: ellipsis; text-align: left;\">str</td><td style=\"white-space: nowrap; max-width: 500px; overflow: hidden; text-overflow: ellipsis; text-align: left;\">str</td><td style=\"white-space: nowrap; max-width: 500px; overflow: hidden; text-overflow: ellipsis; text-align: left;\">float64</td><td style=\"white-space: nowrap; max-width: 500px; overflow: hidden; text-overflow: ellipsis; text-align: left;\">float64</td><td style=\"white-space: nowrap; max-width: 500px; overflow: hidden; text-overflow: ellipsis; text-align: left;\">str</td><td style=\"white-space: nowrap; max-width: 500px; overflow: hidden; text-overflow: ellipsis; text-align: left;\">bool</td></tr>\n",
       "</thead><tbody><tr><td style=\"white-space: nowrap; max-width: 500px; overflow: hidden; text-overflow: ellipsis; \">&quot;RP-2720.PDO-30182&quot;</td><td style=\"white-space: nowrap; max-width: 500px; overflow: hidden; text-overflow: ellipsis; \">&quot;ZC0M7700HA&quot;</td><td style=\"white-space: nowrap; max-width: 500px; overflow: hidden; text-overflow: ellipsis; \">&quot;BGE&quot;</td><td style=\"white-space: nowrap; max-width: 500px; overflow: hidden; text-overflow: ellipsis; \">&quot;Control&quot;</td><td style=\"white-space: nowrap; max-width: 500px; overflow: hidden; text-overflow: ellipsis; \">&quot;69&quot;</td><td style=\"white-space: nowrap; max-width: 500px; overflow: hidden; text-overflow: ellipsis; \">&quot;Han Chinese&quot;</td><td style=\"white-space: nowrap; max-width: 500px; overflow: hidden; text-overflow: ellipsis; \">&quot;SCZ_BP&quot;</td><td style=\"white-space: nowrap; max-width: 500px; overflow: hidden; text-overflow: ellipsis; \">1</td><td style=\"white-space: nowrap; max-width: 500px; overflow: hidden; text-overflow: ellipsis; \">&quot;BioX_Huang_Qin_Controls_BGE&quot;</td><td style=\"white-space: nowrap; max-width: 500px; overflow: hidden; text-overflow: ellipsis; \">&quot;Huang&quot;</td><td style=\"white-space: nowrap; max-width: 500px; overflow: hidden; text-overflow: ellipsis; \">&quot;Qin&quot;</td><td style=\"white-space: nowrap; max-width: 500px; overflow: hidden; text-overflow: ellipsis; \">&quot;BioX_Huang_Qin&quot;</td><td style=\"white-space: nowrap; max-width: 500px; overflow: hidden; text-overflow: ellipsis; \">&quot;CG-4783&quot;</td><td style=\"white-space: nowrap; max-width: 500px; overflow: hidden; text-overflow: ellipsis; \">&quot;HMB&quot;</td><td style=\"white-space: nowrap; max-width: 500px; overflow: hidden; text-overflow: ellipsis; \">&quot;RP-2720.PDO-30182_ZC0M7700HA&quot;</td><td style=\"white-space: nowrap; max-width: 500px; overflow: hidden; text-overflow: ellipsis; \">&quot;ZC0M7700HA&quot;</td><td style=\"white-space: nowrap; max-width: 500px; overflow: hidden; text-overflow: ellipsis; \">&quot;SM-JENFT&quot;</td><td style=\"white-space: nowrap; max-width: 500px; overflow: hidden; text-overflow: ellipsis; \">&quot;PDO-30182&quot;</td><td style=\"white-space: nowrap; max-width: 500px; overflow: hidden; text-overflow: ellipsis; \">&quot;broad_custom_exome_v1&quot;</td><td style=\"white-space: nowrap; max-width: 500px; overflow: hidden; text-overflow: ellipsis; \">&quot;Male&quot;</td><td style=\"white-space: nowrap; max-width: 500px; overflow: hidden; text-overflow: ellipsis; \">&quot;gs://fc-b6f39c83-8af2-4152-8360-0c873d74e5d6/BioX_Huang_Qin_Controls_BGE/RP-2720.PDO-30182/Exome/ZC0M7700HA/v1/ZC0M7700HA.cram&quot;</td><td style=\"white-space: nowrap; max-width: 500px; overflow: hidden; text-overflow: ellipsis; \">&quot;gs://fc-b6f39c83-8af2-4152-8360-0c873d74e5d6/BioX_Huang_Qin_Controls_BGE/gvcfs/ZC0M7700HA.v1.7c0ed31b-c68d-425b-ab44-72d4a654a0c4.rb.g.vcf.gz&quot;</td><td style=\"white-space: nowrap; max-width: 500px; overflow: hidden; text-overflow: ellipsis; \">&quot;Control&quot;</td><td style=\"white-space: nowrap; max-width: 500px; overflow: hidden; text-overflow: ellipsis; \">NA</td><td style=\"white-space: nowrap; max-width: 500px; overflow: hidden; text-overflow: ellipsis; \">2.79e+00</td><td style=\"white-space: nowrap; max-width: 500px; overflow: hidden; text-overflow: ellipsis; \">8.00e-02</td><td style=\"white-space: nowrap; max-width: 500px; overflow: hidden; text-overflow: ellipsis; \">&quot;&quot;</td><td style=\"white-space: nowrap; max-width: 500px; overflow: hidden; text-overflow: ellipsis; \">True</td></tr>\n",
       "<tr><td style=\"white-space: nowrap; max-width: 500px; overflow: hidden; text-overflow: ellipsis; \">&quot;RP-2720.PDO-30182&quot;</td><td style=\"white-space: nowrap; max-width: 500px; overflow: hidden; text-overflow: ellipsis; \">&quot;JF1E0324SR&quot;</td><td style=\"white-space: nowrap; max-width: 500px; overflow: hidden; text-overflow: ellipsis; \">&quot;BGE&quot;</td><td style=\"white-space: nowrap; max-width: 500px; overflow: hidden; text-overflow: ellipsis; \">&quot;Control&quot;</td><td style=\"white-space: nowrap; max-width: 500px; overflow: hidden; text-overflow: ellipsis; \">&quot;32&quot;</td><td style=\"white-space: nowrap; max-width: 500px; overflow: hidden; text-overflow: ellipsis; \">&quot;Han Chinese&quot;</td><td style=\"white-space: nowrap; max-width: 500px; overflow: hidden; text-overflow: ellipsis; \">&quot;SCZ_BP&quot;</td><td style=\"white-space: nowrap; max-width: 500px; overflow: hidden; text-overflow: ellipsis; \">1</td><td style=\"white-space: nowrap; max-width: 500px; overflow: hidden; text-overflow: ellipsis; \">&quot;BioX_Huang_Qin_Controls_BGE&quot;</td><td style=\"white-space: nowrap; max-width: 500px; overflow: hidden; text-overflow: ellipsis; \">&quot;Huang&quot;</td><td style=\"white-space: nowrap; max-width: 500px; overflow: hidden; text-overflow: ellipsis; \">&quot;Qin&quot;</td><td style=\"white-space: nowrap; max-width: 500px; overflow: hidden; text-overflow: ellipsis; \">&quot;BioX_Huang_Qin&quot;</td><td style=\"white-space: nowrap; max-width: 500px; overflow: hidden; text-overflow: ellipsis; \">&quot;CG-4783&quot;</td><td style=\"white-space: nowrap; max-width: 500px; overflow: hidden; text-overflow: ellipsis; \">&quot;HMB&quot;</td><td style=\"white-space: nowrap; max-width: 500px; overflow: hidden; text-overflow: ellipsis; \">&quot;RP-2720.PDO-30182_JF1E0324SR&quot;</td><td style=\"white-space: nowrap; max-width: 500px; overflow: hidden; text-overflow: ellipsis; \">&quot;JF1E0324SR&quot;</td><td style=\"white-space: nowrap; max-width: 500px; overflow: hidden; text-overflow: ellipsis; \">&quot;SM-JEM75&quot;</td><td style=\"white-space: nowrap; max-width: 500px; overflow: hidden; text-overflow: ellipsis; \">&quot;PDO-30182&quot;</td><td style=\"white-space: nowrap; max-width: 500px; overflow: hidden; text-overflow: ellipsis; \">&quot;broad_custom_exome_v1&quot;</td><td style=\"white-space: nowrap; max-width: 500px; overflow: hidden; text-overflow: ellipsis; \">&quot;Male&quot;</td><td style=\"white-space: nowrap; max-width: 500px; overflow: hidden; text-overflow: ellipsis; \">&quot;gs://fc-b6f39c83-8af2-4152-8360-0c873d74e5d6/BioX_Huang_Qin_Controls_BGE/RP-2720.PDO-30182/Exome/JF1E0324SR/v1/JF1E0324SR.cram&quot;</td><td style=\"white-space: nowrap; max-width: 500px; overflow: hidden; text-overflow: ellipsis; \">&quot;gs://fc-b6f39c83-8af2-4152-8360-0c873d74e5d6/BioX_Huang_Qin_Controls_BGE/gvcfs/JF1E0324SR.v1.567358ee-8aa7-47e7-a1c0-80c57059b055.rb.g.vcf.gz&quot;</td><td style=\"white-space: nowrap; max-width: 500px; overflow: hidden; text-overflow: ellipsis; \">&quot;Control&quot;</td><td style=\"white-space: nowrap; max-width: 500px; overflow: hidden; text-overflow: ellipsis; \">&quot;2023-03-20&quot;</td><td style=\"white-space: nowrap; max-width: 500px; overflow: hidden; text-overflow: ellipsis; \">3.17e+00</td><td style=\"white-space: nowrap; max-width: 500px; overflow: hidden; text-overflow: ellipsis; \">1.20e-01</td><td style=\"white-space: nowrap; max-width: 500px; overflow: hidden; text-overflow: ellipsis; \">&quot;&quot;</td><td style=\"white-space: nowrap; max-width: 500px; overflow: hidden; text-overflow: ellipsis; \">True</td></tr>\n",
       "<tr><td style=\"white-space: nowrap; max-width: 500px; overflow: hidden; text-overflow: ellipsis; \">&quot;RP-2720.PDO-30182&quot;</td><td style=\"white-space: nowrap; max-width: 500px; overflow: hidden; text-overflow: ellipsis; \">&quot;ZC050174WH&quot;</td><td style=\"white-space: nowrap; max-width: 500px; overflow: hidden; text-overflow: ellipsis; \">&quot;BGE&quot;</td><td style=\"white-space: nowrap; max-width: 500px; overflow: hidden; text-overflow: ellipsis; \">&quot;Control&quot;</td><td style=\"white-space: nowrap; max-width: 500px; overflow: hidden; text-overflow: ellipsis; \">&quot;48&quot;</td><td style=\"white-space: nowrap; max-width: 500px; overflow: hidden; text-overflow: ellipsis; \">&quot;Asian&quot;</td><td style=\"white-space: nowrap; max-width: 500px; overflow: hidden; text-overflow: ellipsis; \">&quot;SCZ_BP&quot;</td><td style=\"white-space: nowrap; max-width: 500px; overflow: hidden; text-overflow: ellipsis; \">1</td><td style=\"white-space: nowrap; max-width: 500px; overflow: hidden; text-overflow: ellipsis; \">&quot;BioX_Huang_Qin_Controls_BGE&quot;</td><td style=\"white-space: nowrap; max-width: 500px; overflow: hidden; text-overflow: ellipsis; \">&quot;Huang&quot;</td><td style=\"white-space: nowrap; max-width: 500px; overflow: hidden; text-overflow: ellipsis; \">&quot;Qin&quot;</td><td style=\"white-space: nowrap; max-width: 500px; overflow: hidden; text-overflow: ellipsis; \">&quot;BioX_Huang_Qin&quot;</td><td style=\"white-space: nowrap; max-width: 500px; overflow: hidden; text-overflow: ellipsis; \">&quot;CG-4783&quot;</td><td style=\"white-space: nowrap; max-width: 500px; overflow: hidden; text-overflow: ellipsis; \">&quot;HMB&quot;</td><td style=\"white-space: nowrap; max-width: 500px; overflow: hidden; text-overflow: ellipsis; \">&quot;RP-2720.PDO-30182_ZC050174WH&quot;</td><td style=\"white-space: nowrap; max-width: 500px; overflow: hidden; text-overflow: ellipsis; \">&quot;ZC050174WH&quot;</td><td style=\"white-space: nowrap; max-width: 500px; overflow: hidden; text-overflow: ellipsis; \">&quot;SM-G934P&quot;</td><td style=\"white-space: nowrap; max-width: 500px; overflow: hidden; text-overflow: ellipsis; \">&quot;PDO-30182&quot;</td><td style=\"white-space: nowrap; max-width: 500px; overflow: hidden; text-overflow: ellipsis; \">&quot;broad_custom_exome_v1&quot;</td><td style=\"white-space: nowrap; max-width: 500px; overflow: hidden; text-overflow: ellipsis; \">&quot;Female&quot;</td><td style=\"white-space: nowrap; max-width: 500px; overflow: hidden; text-overflow: ellipsis; \">&quot;gs://fc-b6f39c83-8af2-4152-8360-0c873d74e5d6/BioX_Huang_Qin_Controls_BGE/RP-2720.PDO-30182/Exome/ZC050174WH/v1/ZC050174WH.cram&quot;</td><td style=\"white-space: nowrap; max-width: 500px; overflow: hidden; text-overflow: ellipsis; \">&quot;gs://fc-b6f39c83-8af2-4152-8360-0c873d74e5d6/BioX_Huang_Qin_Controls_BGE/gvcfs/ZC050174WH.v1.717ddc81-d24c-49e8-a56d-35afa415c51c.rb.g.vcf.gz&quot;</td><td style=\"white-space: nowrap; max-width: 500px; overflow: hidden; text-overflow: ellipsis; \">&quot;Control&quot;</td><td style=\"white-space: nowrap; max-width: 500px; overflow: hidden; text-overflow: ellipsis; \">&quot;2023-03-21&quot;</td><td style=\"white-space: nowrap; max-width: 500px; overflow: hidden; text-overflow: ellipsis; \">1.63e+00</td><td style=\"white-space: nowrap; max-width: 500px; overflow: hidden; text-overflow: ellipsis; \">4.00e-02</td><td style=\"white-space: nowrap; max-width: 500px; overflow: hidden; text-overflow: ellipsis; \">&quot;&quot;</td><td style=\"white-space: nowrap; max-width: 500px; overflow: hidden; text-overflow: ellipsis; \">True</td></tr>\n",
       "<tr><td style=\"white-space: nowrap; max-width: 500px; overflow: hidden; text-overflow: ellipsis; \">&quot;RP-2720.PDO-30182&quot;</td><td style=\"white-space: nowrap; max-width: 500px; overflow: hidden; text-overflow: ellipsis; \">&quot;ZC0M7701HA&quot;</td><td style=\"white-space: nowrap; max-width: 500px; overflow: hidden; text-overflow: ellipsis; \">&quot;BGE&quot;</td><td style=\"white-space: nowrap; max-width: 500px; overflow: hidden; text-overflow: ellipsis; \">&quot;Control&quot;</td><td style=\"white-space: nowrap; max-width: 500px; overflow: hidden; text-overflow: ellipsis; \">&quot;71&quot;</td><td style=\"white-space: nowrap; max-width: 500px; overflow: hidden; text-overflow: ellipsis; \">&quot;Han Chinese&quot;</td><td style=\"white-space: nowrap; max-width: 500px; overflow: hidden; text-overflow: ellipsis; \">&quot;SCZ_BP&quot;</td><td style=\"white-space: nowrap; max-width: 500px; overflow: hidden; text-overflow: ellipsis; \">1</td><td style=\"white-space: nowrap; max-width: 500px; overflow: hidden; text-overflow: ellipsis; \">&quot;BioX_Huang_Qin_Controls_BGE&quot;</td><td style=\"white-space: nowrap; max-width: 500px; overflow: hidden; text-overflow: ellipsis; \">&quot;Huang&quot;</td><td style=\"white-space: nowrap; max-width: 500px; overflow: hidden; text-overflow: ellipsis; \">&quot;Qin&quot;</td><td style=\"white-space: nowrap; max-width: 500px; overflow: hidden; text-overflow: ellipsis; \">&quot;BioX_Huang_Qin&quot;</td><td style=\"white-space: nowrap; max-width: 500px; overflow: hidden; text-overflow: ellipsis; \">&quot;CG-4783&quot;</td><td style=\"white-space: nowrap; max-width: 500px; overflow: hidden; text-overflow: ellipsis; \">&quot;HMB&quot;</td><td style=\"white-space: nowrap; max-width: 500px; overflow: hidden; text-overflow: ellipsis; \">&quot;RP-2720.PDO-30182_ZC0M7701HA&quot;</td><td style=\"white-space: nowrap; max-width: 500px; overflow: hidden; text-overflow: ellipsis; \">&quot;ZC0M7701HA&quot;</td><td style=\"white-space: nowrap; max-width: 500px; overflow: hidden; text-overflow: ellipsis; \">&quot;SM-JENFU&quot;</td><td style=\"white-space: nowrap; max-width: 500px; overflow: hidden; text-overflow: ellipsis; \">&quot;PDO-30182&quot;</td><td style=\"white-space: nowrap; max-width: 500px; overflow: hidden; text-overflow: ellipsis; \">&quot;broad_custom_exome_v1&quot;</td><td style=\"white-space: nowrap; max-width: 500px; overflow: hidden; text-overflow: ellipsis; \">&quot;Male&quot;</td><td style=\"white-space: nowrap; max-width: 500px; overflow: hidden; text-overflow: ellipsis; \">&quot;gs://fc-b6f39c83-8af2-4152-8360-0c873d74e5d6/BioX_Huang_Qin_Controls_BGE/RP-2720.PDO-30182/Exome/ZC0M7701HA/v1/ZC0M7701HA.cram&quot;</td><td style=\"white-space: nowrap; max-width: 500px; overflow: hidden; text-overflow: ellipsis; \">&quot;gs://fc-b6f39c83-8af2-4152-8360-0c873d74e5d6/BioX_Huang_Qin_Controls_BGE/gvcfs/ZC0M7701HA.v1.69b828c1-d59e-4131-a15e-f337561c5fc8.rb.g.vcf.gz&quot;</td><td style=\"white-space: nowrap; max-width: 500px; overflow: hidden; text-overflow: ellipsis; \">&quot;Control&quot;</td><td style=\"white-space: nowrap; max-width: 500px; overflow: hidden; text-overflow: ellipsis; \">&quot;2023-03-01&quot;</td><td style=\"white-space: nowrap; max-width: 500px; overflow: hidden; text-overflow: ellipsis; \">2.14e+00</td><td style=\"white-space: nowrap; max-width: 500px; overflow: hidden; text-overflow: ellipsis; \">6.00e-02</td><td style=\"white-space: nowrap; max-width: 500px; overflow: hidden; text-overflow: ellipsis; \">&quot;&quot;</td><td style=\"white-space: nowrap; max-width: 500px; overflow: hidden; text-overflow: ellipsis; \">True</td></tr>\n",
       "<tr><td style=\"white-space: nowrap; max-width: 500px; overflow: hidden; text-overflow: ellipsis; \">&quot;RP-2720.PDO-30182&quot;</td><td style=\"white-space: nowrap; max-width: 500px; overflow: hidden; text-overflow: ellipsis; \">&quot;ZC050152WH&quot;</td><td style=\"white-space: nowrap; max-width: 500px; overflow: hidden; text-overflow: ellipsis; \">&quot;BGE&quot;</td><td style=\"white-space: nowrap; max-width: 500px; overflow: hidden; text-overflow: ellipsis; \">&quot;Control&quot;</td><td style=\"white-space: nowrap; max-width: 500px; overflow: hidden; text-overflow: ellipsis; \">&quot;57&quot;</td><td style=\"white-space: nowrap; max-width: 500px; overflow: hidden; text-overflow: ellipsis; \">&quot;Asian&quot;</td><td style=\"white-space: nowrap; max-width: 500px; overflow: hidden; text-overflow: ellipsis; \">&quot;SCZ_BP&quot;</td><td style=\"white-space: nowrap; max-width: 500px; overflow: hidden; text-overflow: ellipsis; \">1</td><td style=\"white-space: nowrap; max-width: 500px; overflow: hidden; text-overflow: ellipsis; \">&quot;BioX_Huang_Qin_Controls_BGE&quot;</td><td style=\"white-space: nowrap; max-width: 500px; overflow: hidden; text-overflow: ellipsis; \">&quot;Huang&quot;</td><td style=\"white-space: nowrap; max-width: 500px; overflow: hidden; text-overflow: ellipsis; \">&quot;Qin&quot;</td><td style=\"white-space: nowrap; max-width: 500px; overflow: hidden; text-overflow: ellipsis; \">&quot;BioX_Huang_Qin&quot;</td><td style=\"white-space: nowrap; max-width: 500px; overflow: hidden; text-overflow: ellipsis; \">&quot;CG-4783&quot;</td><td style=\"white-space: nowrap; max-width: 500px; overflow: hidden; text-overflow: ellipsis; \">&quot;HMB&quot;</td><td style=\"white-space: nowrap; max-width: 500px; overflow: hidden; text-overflow: ellipsis; \">&quot;RP-2720.PDO-30182_ZC050152WH&quot;</td><td style=\"white-space: nowrap; max-width: 500px; overflow: hidden; text-overflow: ellipsis; \">&quot;ZC050152WH&quot;</td><td style=\"white-space: nowrap; max-width: 500px; overflow: hidden; text-overflow: ellipsis; \">&quot;SM-G7ZGP&quot;</td><td style=\"white-space: nowrap; max-width: 500px; overflow: hidden; text-overflow: ellipsis; \">&quot;PDO-30182&quot;</td><td style=\"white-space: nowrap; max-width: 500px; overflow: hidden; text-overflow: ellipsis; \">&quot;broad_custom_exome_v1&quot;</td><td style=\"white-space: nowrap; max-width: 500px; overflow: hidden; text-overflow: ellipsis; \">&quot;Female&quot;</td><td style=\"white-space: nowrap; max-width: 500px; overflow: hidden; text-overflow: ellipsis; \">&quot;gs://fc-b6f39c83-8af2-4152-8360-0c873d74e5d6/BioX_Huang_Qin_Controls_BGE/RP-2720.PDO-30182/Exome/ZC050152WH/v1/ZC050152WH.cram&quot;</td><td style=\"white-space: nowrap; max-width: 500px; overflow: hidden; text-overflow: ellipsis; \">&quot;gs://fc-b6f39c83-8af2-4152-8360-0c873d74e5d6/BioX_Huang_Qin_Controls_BGE/gvcfs/ZC050152WH.v1.5cd5bbd6-f8a9-463b-a0a7-947822b046ac.rb.g.vcf.gz&quot;</td><td style=\"white-space: nowrap; max-width: 500px; overflow: hidden; text-overflow: ellipsis; \">&quot;Control&quot;</td><td style=\"white-space: nowrap; max-width: 500px; overflow: hidden; text-overflow: ellipsis; \">&quot;2023-03-01&quot;</td><td style=\"white-space: nowrap; max-width: 500px; overflow: hidden; text-overflow: ellipsis; \">1.64e+00</td><td style=\"white-space: nowrap; max-width: 500px; overflow: hidden; text-overflow: ellipsis; \">5.00e-02</td><td style=\"white-space: nowrap; max-width: 500px; overflow: hidden; text-overflow: ellipsis; \">&quot;&quot;</td><td style=\"white-space: nowrap; max-width: 500px; overflow: hidden; text-overflow: ellipsis; \">True</td></tr>\n",
       "</tbody></table><p style=\"background: #fdd; padding: 0.4em;\">showing top 5 rows</p>\n"
      ],
      "text/plain": [
       "+---------------------+--------------+-----------+-----------------+\n",
       "| PROJECT             | SUBJECT_ID   | DATA_TYPE | PRIMARY_DISEASE |\n",
       "+---------------------+--------------+-----------+-----------------+\n",
       "| str                 | str          | str       | str             |\n",
       "+---------------------+--------------+-----------+-----------------+\n",
       "| \"RP-2720.PDO-30182\" | \"ZC0M7700HA\" | \"BGE\"     | \"Control\"       |\n",
       "| \"RP-2720.PDO-30182\" | \"JF1E0324SR\" | \"BGE\"     | \"Control\"       |\n",
       "| \"RP-2720.PDO-30182\" | \"ZC050174WH\" | \"BGE\"     | \"Control\"       |\n",
       "| \"RP-2720.PDO-30182\" | \"ZC0M7701HA\" | \"BGE\"     | \"Control\"       |\n",
       "| \"RP-2720.PDO-30182\" | \"ZC050152WH\" | \"BGE\"     | \"Control\"       |\n",
       "+---------------------+--------------+-----------+-----------------+\n",
       "\n",
       "+-----------------+----------------+---------------------+---------+\n",
       "| AGE_UNSPECIFIED | RACE_ETHNICITY | DISEASE_DESCRIPTION | VERSION |\n",
       "+-----------------+----------------+---------------------+---------+\n",
       "| str             | str            | str                 |   int32 |\n",
       "+-----------------+----------------+---------------------+---------+\n",
       "| \"69\"            | \"Han Chinese\"  | \"SCZ_BP\"            |       1 |\n",
       "| \"32\"            | \"Han Chinese\"  | \"SCZ_BP\"            |       1 |\n",
       "| \"48\"            | \"Asian\"        | \"SCZ_BP\"            |       1 |\n",
       "| \"71\"            | \"Han Chinese\"  | \"SCZ_BP\"            |       1 |\n",
       "| \"57\"            | \"Asian\"        | \"SCZ_BP\"            |       1 |\n",
       "+-----------------+----------------+---------------------+---------+\n",
       "\n",
       "+-------------------------------+--------------+-------------+\n",
       "| TERRA_WORKSPACE               | INVESTIGATOR | EXTERNAL_PI |\n",
       "+-------------------------------+--------------+-------------+\n",
       "| str                           | str          | str         |\n",
       "+-------------------------------+--------------+-------------+\n",
       "| \"BioX_Huang_Qin_Controls_BGE\" | \"Huang\"      | \"Qin\"       |\n",
       "| \"BioX_Huang_Qin_Controls_BGE\" | \"Huang\"      | \"Qin\"       |\n",
       "| \"BioX_Huang_Qin_Controls_BGE\" | \"Huang\"      | \"Qin\"       |\n",
       "| \"BioX_Huang_Qin_Controls_BGE\" | \"Huang\"      | \"Qin\"       |\n",
       "| \"BioX_Huang_Qin_Controls_BGE\" | \"Huang\"      | \"Qin\"       |\n",
       "+-------------------------------+--------------+-------------+\n",
       "\n",
       "+------------------+-----------+---------+--------------------------------+\n",
       "| COHORT           | ORSP_CG   | CONSENT | SEQ_ID                         |\n",
       "+------------------+-----------+---------+--------------------------------+\n",
       "| str              | str       | str     | str                            |\n",
       "+------------------+-----------+---------+--------------------------------+\n",
       "| \"BioX_Huang_Qin\" | \"CG-4783\" | \"HMB\"   | \"RP-2720.PDO-30182_ZC0M7700HA\" |\n",
       "| \"BioX_Huang_Qin\" | \"CG-4783\" | \"HMB\"   | \"RP-2720.PDO-30182_JF1E0324SR\" |\n",
       "| \"BioX_Huang_Qin\" | \"CG-4783\" | \"HMB\"   | \"RP-2720.PDO-30182_ZC050174WH\" |\n",
       "| \"BioX_Huang_Qin\" | \"CG-4783\" | \"HMB\"   | \"RP-2720.PDO-30182_ZC0M7701HA\" |\n",
       "| \"BioX_Huang_Qin\" | \"CG-4783\" | \"HMB\"   | \"RP-2720.PDO-30182_ZC050152WH\" |\n",
       "+------------------+-----------+---------+--------------------------------+\n",
       "\n",
       "+-----------------------------+------------+-------------+\n",
       "| COLLABORATOR_PARTICIPANT_ID | SM_ID      | PDO         |\n",
       "+-----------------------------+------------+-------------+\n",
       "| str                         | str        | str         |\n",
       "+-----------------------------+------------+-------------+\n",
       "| \"ZC0M7700HA\"                | \"SM-JENFT\" | \"PDO-30182\" |\n",
       "| \"JF1E0324SR\"                | \"SM-JEM75\" | \"PDO-30182\" |\n",
       "| \"ZC050174WH\"                | \"SM-G934P\" | \"PDO-30182\" |\n",
       "| \"ZC0M7701HA\"                | \"SM-JENFU\" | \"PDO-30182\" |\n",
       "| \"ZC050152WH\"                | \"SM-G7ZGP\" | \"PDO-30182\" |\n",
       "+-----------------------------+------------+-------------+\n",
       "\n",
       "+-------------------------+----------+\n",
       "| CAPTURE                 | SEX      |\n",
       "+-------------------------+----------+\n",
       "| str                     | str      |\n",
       "+-------------------------+----------+\n",
       "| \"broad_custom_exome_v1\" | \"Male\"   |\n",
       "| \"broad_custom_exome_v1\" | \"Male\"   |\n",
       "| \"broad_custom_exome_v1\" | \"Female\" |\n",
       "| \"broad_custom_exome_v1\" | \"Male\"   |\n",
       "| \"broad_custom_exome_v1\" | \"Female\" |\n",
       "+-------------------------+----------+\n",
       "\n",
       "+------------------------------------------------------------------------------+\n",
       "| CRAM                                                                         |\n",
       "+------------------------------------------------------------------------------+\n",
       "| str                                                                          |\n",
       "+------------------------------------------------------------------------------+\n",
       "| \"gs://fc-b6f39c83-8af2-4152-8360-0c873d74e5d6/BioX_Huang_Qin_Controls_BGE... |\n",
       "| \"gs://fc-b6f39c83-8af2-4152-8360-0c873d74e5d6/BioX_Huang_Qin_Controls_BGE... |\n",
       "| \"gs://fc-b6f39c83-8af2-4152-8360-0c873d74e5d6/BioX_Huang_Qin_Controls_BGE... |\n",
       "| \"gs://fc-b6f39c83-8af2-4152-8360-0c873d74e5d6/BioX_Huang_Qin_Controls_BGE... |\n",
       "| \"gs://fc-b6f39c83-8af2-4152-8360-0c873d74e5d6/BioX_Huang_Qin_Controls_BGE... |\n",
       "+------------------------------------------------------------------------------+\n",
       "\n",
       "+------------------------------------------------------------------------------+\n",
       "| GVCF                                                                         |\n",
       "+------------------------------------------------------------------------------+\n",
       "| str                                                                          |\n",
       "+------------------------------------------------------------------------------+\n",
       "| \"gs://fc-b6f39c83-8af2-4152-8360-0c873d74e5d6/BioX_Huang_Qin_Controls_BGE... |\n",
       "| \"gs://fc-b6f39c83-8af2-4152-8360-0c873d74e5d6/BioX_Huang_Qin_Controls_BGE... |\n",
       "| \"gs://fc-b6f39c83-8af2-4152-8360-0c873d74e5d6/BioX_Huang_Qin_Controls_BGE... |\n",
       "| \"gs://fc-b6f39c83-8af2-4152-8360-0c873d74e5d6/BioX_Huang_Qin_Controls_BGE... |\n",
       "| \"gs://fc-b6f39c83-8af2-4152-8360-0c873d74e5d6/BioX_Huang_Qin_Controls_BGE... |\n",
       "+------------------------------------------------------------------------------+\n",
       "\n",
       "+-----------+--------------+----------+---------------+---------+------+\n",
       "| ROLE      | COVERAGE_MET |  CHIMERA | CONTAMINATION | CALLSET |      |\n",
       "+-----------+--------------+----------+---------------+---------+------+\n",
       "| str       | str          |  float64 |       float64 | str     | bool |\n",
       "+-----------+--------------+----------+---------------+---------+------+\n",
       "| \"Control\" | NA           | 2.79e+00 |      8.00e-02 | \"\"      | True |\n",
       "| \"Control\" | \"2023-03-20\" | 3.17e+00 |      1.20e-01 | \"\"      | True |\n",
       "| \"Control\" | \"2023-03-21\" | 1.63e+00 |      4.00e-02 | \"\"      | True |\n",
       "| \"Control\" | \"2023-03-01\" | 2.14e+00 |      6.00e-02 | \"\"      | True |\n",
       "| \"Control\" | \"2023-03-01\" | 1.64e+00 |      5.00e-02 | \"\"      | True |\n",
       "+-----------+--------------+----------+---------------+---------+------+\n",
       "showing top 5 rows"
      ]
     },
     "metadata": {},
     "output_type": "display_data"
    }
   ],
   "source": [
    "# Read in manifest file\n",
    "manifest = hl.import_table(\"gs://pumas_sample_filtering/BGE_HailCallset_Wave2_Manifest_02202024.tsv\", impute=True)\n",
    "manifest.show(5)  # Display first few rows\n"
   ]
  },
  {
   "cell_type": "code",
   "execution_count": 3,
   "id": "7dd61eb4",
   "metadata": {},
   "outputs": [
    {
     "name": "stderr",
     "output_type": "stream",
     "text": [
      "2024-10-15 15:15:30.552 Hail: INFO: Reading table to impute column types\n",
      "2024-10-15 15:15:31.232 Hail: INFO: Finished type imputation\n",
      "  Loading field '#FID' as type str (imputed)\n",
      "  Loading field 'IID' as type str (imputed)\n"
     ]
    },
    {
     "data": {
      "text/html": [
       "<table><thead><tr><td style=\"white-space: nowrap; max-width: 500px; overflow: hidden; text-overflow: ellipsis; \" colspan=\"1\"><div style=\"text-align: left;\"></div></td></tr><tr><td style=\"white-space: nowrap; max-width: 500px; overflow: hidden; text-overflow: ellipsis; \" colspan=\"1\"><div style=\"text-align: left;border-bottom: solid 2px #000; padding-bottom: 5px\">&lt;expr&gt;</div></td></tr><tr><td style=\"white-space: nowrap; max-width: 500px; overflow: hidden; text-overflow: ellipsis; text-align: left;\">set&lt;str&gt;</td></tr>\n",
       "</thead><tbody><tr><td style=\"white-space: nowrap; max-width: 500px; overflow: hidden; text-overflow: ellipsis; \">{&quot;MAP3598&quot;,&quot;358-00SP5E00-001&quot;,&quot;MAP6524&quot;,&quot;358-00QW6C00-001_2&quot;,&quot;MAP2945&quot;,&quot;NGE2935&quot;,&quot;NGP_1541-1RCR&quot;,&quot;NGE7836_2&quot;,&quot;NGP853-1ILI&quot;,&quot;MAP5895&quot;,&quot;MAP4239&quot;,&quot;MAP2621&quot;,&quot;NGP110-1CHA&quot;,&quot;NGP_1695-1TAT&quot;,&quot;MAP2098&quot;,&quot;MAP3315&quot;,&quot;358-00S94A00-001&quot;,&quot;MAP8974&quot;,&quot;MAP5998&quot;,&quot;NGE3622&quot;,&quot;NGE8794&quot;,&quot;NGE6177_2&quot;,&quot;MAP5964&quot;,&quot;NGE5375&quot;,&quot;358-00Q8RK00-001&quot;,&quot;MAP7276&quot;,&quot;MAP11592&quot;,&quot;MAP5642&quot;,&quot;AAP71215411&quot;,&quot;MAP5852&quot;,&quot;MAP6161&quot;,&quot;MAP502&quot;,&quot;NGP514-1EEK&quot;,&quot;MAP395&quot;,&quot;15001708095861PK&quot;,&quot;15001809110033PK&quot;,&quot;NGE5114&quot;,&quot;MAP6015&quot;,&quot;MAP6334&quot;,&quot;NGE4811&quot;,&quot;MAP2448&quot;,&quot;358-00TP0F00-001_2&quot;,&quot;NGE3590&quot;,&quot;MAP8970&quot;,&quot;MAP3103&quot;,&quot;NGE4577&quot;,&quot;358-00PHRK00-001&quot;,&quot;MAP2320&quot;,&quot;NGE5002&quot;,&quot;358-00QL8G00-001&quot;,&quot;NGE9082&quot;,&quot;AAP54818641&quot;,&quot;358-00SDDG00-001&quot;,&quot;MAP5747&quot;,&quot;MAP2347&quot;,&quot;AAP98651588&quot;,&quot;AAP84528235&quot;,&quot;EAJ030D4-01&quot;,&quot;MAP2773R&quot;,&quot;NGP6900-1ATN&quot;,&quot;AAJ02RZX-01&quot;,&quot;AAP38471249&quot;,&quot;MAP6536&quot;,&quot;NGE6714&quot;,&quot;15001809110648PK&quot;,&quot;AAP87112149&quot;,&quot;15001811365728PK&quot;,&quot;NGP_2170-1ZJZ&quot;,&quot;358-00QBZB00-001&quot;,&quot;MAP579&quot;,&quot;NGP755-1HHR&quot;,&quot;NGP829-1IIN&quot;,&quot;NGE0703_2&quot;,&quot;MAP6219&quot;,&quot;15001708095312PK&quot;,&quot;NGE1038&quot;,&quot;MAP7297&quot;,&quot;NGE0728&quot;,&quot;MAP10026&quot;,&quot;NGE2666&quot;,&quot;NGP6207-1ACM&quot;,&quot;NGP563-1HEE&quot;,&quot;AAP60953688&quot;,&quot;MAP5135&quot;,&quot;358-00SJLH00-001&quot;,&quot;AAP77986585&quot;,&quot;NGE2654&quot;,&quot;MAP2477&quot;,&quot;MAP11226&quot;,&quot;MAP6075&quot;,&quot;NGE4184&quot;,&quot;MAP10338&quot;,&quot;NGE8447&quot;,&quot;15001811364721PK&quot;,&quot;MAP8282&quot;,&quot;NGE7611&quot;,&quot;AAP85507151&quot;,&quot;NGE7004&quot;,&quot;NGE6583&quot;,&quot;NGE6586&quot;,&quot;MAP2538&quot;,&quot;MAP9221&quot;,&quot;NGP_1059-1LLJ&quot;,&quot;MAP4126&quot;,&quot;MAP234&quot;,&quot;NGP_2032-1AXX&quot;,&quot;CAJ02ZXC-01&quot;,&quot;AAP69133313&quot;,&quot;NGE1469&quot;,&quot;MAP4705&quot;,&quot;358-00SS8J00-001&quot;,&quot;KAJ02XVT-01&quot;,&quot;KAJ032VV-01&quot;,&quot;AAP42575282&quot;,&quot;MAP4575&quot;,&quot;MAP2852&quot;,&quot;HAJO2HYG-02&quot;,&quot;NGE2180&quot;,&quot;NGE0549&quot;,&quot;MAP6711&quot;,&quot;NGE3015&quot;,&quot;15001906103946PK&quot;,&quot;NGE3892&quot;,&quot;358-00PJKK00-001&quot;,&quot;NGE2881&quot;,&quot;MAP3784&quot;,&quot;MAP5627&quot;,&quot;NGE4889&quot;,&quot;MAP5763&quot;,&quot;AAP82468847&quot;,&quot;15001906102848PK&quot;,&quot;15001906103016PK&quot;,&quot;MAP5950&quot;,&quot;15001906102982PK&quot;,&quot;BAJ02S2M-01&quot;,&quot;MAP11877&quot;,&quot;NGE4787&quot;,&quot;MAP4986&quot;,&quot;15001906103584PK&quot;,&quot;MAP8642&quot;,&quot;15001811365588PK&quot;,&quot;MAP7424&quot;,&quot;MAP3104&quot;,&quot;MAP4718&quot;,&quot;MAP478&quot;,&quot;MAP7825&quot;,&quot;MAP710&quot;,&quot;AAP58444107&quot;,&quot;MAP716&quot;,&quot;NGE6334&quot;,&quot;NGE1101&quot;,&quot;358-00MBRB00-001&quot;,&quot;MAP6891&quot;,&quot;AAP84133559&quot;,&quot;MAP10210&quot;,&quot;358-00SLQA00-001&quot;,&quot;MAP1092&quot;,&quot;358-00TF8F00-001&quot;,&quot;AAP19542184&quot;,&quot;AAP75134633&quot;,&quot;MAP5408&quot;,&quot;MAP10232&quot;,&quot;NGE1892&quot;,&quot;BAJ02Y7X-01&quot;,&quot;NGP6146-1XTL&quot;,&quot;NGP_1239-1NJN&quot;,&quot;MAP6844&quot;,&quot;358-00S91H00-001&quot;,&quot;NGE4653&quot;,&quot;AAP98449610&quot;,&quot;MAP8103&quot;,&quot;MAP6775&quot;,&quot;AAP72162326&quot;,&quot;NGE8561&quot;,&quot;15001811365549PK&quot;,&quot;AAP19476134&quot;,&quot;NGE6083_2&quot;,&quot;NGE4532&quot;,&quot;SM-JI2RM&quot;,&quot;15001708096486PK&quot;,&quot;15001708096469PK&quot;,&quot;MAP11166&quot;,&quot;NGE7542&quot;,&quot;15001906102810PK&quot;,&quot;AAP72636681&quot;,&quot;NGE0840&quot;,&quot;NGP477-1DZD&quot;,&quot;358-00MHVG00-001&quot;,&quot;NGE2092&quot;,&quot;NGE4043&quot;,&quot;358-00PB5G00-001&quot;,&quot;MAP9624&quot;,&quot;NGE3945&quot;,&quot;MAP10731&quot;,&quot;DAJ02PP2-01&quot;,&quot;358-00S98G00-001&quot;,&quot;MAP210&quot;,&quot;MAP528&quot;,&quot;MAP480&quot;,&quot;NGP7096-1IHN&quot;,&quot;MAP4796&quot;,&quot;MAP9642&quot;,&quot;MAP3400&quot;,&quot;AAP99805592&quot;,&quot;MAP7027&quot;,&quot;MAP11047&quot;,&quot;MAP7533&quot;,&quot;MAP4983&quot;,&quot;MAP282&quot;,&quot;MAP8034&quot;,&quot;15001906103047PK&quot;,&quot;NGP4829-1ACK&quot;,&quot;NGE4183&quot;,&quot;MAP7900&quot;,&quot;AAP86630358&quot;,&quot;MAP8281&quot;,&quot;MAP4108&quot;,&quot;358-00PDCJ00-001&quot;,&quot;358-00PVBK00-001&quot;,&quot;GAJ02RM9-01&quot;,&quot;MAP9023&quot;,&quot;NGE0564&quot;,&quot;358-00M5GJ00-001&quot;,&quot;0358-00W7JC00-001&quot;,&quot;MAP7719&quot;,&quot;MAP3233&quot;,&quot;NGP6279-1CWM&quot;,&quot;MAP11282&quot;,&quot;NGP3899-1QII&quot;,&quot;MAP471&quot;,&quot;NGE1000&quot;,&quot;15001811365586PK&quot;,&quot;AAP63177362&quot;,&quot;NGE1087&quot;,&quot;MAP7334&quot;,&quot;MAP10034&quot;,&quot;MAP988&quot;,&quot;AAP51165885&quot;,&quot;NGE5532&quot;,&quot;MAP2680&quot;,&quot;NGE9073&quot;,&quot;NGE5198&quot;,&quot;MAP3999&quot;,&quot;NGE3742&quot;,&quot;358-00NYCD00-001&quot;,&quot;MAP6965&quot;,&quot;MAP5819&quot;,&quot;MAP4609&quot;,&quot;MAP7164&quot;,&quot;DAJ02Z6V-01&quot;,&quot;NGE6626&quot;,&quot;AAP83002886&quot;,&quot;MAP2469&quot;,&quot;15001811364945PK&quot;,&quot;NGE5069&quot;,&quot;MAP6947&quot;,&quot;MAP10225&quot;,&quot;AAP22508168&quot;,&quot;358-00PDFA00-001&quot;,&quot;NGP3954-1SLI&quot;,&quot;NGE2423&quot;,&quot;MAP7447&quot;,&quot;358-00S9MH00-001&quot;,&quot;NGE2362&quot;,&quot;MAP3840&quot;,&quot;NGE5873&quot;,&quot;358-00S9KE00-001&quot;,&quot;NGE2028&quot;,&quot;NGP6923-1BQN&quot;,&quot;358-00PCJH00-001&quot;,&quot;NGP4239-1DKJ&quot;,&quot;NGE8623&quot;,&quot;NGP_1119-1RLL&quot;,&quot;NGP7328-1RFN&quot;,&quot;AAP42034960&quot;,&quot;AAP85225798&quot;,&quot;NGP101-1MEN&quot;,&quot;AAP39171007&quot;,&quot;NGE8325&quot;,&quot;NGE0486&quot;,&quot;NGE6132&quot;,&quot;MAP4721&quot;,&quot;MAP6181&quot;,&quot;NGE8433&quot;,&quot;MAP5320&quot;,&quot;MAP4774&quot;,&quot;NGE7063&quot;,&quot;AAP63562630&quot;,&quot;AAJ031MF-01&quot;,&quot;NGP_1079-1LDL&quot;,&quot;15001906103234PK&quot;,&quot;358-00PLPE00-001&quot;,&quot;NGE1921&quot;,&quot;MAP6752&quot;,&quot;MAP3677&quot;,&quot;MAP797&quot;,&quot;MAP11315&quot;,&quot;NGE0374&quot;,&quot;MAP7514&quot;,&quot;358-00PLFC00-001&quot;,&quot;MAP4293&quot;,&quot;358-00P05E00-001&quot;,&quot;15001811365483PK&quot;,&quot;MAP3931&quot;,&quot;NGP_2561-1&quot;,&quot;NGE3393&quot;,&quot;358-00V9ZD00-001&quot;,&quot;358-00Q3DH00-001&quot;,&quot;NGE0291&quot;,&quot;MAP11593&quot;,&quot;KAJ02QLR-01&quot;,&quot;AAP45358476&quot;,&quot;MAP457&quot;,&quot;358-00V9TA00-001&quot;,&quot;FAJ02G20-02&quot;,&quot;NGE0573&quot;,&quot;MAP2453&quot;,&quot;NGP_1078-1LCL&quot;,&quot;NGE6740&quot;,&quot;358-00S8QJ00-001&quot;,&quot;MAP1833&quot;,&quot;358-00Q5SG00-001&quot;,&quot;NGE4963&quot;,&quot;NGE6436_2&quot;,&quot;AAP69069996&quot;,&quot;NGP_3010-1PYG&quot;,&quot;NGP_3704-1QPI&quot;,&quot;NGE6716&quot;,&quot;358-00QH0K00-001&quot;,&quot;MAP9397&quot;,&quot;358-00SD6E00-001&quot;,&quot;NGE7040&quot;,&quot;BAJ032TF-01&quot;,&quot;MAP6822&quot;,&quot;HAJ02Z11-01&quot;,&quot;NGE2747&quot;,&quot;NGE6985&quot;,&quot;358-00SNXA00-001&quot;,&quot;15001809110814PK&quot;,&quot;MAP10087&quot;,&quot;EAJ02Q78-02&quot;,&quot;NGE7261&quot;,&quot;0358-00W5BA00-001&quot;,&quot;AAP40266614&quot;,&quot;MAP636&quot;,&quot;NGE0381&quot;,&quot;AAP66142638&quot;,&quot;MAP1619&quot;,&quot;AAP75189712&quot;,&quot;MAP7776&quot;,&quot;NGE0627&quot;,&quot;NGE6403_2&quot;,&quot;NGP109-1SIY&quot;,&quot;CAJ0343W-01&quot;,&quot;MAP3890&quot;,&quot;EAJ02QMF-01&quot;,&quot;AAP47172147&quot;,&quot;MAP10018&quot;,&quot;358-00LSDK00-001&quot;,&quot;358-00PL9G00-001&quot;,&quot;AAP92690614&quot;,&quot;MAP5402&quot;,&quot;NGE4053&quot;,&quot;NGE3810&quot;,&quot;MAP9231&quot;,&quot;358-00PS2E00-001&quot;,&quot;MAP10596&quot;,&quot;MAP5415&quot;,&quot;MAP4052&quot;,&quot;AAP61203611&quot;,&quot;MAP8764&quot;,&quot;NGE8617&quot;,&quot;MAP7942&quot;,&quot;NGE5871&quot;,&quot;MAP9376&quot;,&quot;MAP11343&quot;,&quot;NGE4790&quot;,&quot;15001811365596PK&quot;,&quot;MAP3190&quot;,&quot;NGE1887&quot;,&quot;NGE5111&quot;,&quot;358-00SB4K00-001&quot;,&quot;NGP6022-1SZL&quot;,&quot;MAP11347&quot;,&quot;MAP3572&quot;,&quot;358-00PK5C00-001&quot;,&quot;HAJ02X44-01&quot;,&quot;AAP13731097&quot;,&quot;NGE1739&quot;,&quot;MAP10462&quot;,&quot;NGE0314&quot;,&quot;MAP6275&quot;,&quot;NGE7876&quot;,&quot;NGE2363&quot;,&quot;NGP756-1HHS&quot;,&quot;15001708096496PK&quot;,&quot;NGE0244&quot;,&quot;NGE8891&quot;,&quot;MAP3565&quot;,&quot;MAP2673&quot;,&quot;NGE6600&quot;,&quot;NGE0927&quot;,&quot;NGE8612&quot;,&quot;AAP71341064&quot;,&quot;MAP5736&quot;,&quot;MAP8173&quot;,&quot;MAP5764&quot;,&quot;NGE8431&quot;,&quot;358-00QJRJ00-001&quot;,&quot;358-00P02A00-001&quot;,&quot;NGP8262-1BDP&quot;,&quot;MAP4122&quot;,&quot;NGP473-1DVD&quot;,&quot;MAP1409&quot;,&quot;MAP4080&quot;,&quot;NGE6630&quot;,&quot;MAP5464&quot;,&quot;NGE0499&quot;,&quot;NGP209-1AAL&quot;,&quot;NGP12-1EMM&quot;,&quot;AAP11108405&quot;,&quot;358-00M5SG00-001&quot;,&quot;MAP9317&quot;,&quot;AAP11054827&quot;,&quot;NGP586-1FFE&quot;,&quot;NGP146-1NOM&quot;,&quot;MAP10038&quot;,&quot;MAP4144&quot;,&quot;NGE1125&quot;,&quot;MAP2555&quot;,&quot;NGP257-1KAA&quot;,&quot;EAJ02S2J-01&quot;,&quot;MAP7968&quot;,&quot;MAP2894&quot;,&quot;AAP15551329&quot;,&quot;MAP5573&quot;,&quot;NGP4839-1AMK&quot;,&quot;NGP5538-1AJL&quot;,&quot;MAP1529&quot;,&quot;MAP1081&quot;,&quot;358-00QHWA00-001&quot;,&quot;MAP3362&quot;,&quot;NGE1553&quot;,&quot;NGP7045-1GIN&quot;,&quot;NGE7916&quot;,&quot;AAJ02PRW-01&quot;,&quot;MAP7314&quot;,&quot;358-00Q7XD00-001&quot;,&quot;NGE7644&quot;,&quot;NGE4904&quot;,&quot;MAP4803&quot;,&quot;MAP8940&quot;,&quot;AAP26806195&quot;,&quot;NGE9025&quot;,&quot;MAP3792&quot;,&quot;NGE2403&quot;,&quot;MAP4180&quot;,&quot;AAP85155493&quot;,&quot;MAP11791&quot;,&quot;358-00M6HG00-001&quot;,&quot;15001811365134PK&quot;,&quot;EAJ032NJ-01&quot;,&quot;MAP10730&quot;,&quot;MAP9561&quot;,&quot;MAP9546&quot;,&quot;358-00SF4C00-001&quot;,&quot;MAP2205&quot;,&quot;NGE3259&quot;,&quot;MAP7346&quot;,&quot;MAP2006&quot;,&quot;NGE8505&quot;,&quot;NGE4199&quot;,&quot;NGE6128&quot;,&quot;NGP_1918-1WWP&quot;,&quot;15001906103131PK&quot;,&quot;MAP593&quot;,&quot;NGE4960&quot;,&quot;NGe2031&quot;,&quot;NGP5844-1MDL&quot;,&quot;NGE8734&quot;,&quot;NGE4861&quot;,&quot;NGE3425&quot;,&quot;NGE7257&quot;,&quot;358-00SJ1H00-001&quot;,&quot;MAP2929&quot;,&quot;NGE2085&quot;,&quot;MAP7584&quot;,&quot;NGE1576&quot;,&quot;MAP1961&quot;,&quot;MAP1936&quot;,&quot;MAP751&quot;,&quot;MAP6826&quot;,&quot;MAP9535&quot;,&quot;NGE5316&quot;,&quot;NGE7957&quot;,&quot;MAP6323&quot;,&quot;MAP5810&quot;,&quot;NGP328-1GBB&quot;,&quot;MAP6995&quot;,&quot;NGE5134&quot;,&quot;HAJ02YBJ-01&quot;,&quot;FAJ02QHL-02&quot;,&quot;15001811365563PK&quot;,&quot;MAP11960&quot;,&quot;MAP4723&quot;,&quot;NGE2851&quot;,&quot;NGE6553&quot;,&quot;MAP6596&quot;,&quot;AAP34469943&quot;,&quot;AAP36893312&quot;,&quot;MAP10085&quot;,&quot;358-00SJXD00-001&quot;,&quot;NGP_1873-1VWV&quot;,&quot;GAJ02YGS-01&quot;,&quot;NGP851-1IJI&quot;,&quot;NGP667-1GGH&quot;,&quot;NGE2094&quot;,&quot;NGE6376&quot;,&quot;MAP10019&quot;,&quot;NGE9010&quot;,&quot;AAP57407641&quot;,&quot;MAP2709&quot;,&quot;NGE2128&quot;,&quot;MAP2648&quot;,&quot;358-00LTME00-001&quot;,&quot;NGE1442&quot;,&quot;NGE8817&quot;,&quot;MAP7806&quot;,&quot;NGE4926&quot;,&quot;NGP5456-1YFK&quot;,&quot;NGE0231&quot;,&quot;MAP4556&quot;,&quot;MAP11661&quot;,&quot;NGE4878&quot;,&quot;NGP4949-1ESK&quot;,&quot;MAP2772&quot;,&quot;15001811364982PK&quot;,&quot;MAP244&quot;,&quot;NGP6645-1QYM&quot;,&quot;15001809110051PK&quot;,&quot;NGE3755&quot;,&quot;NGE2154&quot;,&quot;MAP3693&quot;,&quot;NGE4344&quot;,&quot;15001906103093PK&quot;,&quot;15001911043325PK&quot;,&quot;AAP71078424&quot;,&quot;FAJ02YFF-01&quot;,&quot;358-00PRXH00-001&quot;,&quot;NGE9139&quot;,&quot;NGE8755&quot;,&quot;NGE1257&quot;,&quot;NGP_1700-1TFT&quot;,&quot;NGE3392&quot;,&quot;MAP6915&quot;,&quot;MAP4936&quot;,&quot;AAP88137702&quot;,&quot;358-00QW8K00-001&quot;,&quot;358-00QK3F00-001&quot;,&quot;NGE7850&quot;,&quot;MAP6931&quot;,&quot;MAP11352&quot;,&quot;NGE1241&quot;,&quot;NGE4014&quot;,&quot;MAP10871&quot;,&quot;NGE5732&quot;,&quot;MAP5898&quot;,&quot;NGP6320-1ELM&quot;,&quot;MAP10528&quot;,&quot;15001809114662PK&quot;,&quot;15001708095435PK&quot;,&quot;MAP3975&quot;,&quot;MAP921&quot;,&quot;NGE4702&quot;,&quot;NGE9146&quot;,&quot;358-00TPFD00-001_2&quot;,&quot;15001708095353PK&quot;,&quot;MAP11964&quot;,&quot;358-00S95F00-001&quot;,&quot;AAP21207866&quot;,&quot;NGE4747&quot;,&quot;MAP264&quot;,&quot;MAP11157&quot;,&quot;MAP5544&quot;,&quot;NGE6119&quot;,&quot;NGE6336&quot;,&quot;15001708096464PK&quot;,&quot;MAP6339&quot;,&quot;NGE2650&quot;,&quot;AAP72200602&quot;,&quot;MAP10280&quot;,&quot;NGE8872&quot;,&quot;15001708096474PK&quot;,&quot;NGE9116&quot;,&quot;MAP9046&quot;,&quot;FAJ02YND-01&quot;,&quot;MAP7320&quot;,&quot;AAJ02XSV-01&quot;,&quot;NGE2554&quot;,&quot;NGE0391&quot;,&quot;MAP385&quot;,&quot;MAP10407&quot;,&quot;NGE7068&quot;,&quot;MAP11323&quot;,&quot;NGE5146&quot;,&quot;MAP697&quot;,&quot;MAP3277&quot;,&quot;358-00M48E00-001&quot;,&quot;358-00PNGK00-001&quot;,&quot;358-00PRWD00-001&quot;,&quot;MAP1634&quot;,&quot;NGE0221&quot;,&quot;MAP1275&quot;,&quot;358-00QM5B00-001&quot;,&quot;MAP1359&quot;,&quot;358-00QJKH00-001&quot;,&quot;MAP11681&quot;,&quot;MAP540&quot;,&quot;MAP5293&quot;,&quot;358-00LYGD00-001&quot;,&quot;AAP64196028&quot;,&quot;AAP94145730&quot;,&quot;MAP1693&quot;,&quot;AAP35087516&quot;,&quot;MAP11662&quot;,&quot;NGP_2029-1XXX&quot;,&quot;358-00MFLB00-001&quot;,&quot;MAP7205&quot;,&quot;358-00SLZK00-001&quot;,&quot;HAJ02QC1-02&quot;,&quot;NGP420-1UCC&quot;,&quot;MAP7457&quot;,&quot;SM-JI2QL&quot;,&quot;NGE8216&quot;,&quot;AAP47189989&quot;,&quot;NGE2171&quot;,&quot;NGE4824&quot;,&quot;NGE5838&quot;,&quot;NGP_2004-1XXY&quot;,&quot;NGE8720&quot;,&quot;358-00SYSH00-001&quot;,&quot;NGE5577&quot;,&quot;NGP992-1KKU&quot;,&quot;358-00TRSC00-001_2&quot;,&quot;AAP33180801&quot;,&quot;AAP64072125&quot;,&quot;NGE4738&quot;,&quot;NGE8661&quot;,&quot;MAP6083&quot;,&quot;MAP777&quot;,&quot;MAP6314&quot;,&quot;MAP8203&quot;,&quot;NGE4272&quot;,&quot;15001906103054PK&quot;,&quot;358-00MDYG00-001&quot;,&quot;15001809110065PK&quot;,&quot;MAP949&quot;,&quot;FAJ031MJ-01&quot;,&quot;MAP720&quot;,&quot;MAP4425&quot;,&quot;MAP9927&quot;,&quot;MAP7266&quot;,&quot;MAP6577&quot;,&quot;NGE2262&quot;,&quot;358-00LY1G00-001&quot;,&quot;15001809114612PK&quot;,&quot;MAP9170&quot;,&quot;MAP1093&quot;,&quot;MAP3979&quot;,&quot;NGE6515&quot;,&quot;NGE3448_2&quot;,&quot;NGE3520&quot;,&quot;MAP11595&quot;,&quot;NGE7292&quot;,&quot;MAP3920&quot;,&quot;MAP11660&quot;,&quot;MAP4423&quot;,&quot;MAP2775&quot;,&quot;MAP3718&quot;,&quot;MAP6543&quot;,&quot;KAJ02Q9H-02&quot;,&quot;MAP3355&quot;,&quot;15001906104173PK&quot;,&quot;15001906103041PK&quot;,&quot;MAP4765&quot;,&quot;NGE6713&quot;,&quot;358-00SJDG00-001&quot;,&quot;NGE0746&quot;,&quot;MAP11328&quot;,&quot;358-00QKFE00-001&quot;,&quot;MAP3794&quot;,&quot;358-00NZCH00-001&quot;,&quot;MAP5844&quot;,&quot;NGE1477&quot;,&quot;MAP3889&quot;,&quot;MAP4900&quot;,&quot;MAP3780R&quot;,&quot;AAP93664035&quot;,&quot;358-00Q60J00-001&quot;,&quot;MAP3023&quot;,&quot;15001811364652PK&quot;,&quot;MAP9483&quot;,&quot;NGP148-1LUT&quot;,&quot;AAP55299638&quot;,&quot;NGE0131&quot;,&quot;MAP10011&quot;,&quot;358-00TKZG00-001&quot;,&quot;MAP6608&quot;,&quot;NGE8850&quot;,&quot;MAP7735&quot;,&quot;MAP7454&quot;,&quot;15001911043370PK&quot;,&quot;NGE2546&quot;,&quot;MAP6103&quot;,&quot;NGE7524_2&quot;,&quot;NGE0430&quot;,&quot;NGE1636&quot;,&quot;NGP443-1DDR&quot;,&quot;MAP4176&quot;,&quot;HAJ02PRZ-01&quot;,&quot;MAP5441&quot;,&quot;NGE8845&quot;,&quot;NGP5337-1TQK&quot;,&quot;MAP10894&quot;,&quot;NGE7088&quot;,&quot;NGE1541&quot;,&quot;MAP3138&quot;,&quot;MAP2111&quot;,&quot;MAP1797&quot;,&quot;NGE1445&quot;,&quot;MAP9848&quot;,&quot;MAP3522&quot;,&quot;358-00TN8B00-001_2&quot;,&quot;BAJ02YC0-01&quot;,&quot;358-00M44F00-001&quot;,&quot;AAP41789449&quot;,&quot;MAP5879&quot;,&quot;MAP864&quot;,&quot;BAJ02Q8M-02&quot;,&quot;NGE6390&quot;,&quot;NGE8616&quot;,&quot;NGE1355&quot;,&quot;NGE2931&quot;,&quot;MAP6529&quot;,&quot;15001811365584PK&quot;,&quot;MAP10910&quot;,&quot;MAP11254&quot;,&quot;NGE5295&quot;,&quot;MAP5379&quot;,&quot;15001708095823PK&quot;,&quot;NGE4026&quot;,&quot;NGE6175&quot;,&quot;NGE0463&quot;,&quot;BAJ02QHW-02&quot;,&quot;MAP9052&quot;,&quot;MAP3883&quot;,&quot;358-00SNQE00-001&quot;,&quot;15001906103908PK&quot;,&quot;MAP5304&quot;,&quot;15001906104145PK&quot;,&quot;NGE6751&quot;,&quot;NGE0385&quot;,&quot;NGP4660-1TPJ&quot;,&quot;AAP71919046&quot;}</td></tr>\n",
       "</tbody></table>"
      ],
      "text/plain": [
       "+------------------------------------------------------------------------------+\n",
       "| <expr>                                                                       |\n",
       "+------------------------------------------------------------------------------+\n",
       "| set<str>                                                                     |\n",
       "+------------------------------------------------------------------------------+\n",
       "| {\"MAP3598\",\"358-00SP5E00-001\",\"MAP6524\",\"358-00QW6C00-001_2\",\"MAP2945\",\"N... |\n",
       "+------------------------------------------------------------------------------+"
      ]
     },
     "metadata": {},
     "output_type": "display_data"
    }
   ],
   "source": [
    "# Read in duplicate IDs that were identified by `plink2 --king-cutoff 0.355`\n",
    "# which was run to find the maximal independent set after removing duplicates/MZ twins\n",
    "# these are the IDs we will remove first, as well as IDs identified to be \"mismatches\" between case and control status\n",
    "# Note that this is in plink format, with FID and IID as the two columns, but these are the same ID in both columns\n",
    "\n",
    "duplicates_to_remove_ht = hl.import_table(\"gs://neurogap-bge-imputed-regional/dups_to_remove.txt\", impute=True, delimiter='\\t')\n",
    "duplicates_remove_ids = duplicates_to_remove_ht.IID.collect()\n",
    "duplicates_remove_ids = hl.set(duplicates_remove_ids)\n",
    "duplicates_remove_ids.show()"
   ]
  },
  {
   "cell_type": "code",
   "execution_count": 4,
   "id": "468471fd",
   "metadata": {},
   "outputs": [
    {
     "name": "stderr",
     "output_type": "stream",
     "text": [
      "2024-10-15 15:15:33.700 Hail: INFO: Reading table to impute column types\n",
      "2024-10-15 15:15:34.541 Hail: INFO: Finished type imputation\n",
      "  Loading field 'ID1' as type str (imputed)\n",
      "  Loading field 'ID1_SUBJECT_ID' as type str (imputed)\n",
      "  Loading field 'ID1_COLLABORATOR_PARTICIPANT_ID' as type str (imputed)\n",
      "  Loading field 'ID2' as type str (imputed)\n",
      "  Loading field 'ID2_SUBJECT_ID' as type str (imputed)\n",
      "  Loading field 'ID2_COLLABORATOR_PARTICIPANT_ID' as type str (imputed)\n",
      "  Loading field 'N_SNP' as type int32 (imputed)\n",
      "  Loading field 'HetHet' as type float64 (imputed)\n",
      "  Loading field 'IBS0' as type int32 (imputed)\n",
      "  Loading field 'HetConc' as type float64 (imputed)\n",
      "  Loading field 'HomIBS0' as type float64 (imputed)\n",
      "  Loading field 'Kinship' as type float64 (imputed)\n",
      "  Loading field 'IBD1Seg' as type float64 (imputed)\n",
      "  Loading field 'IBD2Seg' as type float64 (imputed)\n",
      "  Loading field 'PropIBD' as type float64 (imputed)\n",
      "  Loading field 'InfType' as type str (imputed)\n",
      "  Loading field 'ID1_cohort' as type str (imputed)\n",
      "  Loading field 'ID2_cohort' as type str (imputed)\n",
      "  Loading field 'ID1_role' as type str (imputed)\n",
      "  Loading field 'ID2_role' as type str (imputed)\n",
      "  Loading field 'ID1_n_times_appear_in_dup_pair' as type int32 (imputed)\n",
      "  Loading field 'ID2_n_times_appear_in_dup_pair' as type int32 (imputed)\n",
      "  Loading field 'ID1_primary_disease' as type str (imputed)\n",
      "  Loading field 'ID2_primary_disease' as type str (imputed)\n",
      "  Loading field 'same_site' as type bool (imputed)\n",
      "  Loading field 'same_role' as type bool (imputed)\n",
      "  Loading field 'same_primary_disease' as type bool (imputed)\n"
     ]
    },
    {
     "data": {
      "text/html": [
       "<table><thead><tr><td style=\"white-space: nowrap; max-width: 500px; overflow: hidden; text-overflow: ellipsis; \" colspan=\"1\"><div style=\"text-align: left;\"></div></td><td style=\"white-space: nowrap; max-width: 500px; overflow: hidden; text-overflow: ellipsis; \" colspan=\"1\"><div style=\"text-align: left;\"></div></td><td style=\"white-space: nowrap; max-width: 500px; overflow: hidden; text-overflow: ellipsis; \" colspan=\"1\"><div style=\"text-align: left;\"></div></td><td style=\"white-space: nowrap; max-width: 500px; overflow: hidden; text-overflow: ellipsis; \" colspan=\"1\"><div style=\"text-align: left;\"></div></td><td style=\"white-space: nowrap; max-width: 500px; overflow: hidden; text-overflow: ellipsis; \" colspan=\"1\"><div style=\"text-align: left;\"></div></td><td style=\"white-space: nowrap; max-width: 500px; overflow: hidden; text-overflow: ellipsis; \" colspan=\"1\"><div style=\"text-align: left;\"></div></td><td style=\"white-space: nowrap; max-width: 500px; overflow: hidden; text-overflow: ellipsis; \" colspan=\"1\"><div style=\"text-align: left;\"></div></td><td style=\"white-space: nowrap; max-width: 500px; overflow: hidden; text-overflow: ellipsis; \" colspan=\"1\"><div style=\"text-align: left;\"></div></td><td style=\"white-space: nowrap; max-width: 500px; overflow: hidden; text-overflow: ellipsis; \" colspan=\"1\"><div style=\"text-align: left;\"></div></td><td style=\"white-space: nowrap; max-width: 500px; overflow: hidden; text-overflow: ellipsis; \" colspan=\"1\"><div style=\"text-align: left;\"></div></td><td style=\"white-space: nowrap; max-width: 500px; overflow: hidden; text-overflow: ellipsis; \" colspan=\"1\"><div style=\"text-align: left;\"></div></td><td style=\"white-space: nowrap; max-width: 500px; overflow: hidden; text-overflow: ellipsis; \" colspan=\"1\"><div style=\"text-align: left;\"></div></td><td style=\"white-space: nowrap; max-width: 500px; overflow: hidden; text-overflow: ellipsis; \" colspan=\"1\"><div style=\"text-align: left;\"></div></td><td style=\"white-space: nowrap; max-width: 500px; overflow: hidden; text-overflow: ellipsis; \" colspan=\"1\"><div style=\"text-align: left;\"></div></td><td style=\"white-space: nowrap; max-width: 500px; overflow: hidden; text-overflow: ellipsis; \" colspan=\"1\"><div style=\"text-align: left;\"></div></td><td style=\"white-space: nowrap; max-width: 500px; overflow: hidden; text-overflow: ellipsis; \" colspan=\"1\"><div style=\"text-align: left;\"></div></td><td style=\"white-space: nowrap; max-width: 500px; overflow: hidden; text-overflow: ellipsis; \" colspan=\"1\"><div style=\"text-align: left;\"></div></td><td style=\"white-space: nowrap; max-width: 500px; overflow: hidden; text-overflow: ellipsis; \" colspan=\"1\"><div style=\"text-align: left;\"></div></td><td style=\"white-space: nowrap; max-width: 500px; overflow: hidden; text-overflow: ellipsis; \" colspan=\"1\"><div style=\"text-align: left;\"></div></td><td style=\"white-space: nowrap; max-width: 500px; overflow: hidden; text-overflow: ellipsis; \" colspan=\"1\"><div style=\"text-align: left;\"></div></td><td style=\"white-space: nowrap; max-width: 500px; overflow: hidden; text-overflow: ellipsis; \" colspan=\"1\"><div style=\"text-align: left;\"></div></td><td style=\"white-space: nowrap; max-width: 500px; overflow: hidden; text-overflow: ellipsis; \" colspan=\"1\"><div style=\"text-align: left;\"></div></td><td style=\"white-space: nowrap; max-width: 500px; overflow: hidden; text-overflow: ellipsis; \" colspan=\"1\"><div style=\"text-align: left;\"></div></td><td style=\"white-space: nowrap; max-width: 500px; overflow: hidden; text-overflow: ellipsis; \" colspan=\"1\"><div style=\"text-align: left;\"></div></td><td style=\"white-space: nowrap; max-width: 500px; overflow: hidden; text-overflow: ellipsis; \" colspan=\"1\"><div style=\"text-align: left;\"></div></td><td style=\"white-space: nowrap; max-width: 500px; overflow: hidden; text-overflow: ellipsis; \" colspan=\"1\"><div style=\"text-align: left;\"></div></td><td style=\"white-space: nowrap; max-width: 500px; overflow: hidden; text-overflow: ellipsis; \" colspan=\"1\"><div style=\"text-align: left;\"></div></td></tr><tr><td style=\"white-space: nowrap; max-width: 500px; overflow: hidden; text-overflow: ellipsis; \" colspan=\"1\"><div style=\"text-align: left;border-bottom: solid 2px #000; padding-bottom: 5px\">ID1</div></td><td style=\"white-space: nowrap; max-width: 500px; overflow: hidden; text-overflow: ellipsis; \" colspan=\"1\"><div style=\"text-align: left;border-bottom: solid 2px #000; padding-bottom: 5px\">ID1_SUBJECT_ID</div></td><td style=\"white-space: nowrap; max-width: 500px; overflow: hidden; text-overflow: ellipsis; \" colspan=\"1\"><div style=\"text-align: left;border-bottom: solid 2px #000; padding-bottom: 5px\">ID1_COLLABORATOR_PARTICIPANT_ID</div></td><td style=\"white-space: nowrap; max-width: 500px; overflow: hidden; text-overflow: ellipsis; \" colspan=\"1\"><div style=\"text-align: left;border-bottom: solid 2px #000; padding-bottom: 5px\">ID2</div></td><td style=\"white-space: nowrap; max-width: 500px; overflow: hidden; text-overflow: ellipsis; \" colspan=\"1\"><div style=\"text-align: left;border-bottom: solid 2px #000; padding-bottom: 5px\">ID2_SUBJECT_ID</div></td><td style=\"white-space: nowrap; max-width: 500px; overflow: hidden; text-overflow: ellipsis; \" colspan=\"1\"><div style=\"text-align: left;border-bottom: solid 2px #000; padding-bottom: 5px\">ID2_COLLABORATOR_PARTICIPANT_ID</div></td><td style=\"white-space: nowrap; max-width: 500px; overflow: hidden; text-overflow: ellipsis; \" colspan=\"1\"><div style=\"text-align: left;border-bottom: solid 2px #000; padding-bottom: 5px\">N_SNP</div></td><td style=\"white-space: nowrap; max-width: 500px; overflow: hidden; text-overflow: ellipsis; \" colspan=\"1\"><div style=\"text-align: left;border-bottom: solid 2px #000; padding-bottom: 5px\">HetHet</div></td><td style=\"white-space: nowrap; max-width: 500px; overflow: hidden; text-overflow: ellipsis; \" colspan=\"1\"><div style=\"text-align: left;border-bottom: solid 2px #000; padding-bottom: 5px\">IBS0</div></td><td style=\"white-space: nowrap; max-width: 500px; overflow: hidden; text-overflow: ellipsis; \" colspan=\"1\"><div style=\"text-align: left;border-bottom: solid 2px #000; padding-bottom: 5px\">HetConc</div></td><td style=\"white-space: nowrap; max-width: 500px; overflow: hidden; text-overflow: ellipsis; \" colspan=\"1\"><div style=\"text-align: left;border-bottom: solid 2px #000; padding-bottom: 5px\">HomIBS0</div></td><td style=\"white-space: nowrap; max-width: 500px; overflow: hidden; text-overflow: ellipsis; \" colspan=\"1\"><div style=\"text-align: left;border-bottom: solid 2px #000; padding-bottom: 5px\">Kinship</div></td><td style=\"white-space: nowrap; max-width: 500px; overflow: hidden; text-overflow: ellipsis; \" colspan=\"1\"><div style=\"text-align: left;border-bottom: solid 2px #000; padding-bottom: 5px\">IBD1Seg</div></td><td style=\"white-space: nowrap; max-width: 500px; overflow: hidden; text-overflow: ellipsis; \" colspan=\"1\"><div style=\"text-align: left;border-bottom: solid 2px #000; padding-bottom: 5px\">IBD2Seg</div></td><td style=\"white-space: nowrap; max-width: 500px; overflow: hidden; text-overflow: ellipsis; \" colspan=\"1\"><div style=\"text-align: left;border-bottom: solid 2px #000; padding-bottom: 5px\">PropIBD</div></td><td style=\"white-space: nowrap; max-width: 500px; overflow: hidden; text-overflow: ellipsis; \" colspan=\"1\"><div style=\"text-align: left;border-bottom: solid 2px #000; padding-bottom: 5px\">InfType</div></td><td style=\"white-space: nowrap; max-width: 500px; overflow: hidden; text-overflow: ellipsis; \" colspan=\"1\"><div style=\"text-align: left;border-bottom: solid 2px #000; padding-bottom: 5px\">ID1_cohort</div></td><td style=\"white-space: nowrap; max-width: 500px; overflow: hidden; text-overflow: ellipsis; \" colspan=\"1\"><div style=\"text-align: left;border-bottom: solid 2px #000; padding-bottom: 5px\">ID2_cohort</div></td><td style=\"white-space: nowrap; max-width: 500px; overflow: hidden; text-overflow: ellipsis; \" colspan=\"1\"><div style=\"text-align: left;border-bottom: solid 2px #000; padding-bottom: 5px\">ID1_role</div></td><td style=\"white-space: nowrap; max-width: 500px; overflow: hidden; text-overflow: ellipsis; \" colspan=\"1\"><div style=\"text-align: left;border-bottom: solid 2px #000; padding-bottom: 5px\">ID2_role</div></td><td style=\"white-space: nowrap; max-width: 500px; overflow: hidden; text-overflow: ellipsis; \" colspan=\"1\"><div style=\"text-align: left;border-bottom: solid 2px #000; padding-bottom: 5px\">ID1_n_times_appear_in_dup_pair</div></td><td style=\"white-space: nowrap; max-width: 500px; overflow: hidden; text-overflow: ellipsis; \" colspan=\"1\"><div style=\"text-align: left;border-bottom: solid 2px #000; padding-bottom: 5px\">ID2_n_times_appear_in_dup_pair</div></td><td style=\"white-space: nowrap; max-width: 500px; overflow: hidden; text-overflow: ellipsis; \" colspan=\"1\"><div style=\"text-align: left;border-bottom: solid 2px #000; padding-bottom: 5px\">ID1_primary_disease</div></td><td style=\"white-space: nowrap; max-width: 500px; overflow: hidden; text-overflow: ellipsis; \" colspan=\"1\"><div style=\"text-align: left;border-bottom: solid 2px #000; padding-bottom: 5px\">ID2_primary_disease</div></td><td style=\"white-space: nowrap; max-width: 500px; overflow: hidden; text-overflow: ellipsis; \" colspan=\"1\"><div style=\"text-align: left;border-bottom: solid 2px #000; padding-bottom: 5px\">same_site</div></td><td style=\"white-space: nowrap; max-width: 500px; overflow: hidden; text-overflow: ellipsis; \" colspan=\"1\"><div style=\"text-align: left;border-bottom: solid 2px #000; padding-bottom: 5px\">same_role</div></td><td style=\"white-space: nowrap; max-width: 500px; overflow: hidden; text-overflow: ellipsis; \" colspan=\"1\"><div style=\"text-align: left;border-bottom: solid 2px #000; padding-bottom: 5px\">same_primary_disease</div></td></tr><tr><td style=\"white-space: nowrap; max-width: 500px; overflow: hidden; text-overflow: ellipsis; text-align: left;\">str</td><td style=\"white-space: nowrap; max-width: 500px; overflow: hidden; text-overflow: ellipsis; text-align: left;\">str</td><td style=\"white-space: nowrap; max-width: 500px; overflow: hidden; text-overflow: ellipsis; text-align: left;\">str</td><td style=\"white-space: nowrap; max-width: 500px; overflow: hidden; text-overflow: ellipsis; text-align: left;\">str</td><td style=\"white-space: nowrap; max-width: 500px; overflow: hidden; text-overflow: ellipsis; text-align: left;\">str</td><td style=\"white-space: nowrap; max-width: 500px; overflow: hidden; text-overflow: ellipsis; text-align: left;\">str</td><td style=\"white-space: nowrap; max-width: 500px; overflow: hidden; text-overflow: ellipsis; text-align: left;\">int32</td><td style=\"white-space: nowrap; max-width: 500px; overflow: hidden; text-overflow: ellipsis; text-align: left;\">float64</td><td style=\"white-space: nowrap; max-width: 500px; overflow: hidden; text-overflow: ellipsis; text-align: left;\">int32</td><td style=\"white-space: nowrap; max-width: 500px; overflow: hidden; text-overflow: ellipsis; text-align: left;\">float64</td><td style=\"white-space: nowrap; max-width: 500px; overflow: hidden; text-overflow: ellipsis; text-align: left;\">float64</td><td style=\"white-space: nowrap; max-width: 500px; overflow: hidden; text-overflow: ellipsis; text-align: left;\">float64</td><td style=\"white-space: nowrap; max-width: 500px; overflow: hidden; text-overflow: ellipsis; text-align: left;\">float64</td><td style=\"white-space: nowrap; max-width: 500px; overflow: hidden; text-overflow: ellipsis; text-align: left;\">float64</td><td style=\"white-space: nowrap; max-width: 500px; overflow: hidden; text-overflow: ellipsis; text-align: left;\">float64</td><td style=\"white-space: nowrap; max-width: 500px; overflow: hidden; text-overflow: ellipsis; text-align: left;\">str</td><td style=\"white-space: nowrap; max-width: 500px; overflow: hidden; text-overflow: ellipsis; text-align: left;\">str</td><td style=\"white-space: nowrap; max-width: 500px; overflow: hidden; text-overflow: ellipsis; text-align: left;\">str</td><td style=\"white-space: nowrap; max-width: 500px; overflow: hidden; text-overflow: ellipsis; text-align: left;\">str</td><td style=\"white-space: nowrap; max-width: 500px; overflow: hidden; text-overflow: ellipsis; text-align: left;\">str</td><td style=\"white-space: nowrap; max-width: 500px; overflow: hidden; text-overflow: ellipsis; text-align: left;\">int32</td><td style=\"white-space: nowrap; max-width: 500px; overflow: hidden; text-overflow: ellipsis; text-align: left;\">int32</td><td style=\"white-space: nowrap; max-width: 500px; overflow: hidden; text-overflow: ellipsis; text-align: left;\">str</td><td style=\"white-space: nowrap; max-width: 500px; overflow: hidden; text-overflow: ellipsis; text-align: left;\">str</td><td style=\"white-space: nowrap; max-width: 500px; overflow: hidden; text-overflow: ellipsis; text-align: left;\">bool</td><td style=\"white-space: nowrap; max-width: 500px; overflow: hidden; text-overflow: ellipsis; text-align: left;\">bool</td><td style=\"white-space: nowrap; max-width: 500px; overflow: hidden; text-overflow: ellipsis; text-align: left;\">bool</td></tr>\n",
       "</thead><tbody><tr><td style=\"white-space: nowrap; max-width: 500px; overflow: hidden; text-overflow: ellipsis; \">&quot;RP-1691.PDO-29438_MAP2352&quot;</td><td style=\"white-space: nowrap; max-width: 500px; overflow: hidden; text-overflow: ellipsis; \">&quot;MAP2352&quot;</td><td style=\"white-space: nowrap; max-width: 500px; overflow: hidden; text-overflow: ellipsis; \">&quot;MAP42090985&quot;</td><td style=\"white-space: nowrap; max-width: 500px; overflow: hidden; text-overflow: ellipsis; \">&quot;RP-1691.PDO-29438_MAP1081&quot;</td><td style=\"white-space: nowrap; max-width: 500px; overflow: hidden; text-overflow: ellipsis; \">&quot;MAP1081&quot;</td><td style=\"white-space: nowrap; max-width: 500px; overflow: hidden; text-overflow: ellipsis; \">&quot;MAP80068220&quot;</td><td style=\"white-space: nowrap; max-width: 500px; overflow: hidden; text-overflow: ellipsis; \">267632</td><td style=\"white-space: nowrap; max-width: 500px; overflow: hidden; text-overflow: ellipsis; \">6.43e-02</td><td style=\"white-space: nowrap; max-width: 500px; overflow: hidden; text-overflow: ellipsis; \">0</td><td style=\"white-space: nowrap; max-width: 500px; overflow: hidden; text-overflow: ellipsis; \">9.96e-01</td><td style=\"white-space: nowrap; max-width: 500px; overflow: hidden; text-overflow: ellipsis; \">1.00e-04</td><td style=\"white-space: nowrap; max-width: 500px; overflow: hidden; text-overflow: ellipsis; \">4.99e-01</td><td style=\"white-space: nowrap; max-width: 500px; overflow: hidden; text-overflow: ellipsis; \">0.00e+00</td><td style=\"white-space: nowrap; max-width: 500px; overflow: hidden; text-overflow: ellipsis; \">9.99e-01</td><td style=\"white-space: nowrap; max-width: 500px; overflow: hidden; text-overflow: ellipsis; \">9.99e-01</td><td style=\"white-space: nowrap; max-width: 500px; overflow: hidden; text-overflow: ellipsis; \">&quot;Dup/MZ&quot;</td><td style=\"white-space: nowrap; max-width: 500px; overflow: hidden; text-overflow: ellipsis; \">&quot;NeuroGAP-Psychosis_Uganda&quot;</td><td style=\"white-space: nowrap; max-width: 500px; overflow: hidden; text-overflow: ellipsis; \">&quot;NeuroGAP-Psychosis_Uganda&quot;</td><td style=\"white-space: nowrap; max-width: 500px; overflow: hidden; text-overflow: ellipsis; \">&quot;Control&quot;</td><td style=\"white-space: nowrap; max-width: 500px; overflow: hidden; text-overflow: ellipsis; \">&quot;Control&quot;</td><td style=\"white-space: nowrap; max-width: 500px; overflow: hidden; text-overflow: ellipsis; \">1</td><td style=\"white-space: nowrap; max-width: 500px; overflow: hidden; text-overflow: ellipsis; \">1</td><td style=\"white-space: nowrap; max-width: 500px; overflow: hidden; text-overflow: ellipsis; \">&quot;Control&quot;</td><td style=\"white-space: nowrap; max-width: 500px; overflow: hidden; text-overflow: ellipsis; \">&quot;Control&quot;</td><td style=\"white-space: nowrap; max-width: 500px; overflow: hidden; text-overflow: ellipsis; \">True</td><td style=\"white-space: nowrap; max-width: 500px; overflow: hidden; text-overflow: ellipsis; \">True</td><td style=\"white-space: nowrap; max-width: 500px; overflow: hidden; text-overflow: ellipsis; \">True</td></tr>\n",
       "<tr><td style=\"white-space: nowrap; max-width: 500px; overflow: hidden; text-overflow: ellipsis; \">&quot;RP-1691.PDO-29469_MAP8791&quot;</td><td style=\"white-space: nowrap; max-width: 500px; overflow: hidden; text-overflow: ellipsis; \">&quot;MAP8791&quot;</td><td style=\"white-space: nowrap; max-width: 500px; overflow: hidden; text-overflow: ellipsis; \">&quot;MAP80964550&quot;</td><td style=\"white-space: nowrap; max-width: 500px; overflow: hidden; text-overflow: ellipsis; \">&quot;RP-1691.PDO-29438_MAP1092&quot;</td><td style=\"white-space: nowrap; max-width: 500px; overflow: hidden; text-overflow: ellipsis; \">&quot;MAP1092&quot;</td><td style=\"white-space: nowrap; max-width: 500px; overflow: hidden; text-overflow: ellipsis; \">&quot;MAP93579870&quot;</td><td style=\"white-space: nowrap; max-width: 500px; overflow: hidden; text-overflow: ellipsis; \">272660</td><td style=\"white-space: nowrap; max-width: 500px; overflow: hidden; text-overflow: ellipsis; \">6.40e-02</td><td style=\"white-space: nowrap; max-width: 500px; overflow: hidden; text-overflow: ellipsis; \">0</td><td style=\"white-space: nowrap; max-width: 500px; overflow: hidden; text-overflow: ellipsis; \">9.97e-01</td><td style=\"white-space: nowrap; max-width: 500px; overflow: hidden; text-overflow: ellipsis; \">1.00e-04</td><td style=\"white-space: nowrap; max-width: 500px; overflow: hidden; text-overflow: ellipsis; \">4.99e-01</td><td style=\"white-space: nowrap; max-width: 500px; overflow: hidden; text-overflow: ellipsis; \">0.00e+00</td><td style=\"white-space: nowrap; max-width: 500px; overflow: hidden; text-overflow: ellipsis; \">9.99e-01</td><td style=\"white-space: nowrap; max-width: 500px; overflow: hidden; text-overflow: ellipsis; \">9.99e-01</td><td style=\"white-space: nowrap; max-width: 500px; overflow: hidden; text-overflow: ellipsis; \">&quot;Dup/MZ&quot;</td><td style=\"white-space: nowrap; max-width: 500px; overflow: hidden; text-overflow: ellipsis; \">&quot;NeuroGAP-Psychosis_Uganda&quot;</td><td style=\"white-space: nowrap; max-width: 500px; overflow: hidden; text-overflow: ellipsis; \">&quot;NeuroGAP-Psychosis_Uganda&quot;</td><td style=\"white-space: nowrap; max-width: 500px; overflow: hidden; text-overflow: ellipsis; \">&quot;Case&quot;</td><td style=\"white-space: nowrap; max-width: 500px; overflow: hidden; text-overflow: ellipsis; \">&quot;Case&quot;</td><td style=\"white-space: nowrap; max-width: 500px; overflow: hidden; text-overflow: ellipsis; \">1</td><td style=\"white-space: nowrap; max-width: 500px; overflow: hidden; text-overflow: ellipsis; \">1</td><td style=\"white-space: nowrap; max-width: 500px; overflow: hidden; text-overflow: ellipsis; \">&quot;Bipolar Disorder&quot;</td><td style=\"white-space: nowrap; max-width: 500px; overflow: hidden; text-overflow: ellipsis; \">&quot;Schizophrenia&quot;</td><td style=\"white-space: nowrap; max-width: 500px; overflow: hidden; text-overflow: ellipsis; \">True</td><td style=\"white-space: nowrap; max-width: 500px; overflow: hidden; text-overflow: ellipsis; \">True</td><td style=\"white-space: nowrap; max-width: 500px; overflow: hidden; text-overflow: ellipsis; \">False</td></tr>\n",
       "<tr><td style=\"white-space: nowrap; max-width: 500px; overflow: hidden; text-overflow: ellipsis; \">&quot;RP-1691.PDO-29438_MAP1502&quot;</td><td style=\"white-space: nowrap; max-width: 500px; overflow: hidden; text-overflow: ellipsis; \">&quot;MAP1502&quot;</td><td style=\"white-space: nowrap; max-width: 500px; overflow: hidden; text-overflow: ellipsis; \">&quot;MAP94000517&quot;</td><td style=\"white-space: nowrap; max-width: 500px; overflow: hidden; text-overflow: ellipsis; \">&quot;RP-1691.PDO-29438_MAP1093&quot;</td><td style=\"white-space: nowrap; max-width: 500px; overflow: hidden; text-overflow: ellipsis; \">&quot;MAP1093&quot;</td><td style=\"white-space: nowrap; max-width: 500px; overflow: hidden; text-overflow: ellipsis; \">&quot;MAP84869921&quot;</td><td style=\"white-space: nowrap; max-width: 500px; overflow: hidden; text-overflow: ellipsis; \">270414</td><td style=\"white-space: nowrap; max-width: 500px; overflow: hidden; text-overflow: ellipsis; \">6.43e-02</td><td style=\"white-space: nowrap; max-width: 500px; overflow: hidden; text-overflow: ellipsis; \">0</td><td style=\"white-space: nowrap; max-width: 500px; overflow: hidden; text-overflow: ellipsis; \">9.97e-01</td><td style=\"white-space: nowrap; max-width: 500px; overflow: hidden; text-overflow: ellipsis; \">2.00e-04</td><td style=\"white-space: nowrap; max-width: 500px; overflow: hidden; text-overflow: ellipsis; \">4.99e-01</td><td style=\"white-space: nowrap; max-width: 500px; overflow: hidden; text-overflow: ellipsis; \">0.00e+00</td><td style=\"white-space: nowrap; max-width: 500px; overflow: hidden; text-overflow: ellipsis; \">1.00e+00</td><td style=\"white-space: nowrap; max-width: 500px; overflow: hidden; text-overflow: ellipsis; \">1.00e+00</td><td style=\"white-space: nowrap; max-width: 500px; overflow: hidden; text-overflow: ellipsis; \">&quot;Dup/MZ&quot;</td><td style=\"white-space: nowrap; max-width: 500px; overflow: hidden; text-overflow: ellipsis; \">&quot;NeuroGAP-Psychosis_Uganda&quot;</td><td style=\"white-space: nowrap; max-width: 500px; overflow: hidden; text-overflow: ellipsis; \">&quot;NeuroGAP-Psychosis_Uganda&quot;</td><td style=\"white-space: nowrap; max-width: 500px; overflow: hidden; text-overflow: ellipsis; \">&quot;Case&quot;</td><td style=\"white-space: nowrap; max-width: 500px; overflow: hidden; text-overflow: ellipsis; \">&quot;Case&quot;</td><td style=\"white-space: nowrap; max-width: 500px; overflow: hidden; text-overflow: ellipsis; \">1</td><td style=\"white-space: nowrap; max-width: 500px; overflow: hidden; text-overflow: ellipsis; \">1</td><td style=\"white-space: nowrap; max-width: 500px; overflow: hidden; text-overflow: ellipsis; \">&quot;Schizophrenia&quot;</td><td style=\"white-space: nowrap; max-width: 500px; overflow: hidden; text-overflow: ellipsis; \">&quot;Schizophrenia&quot;</td><td style=\"white-space: nowrap; max-width: 500px; overflow: hidden; text-overflow: ellipsis; \">True</td><td style=\"white-space: nowrap; max-width: 500px; overflow: hidden; text-overflow: ellipsis; \">True</td><td style=\"white-space: nowrap; max-width: 500px; overflow: hidden; text-overflow: ellipsis; \">True</td></tr>\n",
       "<tr><td style=\"white-space: nowrap; max-width: 500px; overflow: hidden; text-overflow: ellipsis; \">&quot;RP-1691.PDO-29469_MAP9231&quot;</td><td style=\"white-space: nowrap; max-width: 500px; overflow: hidden; text-overflow: ellipsis; \">&quot;MAP9231&quot;</td><td style=\"white-space: nowrap; max-width: 500px; overflow: hidden; text-overflow: ellipsis; \">&quot;MAP86100016&quot;</td><td style=\"white-space: nowrap; max-width: 500px; overflow: hidden; text-overflow: ellipsis; \">&quot;RP-1691.PDO-29438_MAP120&quot;</td><td style=\"white-space: nowrap; max-width: 500px; overflow: hidden; text-overflow: ellipsis; \">&quot;MAP120&quot;</td><td style=\"white-space: nowrap; max-width: 500px; overflow: hidden; text-overflow: ellipsis; \">&quot;MAP47297337&quot;</td><td style=\"white-space: nowrap; max-width: 500px; overflow: hidden; text-overflow: ellipsis; \">271972</td><td style=\"white-space: nowrap; max-width: 500px; overflow: hidden; text-overflow: ellipsis; \">6.47e-02</td><td style=\"white-space: nowrap; max-width: 500px; overflow: hidden; text-overflow: ellipsis; \">0</td><td style=\"white-space: nowrap; max-width: 500px; overflow: hidden; text-overflow: ellipsis; \">9.97e-01</td><td style=\"white-space: nowrap; max-width: 500px; overflow: hidden; text-overflow: ellipsis; \">0.00e+00</td><td style=\"white-space: nowrap; max-width: 500px; overflow: hidden; text-overflow: ellipsis; \">4.99e-01</td><td style=\"white-space: nowrap; max-width: 500px; overflow: hidden; text-overflow: ellipsis; \">0.00e+00</td><td style=\"white-space: nowrap; max-width: 500px; overflow: hidden; text-overflow: ellipsis; \">1.00e+00</td><td style=\"white-space: nowrap; max-width: 500px; overflow: hidden; text-overflow: ellipsis; \">1.00e+00</td><td style=\"white-space: nowrap; max-width: 500px; overflow: hidden; text-overflow: ellipsis; \">&quot;Dup/MZ&quot;</td><td style=\"white-space: nowrap; max-width: 500px; overflow: hidden; text-overflow: ellipsis; \">&quot;NeuroGAP-Psychosis_Uganda&quot;</td><td style=\"white-space: nowrap; max-width: 500px; overflow: hidden; text-overflow: ellipsis; \">&quot;NeuroGAP-Psychosis_Uganda&quot;</td><td style=\"white-space: nowrap; max-width: 500px; overflow: hidden; text-overflow: ellipsis; \">&quot;Control&quot;</td><td style=\"white-space: nowrap; max-width: 500px; overflow: hidden; text-overflow: ellipsis; \">&quot;Control&quot;</td><td style=\"white-space: nowrap; max-width: 500px; overflow: hidden; text-overflow: ellipsis; \">1</td><td style=\"white-space: nowrap; max-width: 500px; overflow: hidden; text-overflow: ellipsis; \">1</td><td style=\"white-space: nowrap; max-width: 500px; overflow: hidden; text-overflow: ellipsis; \">&quot;Control&quot;</td><td style=\"white-space: nowrap; max-width: 500px; overflow: hidden; text-overflow: ellipsis; \">&quot;Control&quot;</td><td style=\"white-space: nowrap; max-width: 500px; overflow: hidden; text-overflow: ellipsis; \">True</td><td style=\"white-space: nowrap; max-width: 500px; overflow: hidden; text-overflow: ellipsis; \">True</td><td style=\"white-space: nowrap; max-width: 500px; overflow: hidden; text-overflow: ellipsis; \">True</td></tr>\n",
       "<tr><td style=\"white-space: nowrap; max-width: 500px; overflow: hidden; text-overflow: ellipsis; \">&quot;RP-1691.PDO-29469_MAP3677&quot;</td><td style=\"white-space: nowrap; max-width: 500px; overflow: hidden; text-overflow: ellipsis; \">&quot;MAP3677&quot;</td><td style=\"white-space: nowrap; max-width: 500px; overflow: hidden; text-overflow: ellipsis; \">&quot;MAP22416927&quot;</td><td style=\"white-space: nowrap; max-width: 500px; overflow: hidden; text-overflow: ellipsis; \">&quot;RP-1691.PDO-29438_MAP1370&quot;</td><td style=\"white-space: nowrap; max-width: 500px; overflow: hidden; text-overflow: ellipsis; \">&quot;MAP1370&quot;</td><td style=\"white-space: nowrap; max-width: 500px; overflow: hidden; text-overflow: ellipsis; \">&quot;MAP61833432&quot;</td><td style=\"white-space: nowrap; max-width: 500px; overflow: hidden; text-overflow: ellipsis; \">270959</td><td style=\"white-space: nowrap; max-width: 500px; overflow: hidden; text-overflow: ellipsis; \">6.44e-02</td><td style=\"white-space: nowrap; max-width: 500px; overflow: hidden; text-overflow: ellipsis; \">0</td><td style=\"white-space: nowrap; max-width: 500px; overflow: hidden; text-overflow: ellipsis; \">9.97e-01</td><td style=\"white-space: nowrap; max-width: 500px; overflow: hidden; text-overflow: ellipsis; \">0.00e+00</td><td style=\"white-space: nowrap; max-width: 500px; overflow: hidden; text-overflow: ellipsis; \">4.99e-01</td><td style=\"white-space: nowrap; max-width: 500px; overflow: hidden; text-overflow: ellipsis; \">0.00e+00</td><td style=\"white-space: nowrap; max-width: 500px; overflow: hidden; text-overflow: ellipsis; \">1.00e+00</td><td style=\"white-space: nowrap; max-width: 500px; overflow: hidden; text-overflow: ellipsis; \">1.00e+00</td><td style=\"white-space: nowrap; max-width: 500px; overflow: hidden; text-overflow: ellipsis; \">&quot;Dup/MZ&quot;</td><td style=\"white-space: nowrap; max-width: 500px; overflow: hidden; text-overflow: ellipsis; \">&quot;NeuroGAP-Psychosis_Uganda&quot;</td><td style=\"white-space: nowrap; max-width: 500px; overflow: hidden; text-overflow: ellipsis; \">&quot;NeuroGAP-Psychosis_Uganda&quot;</td><td style=\"white-space: nowrap; max-width: 500px; overflow: hidden; text-overflow: ellipsis; \">&quot;Case&quot;</td><td style=\"white-space: nowrap; max-width: 500px; overflow: hidden; text-overflow: ellipsis; \">&quot;Case&quot;</td><td style=\"white-space: nowrap; max-width: 500px; overflow: hidden; text-overflow: ellipsis; \">2</td><td style=\"white-space: nowrap; max-width: 500px; overflow: hidden; text-overflow: ellipsis; \">2</td><td style=\"white-space: nowrap; max-width: 500px; overflow: hidden; text-overflow: ellipsis; \">&quot;Schizophrenia&quot;</td><td style=\"white-space: nowrap; max-width: 500px; overflow: hidden; text-overflow: ellipsis; \">&quot;Schizophrenia&quot;</td><td style=\"white-space: nowrap; max-width: 500px; overflow: hidden; text-overflow: ellipsis; \">True</td><td style=\"white-space: nowrap; max-width: 500px; overflow: hidden; text-overflow: ellipsis; \">True</td><td style=\"white-space: nowrap; max-width: 500px; overflow: hidden; text-overflow: ellipsis; \">True</td></tr>\n",
       "</tbody></table><p style=\"background: #fdd; padding: 0.4em;\">showing top 5 rows</p>\n"
      ],
      "text/plain": [
       "+-----------------------------+----------------+\n",
       "| ID1                         | ID1_SUBJECT_ID |\n",
       "+-----------------------------+----------------+\n",
       "| str                         | str            |\n",
       "+-----------------------------+----------------+\n",
       "| \"RP-1691.PDO-29438_MAP2352\" | \"MAP2352\"      |\n",
       "| \"RP-1691.PDO-29469_MAP8791\" | \"MAP8791\"      |\n",
       "| \"RP-1691.PDO-29438_MAP1502\" | \"MAP1502\"      |\n",
       "| \"RP-1691.PDO-29469_MAP9231\" | \"MAP9231\"      |\n",
       "| \"RP-1691.PDO-29469_MAP3677\" | \"MAP3677\"      |\n",
       "+-----------------------------+----------------+\n",
       "\n",
       "+---------------------------------+-----------------------------+\n",
       "| ID1_COLLABORATOR_PARTICIPANT_ID | ID2                         |\n",
       "+---------------------------------+-----------------------------+\n",
       "| str                             | str                         |\n",
       "+---------------------------------+-----------------------------+\n",
       "| \"MAP42090985\"                   | \"RP-1691.PDO-29438_MAP1081\" |\n",
       "| \"MAP80964550\"                   | \"RP-1691.PDO-29438_MAP1092\" |\n",
       "| \"MAP94000517\"                   | \"RP-1691.PDO-29438_MAP1093\" |\n",
       "| \"MAP86100016\"                   | \"RP-1691.PDO-29438_MAP120\"  |\n",
       "| \"MAP22416927\"                   | \"RP-1691.PDO-29438_MAP1370\" |\n",
       "+---------------------------------+-----------------------------+\n",
       "\n",
       "+----------------+---------------------------------+--------+----------+-------+\n",
       "| ID2_SUBJECT_ID | ID2_COLLABORATOR_PARTICIPANT_ID |  N_SNP |   HetHet |  IBS0 |\n",
       "+----------------+---------------------------------+--------+----------+-------+\n",
       "| str            | str                             |  int32 |  float64 | int32 |\n",
       "+----------------+---------------------------------+--------+----------+-------+\n",
       "| \"MAP1081\"      | \"MAP80068220\"                   | 267632 | 6.43e-02 |     0 |\n",
       "| \"MAP1092\"      | \"MAP93579870\"                   | 272660 | 6.40e-02 |     0 |\n",
       "| \"MAP1093\"      | \"MAP84869921\"                   | 270414 | 6.43e-02 |     0 |\n",
       "| \"MAP120\"       | \"MAP47297337\"                   | 271972 | 6.47e-02 |     0 |\n",
       "| \"MAP1370\"      | \"MAP61833432\"                   | 270959 | 6.44e-02 |     0 |\n",
       "+----------------+---------------------------------+--------+----------+-------+\n",
       "\n",
       "+----------+----------+----------+----------+----------+----------+----------+\n",
       "|  HetConc |  HomIBS0 |  Kinship |  IBD1Seg |  IBD2Seg |  PropIBD | InfType  |\n",
       "+----------+----------+----------+----------+----------+----------+----------+\n",
       "|  float64 |  float64 |  float64 |  float64 |  float64 |  float64 | str      |\n",
       "+----------+----------+----------+----------+----------+----------+----------+\n",
       "| 9.96e-01 | 1.00e-04 | 4.99e-01 | 0.00e+00 | 9.99e-01 | 9.99e-01 | \"Dup/MZ\" |\n",
       "| 9.97e-01 | 1.00e-04 | 4.99e-01 | 0.00e+00 | 9.99e-01 | 9.99e-01 | \"Dup/MZ\" |\n",
       "| 9.97e-01 | 2.00e-04 | 4.99e-01 | 0.00e+00 | 1.00e+00 | 1.00e+00 | \"Dup/MZ\" |\n",
       "| 9.97e-01 | 0.00e+00 | 4.99e-01 | 0.00e+00 | 1.00e+00 | 1.00e+00 | \"Dup/MZ\" |\n",
       "| 9.97e-01 | 0.00e+00 | 4.99e-01 | 0.00e+00 | 1.00e+00 | 1.00e+00 | \"Dup/MZ\" |\n",
       "+----------+----------+----------+----------+----------+----------+----------+\n",
       "\n",
       "+-----------------------------+-----------------------------+-----------+\n",
       "| ID1_cohort                  | ID2_cohort                  | ID1_role  |\n",
       "+-----------------------------+-----------------------------+-----------+\n",
       "| str                         | str                         | str       |\n",
       "+-----------------------------+-----------------------------+-----------+\n",
       "| \"NeuroGAP-Psychosis_Uganda\" | \"NeuroGAP-Psychosis_Uganda\" | \"Control\" |\n",
       "| \"NeuroGAP-Psychosis_Uganda\" | \"NeuroGAP-Psychosis_Uganda\" | \"Case\"    |\n",
       "| \"NeuroGAP-Psychosis_Uganda\" | \"NeuroGAP-Psychosis_Uganda\" | \"Case\"    |\n",
       "| \"NeuroGAP-Psychosis_Uganda\" | \"NeuroGAP-Psychosis_Uganda\" | \"Control\" |\n",
       "| \"NeuroGAP-Psychosis_Uganda\" | \"NeuroGAP-Psychosis_Uganda\" | \"Case\"    |\n",
       "+-----------------------------+-----------------------------+-----------+\n",
       "\n",
       "+-----------+--------------------------------+--------------------------------+\n",
       "| ID2_role  | ID1_n_times_appear_in_dup_pair | ID2_n_times_appear_in_dup_pair |\n",
       "+-----------+--------------------------------+--------------------------------+\n",
       "| str       |                          int32 |                          int32 |\n",
       "+-----------+--------------------------------+--------------------------------+\n",
       "| \"Control\" |                              1 |                              1 |\n",
       "| \"Case\"    |                              1 |                              1 |\n",
       "| \"Case\"    |                              1 |                              1 |\n",
       "| \"Control\" |                              1 |                              1 |\n",
       "| \"Case\"    |                              2 |                              2 |\n",
       "+-----------+--------------------------------+--------------------------------+\n",
       "\n",
       "+---------------------+---------------------+-----------+-----------+\n",
       "| ID1_primary_disease | ID2_primary_disease | same_site | same_role |\n",
       "+---------------------+---------------------+-----------+-----------+\n",
       "| str                 | str                 |      bool |      bool |\n",
       "+---------------------+---------------------+-----------+-----------+\n",
       "| \"Control\"           | \"Control\"           |      True |      True |\n",
       "| \"Bipolar Disorder\"  | \"Schizophrenia\"     |      True |      True |\n",
       "| \"Schizophrenia\"     | \"Schizophrenia\"     |      True |      True |\n",
       "| \"Control\"           | \"Control\"           |      True |      True |\n",
       "| \"Schizophrenia\"     | \"Schizophrenia\"     |      True |      True |\n",
       "+---------------------+---------------------+-----------+-----------+\n",
       "\n",
       "+----------------------+\n",
       "| same_primary_disease |\n",
       "+----------------------+\n",
       "|                 bool |\n",
       "+----------------------+\n",
       "|                 True |\n",
       "|                False |\n",
       "|                 True |\n",
       "|                 True |\n",
       "|                 True |\n",
       "+----------------------+\n",
       "showing top 5 rows"
      ]
     },
     "metadata": {},
     "output_type": "display_data"
    }
   ],
   "source": [
    "# Read in duplicates with case/control status file\n",
    "duplicate_info_df = hl.import_table(\"gs://fc-728aff93-d8b3-439a-b002-91dd07198e77/NeuroGAP/neurogap_fullset.kin0_with_cohorts_roles_kinmin_354.csv\", impute=True, delimiter=',')\n",
    "duplicate_info_df.show(5)  # Display first few rows\n"
   ]
  },
  {
   "cell_type": "code",
   "execution_count": 5,
   "id": "2dd6de4c",
   "metadata": {},
   "outputs": [],
   "source": [
    "# Subset the duplicates table to only include instances where diagnosis does not match (same_primary_disease == False)\n",
    "mismatches = duplicate_info_df.filter(duplicate_info_df.same_primary_disease == False)\n",
    "#note: could also subset by same_role==False if bipolar/SCZ status are grouped together"
   ]
  },
  {
   "cell_type": "code",
   "execution_count": 6,
   "id": "75637dd7",
   "metadata": {},
   "outputs": [],
   "source": [
    "# Filter duplicates table to exclude mismatches (for both ID1 and ID2)\n",
    "\n",
    "# Collect the mismatching IDs into Python lists\n",
    "mismatch_id1_list = mismatches.ID1_SUBJECT_ID.collect()\n",
    "mismatch_id2_list = mismatches.ID2_SUBJECT_ID.collect()\n",
    "\n",
    "# Convert them to Hail sets\n",
    "mismatch_id1_set = hl.set(mismatch_id1_list)\n",
    "mismatch_id2_set = hl.set(mismatch_id2_list)\n",
    "\n",
    "# combine with set of IDs to remove from plink2 command\n",
    "combined_set = mismatch_id1_set.union(mismatch_id2_set).union(duplicates_remove_ids)\n"
   ]
  },
  {
   "cell_type": "code",
   "execution_count": 7,
   "id": "356f787b",
   "metadata": {},
   "outputs": [
    {
     "data": {
      "text/plain": [
       "943"
      ]
     },
     "execution_count": 7,
     "metadata": {},
     "output_type": "execute_result"
    }
   ],
   "source": [
    "hl.eval(hl.len(combined_set)) #to check how many duplicates / mismatched duplicates are in the set"
   ]
  },
  {
   "cell_type": "code",
   "execution_count": 8,
   "id": "500f9f24",
   "metadata": {},
   "outputs": [
    {
     "name": "stderr",
     "output_type": "stream",
     "text": [
      "\r",
      "[Stage 18:>                                                         (0 + 1) / 1]\r"
     ]
    },
    {
     "name": "stdout",
     "output_type": "stream",
     "text": [
      "Projects in the manifest: {'NeuroGAP-Psychosis_UCT_Psychosis_BGE', 'GPC_Pato_Miller_BGE', 'GPC_Pato_Malaspina_BGE', 'Taiwan_Kuo_BP_BGE', 'GPC_Pato_SUNYDownstate_BGE', 'NeuroMex_Koenen_Psychosis_WGS', 'KenyaPsychosis_Koenen_Mamah_BGE', 'NeuroGAP-Psychosis_KEMRI_Psychosis_BGE', 'BioX_Huang_Qin_SCZ_BGE', 'PUMAS_PAISA_Psychosis_BGE', 'BioX_Huang_Qin_Controls_BGE', 'NeuroGAP-Psychosis_Uganda_Psychosis_BGE', 'QIMR_Whiteman_Controls_BGE', 'NeuroGAP-Psychosis_AAU_Psychosis_BGE', 'NeuroGAP-Psychosis_Moi_Psychosis_BGE', 'GPC_Pato_Lehrer_WSU_BGE', 'Pakistan_Knowles_Ayub_Controls_BGE', 'QIMR_Medland_Bipolar_BGE', 'Pakistan_GenSCRIP_Knowles_Ayub_SCZ_BGE', 'GPC_Pato_Rapaport_Emory_BGE'}\n"
     ]
    }
   ],
   "source": [
    "# Get a list of all included projects in the manifest\n",
    "projects = manifest.TERRA_WORKSPACE.collect()\n",
    "print(\"Projects in the manifest:\", set(projects))\n"
   ]
  },
  {
   "cell_type": "code",
   "execution_count": 9,
   "id": "1b3cf12d",
   "metadata": {},
   "outputs": [],
   "source": [
    "#  Subset the manifest to only include the site(s) of interest (e.g., Addis Ababa University site)\n",
    "manifest_sub = manifest.filter(manifest.TERRA_WORKSPACE == \"NeuroGAP-Psychosis_AAU_Psychosis_BGE\")\n"
   ]
  },
  {
   "cell_type": "code",
   "execution_count": 10,
   "id": "3072a138",
   "metadata": {},
   "outputs": [
    {
     "name": "stderr",
     "output_type": "stream",
     "text": [
      "2024-10-15 15:15:58.605 Hail: INFO: Number of BGEN files parsed: 22\n",
      "2024-10-15 15:15:58.607 Hail: INFO: Number of samples in BGEN files: 38797\n",
      "2024-10-15 15:15:58.607 Hail: INFO: Number of variants across all BGEN files: 32294864\n"
     ]
    }
   ],
   "source": [
    "#read in the BGEN files (all autosomes)\n",
    "\n",
    "input_path = f\"gs://fc-728aff93-d8b3-439a-b002-91dd07198e77/NeuroGAP/bgen/neurogap_final_merged_INFO0.8_rsIDs_chr*.bgen\"\n",
    "\n",
    "bgen = hl.import_bgen(input_path,entry_fields=['GT','GP'])\n"
   ]
  },
  {
   "cell_type": "code",
   "execution_count": 11,
   "id": "fd37b148",
   "metadata": {},
   "outputs": [
    {
     "name": "stderr",
     "output_type": "stream",
     "text": [
      "2024-10-15 15:16:33.107 Hail: INFO: Number of BGEN files parsed: 22\n",
      "2024-10-15 15:16:33.107 Hail: INFO: Number of samples in BGEN files: 38797\n",
      "2024-10-15 15:16:33.107 Hail: INFO: Number of variants across all BGEN files: 32294864\n"
     ]
    }
   ],
   "source": [
    "all_sample_ids = bgen.col_key.s.collect()"
   ]
  },
  {
   "cell_type": "code",
   "execution_count": 12,
   "id": "fbef2bbf",
   "metadata": {},
   "outputs": [
    {
     "data": {
      "text/plain": [
       "38797"
      ]
     },
     "execution_count": 12,
     "metadata": {},
     "output_type": "execute_result"
    }
   ],
   "source": [
    "len(all_sample_ids)"
   ]
  },
  {
   "cell_type": "code",
   "execution_count": 13,
   "id": "6aec83cb",
   "metadata": {},
   "outputs": [
    {
     "name": "stderr",
     "output_type": "stream",
     "text": [
      "\r",
      "[Stage 19:>                                                         (0 + 1) / 1]\r"
     ]
    }
   ],
   "source": [
    "# Subset the main sample list using the subsetted manifest IDs\n",
    "# Collect the subsetted manifest IDs into a Python list\n",
    "manifest_sub_ids = manifest_sub.SUBJECT_ID.collect()\n",
    "\n",
    "# Filter all_sample_ids to include only those that are in the manifest_sub_ids\n",
    "filtered_sample_ids = [sample for sample in all_sample_ids if sample in manifest_sub_ids]\n"
   ]
  },
  {
   "cell_type": "code",
   "execution_count": 14,
   "id": "ec2bcd34",
   "metadata": {},
   "outputs": [],
   "source": [
    "# Evaluate the combined_set into a Python set\n",
    "combined_set_py = hl.eval(combined_set)\n",
    "\n",
    "# Convert the Python set to a list\n",
    "combined_list = list(combined_set_py)\n",
    "\n",
    "\n",
    "# Filter filtered_sample_ids to exclude any samples that are in the combined duplicate set\n",
    "final_sample_ids = [sample for sample in filtered_sample_ids\n",
    "                    if sample not in combined_list]\n"
   ]
  },
  {
   "cell_type": "code",
   "execution_count": 15,
   "id": "b1b1fbc2",
   "metadata": {},
   "outputs": [],
   "source": [
    "# Convert the final_sample_ids list into a Hail set\n",
    "final_sample_set = hl.set(final_sample_ids)\n",
    "\n",
    "# Filter the MatrixTable to keep only the columns (samples) present in final_sample_ids\n",
    "bgen_subset = bgen.filter_cols(final_sample_set.contains(bgen.s))\n"
   ]
  },
  {
   "cell_type": "code",
   "execution_count": 17,
   "id": "a4bbec6b",
   "metadata": {},
   "outputs": [
    {
     "name": "stderr",
     "output_type": "stream",
     "text": [
      "2024-10-15 15:17:57.060 Hail: INFO: Number of BGEN files parsed: 22\n",
      "2024-10-15 15:17:57.060 Hail: INFO: Number of samples in BGEN files: 38797\n",
      "2024-10-15 15:17:57.060 Hail: INFO: Number of variants across all BGEN files: 32294864\n",
      "2024-10-15 15:43:37.566 Hail: INFO: wrote matrix table with 32294864 rows and 11083 columns in 1087 partitions to gs://neurogap-bge-imputed-regional/temp/AAU_prs_bgen_subset1.mt\n"
     ]
    }
   ],
   "source": [
    "#checkpoint the subset matrixTable so it doesn't need to be re-computed\n",
    "bgen_subset = bgen_subset.checkpoint('gs://neurogap-bge-imputed-regional/temp/AAU_prs_bgen_subset1.mt', overwrite=True)"
   ]
  },
  {
   "cell_type": "code",
   "execution_count": 18,
   "id": "c26a983e",
   "metadata": {},
   "outputs": [],
   "source": [
    "#get variant QC statistics\n",
    "bgen_subset = hl.variant_qc(bgen_subset)"
   ]
  },
  {
   "cell_type": "code",
   "execution_count": 19,
   "id": "55019669",
   "metadata": {},
   "outputs": [
    {
     "name": "stderr",
     "output_type": "stream",
     "text": [
      "2024-10-15 15:43:40.456 Hail: INFO: Reading table to impute column types\n",
      "2024-10-15 15:43:41.119 Hail: INFO: Finished type imputation\n",
      "  Loading field 'ID1' as type str (imputed)\n",
      "  Loading field 'ID2' as type str (imputed)\n",
      "  Loading field 'Kinship' as type float64 (imputed)\n"
     ]
    },
    {
     "data": {
      "text/html": [
       "<table><thead><tr><td style=\"white-space: nowrap; max-width: 500px; overflow: hidden; text-overflow: ellipsis; \" colspan=\"1\"><div style=\"text-align: left;\"></div></td><td style=\"white-space: nowrap; max-width: 500px; overflow: hidden; text-overflow: ellipsis; \" colspan=\"1\"><div style=\"text-align: left;\"></div></td><td style=\"white-space: nowrap; max-width: 500px; overflow: hidden; text-overflow: ellipsis; \" colspan=\"1\"><div style=\"text-align: left;\"></div></td></tr><tr><td style=\"white-space: nowrap; max-width: 500px; overflow: hidden; text-overflow: ellipsis; \" colspan=\"1\"><div style=\"text-align: left;border-bottom: solid 2px #000; padding-bottom: 5px\">ID1</div></td><td style=\"white-space: nowrap; max-width: 500px; overflow: hidden; text-overflow: ellipsis; \" colspan=\"1\"><div style=\"text-align: left;border-bottom: solid 2px #000; padding-bottom: 5px\">ID2</div></td><td style=\"white-space: nowrap; max-width: 500px; overflow: hidden; text-overflow: ellipsis; \" colspan=\"1\"><div style=\"text-align: left;border-bottom: solid 2px #000; padding-bottom: 5px\">Kinship</div></td></tr><tr><td style=\"white-space: nowrap; max-width: 500px; overflow: hidden; text-overflow: ellipsis; text-align: left;\">str</td><td style=\"white-space: nowrap; max-width: 500px; overflow: hidden; text-overflow: ellipsis; text-align: left;\">str</td><td style=\"white-space: nowrap; max-width: 500px; overflow: hidden; text-overflow: ellipsis; text-align: left;\">float64</td></tr>\n",
       "</thead><tbody><tr><td style=\"white-space: nowrap; max-width: 500px; overflow: hidden; text-overflow: ellipsis; \">&quot;NGP6484-1KTM&quot;</td><td style=\"white-space: nowrap; max-width: 500px; overflow: hidden; text-overflow: ellipsis; \">&quot;NGP_3109-1TTG&quot;</td><td style=\"white-space: nowrap; max-width: 500px; overflow: hidden; text-overflow: ellipsis; \">2.50e-01</td></tr>\n",
       "<tr><td style=\"white-space: nowrap; max-width: 500px; overflow: hidden; text-overflow: ellipsis; \">&quot;MAP11066&quot;</td><td style=\"white-space: nowrap; max-width: 500px; overflow: hidden; text-overflow: ellipsis; \">&quot;MAP11833&quot;</td><td style=\"white-space: nowrap; max-width: 500px; overflow: hidden; text-overflow: ellipsis; \">2.47e-01</td></tr>\n",
       "<tr><td style=\"white-space: nowrap; max-width: 500px; overflow: hidden; text-overflow: ellipsis; \">&quot;NGP8956-1BVQ&quot;</td><td style=\"white-space: nowrap; max-width: 500px; overflow: hidden; text-overflow: ellipsis; \">&quot;NGP4041-1VUI&quot;</td><td style=\"white-space: nowrap; max-width: 500px; overflow: hidden; text-overflow: ellipsis; \">9.22e-02</td></tr>\n",
       "<tr><td style=\"white-space: nowrap; max-width: 500px; overflow: hidden; text-overflow: ellipsis; \">&quot;NGE7298_2&quot;</td><td style=\"white-space: nowrap; max-width: 500px; overflow: hidden; text-overflow: ellipsis; \">&quot;NGE7683&quot;</td><td style=\"white-space: nowrap; max-width: 500px; overflow: hidden; text-overflow: ellipsis; \">2.46e-01</td></tr>\n",
       "<tr><td style=\"white-space: nowrap; max-width: 500px; overflow: hidden; text-overflow: ellipsis; \">&quot;NGP_1716-1TVT&quot;</td><td style=\"white-space: nowrap; max-width: 500px; overflow: hidden; text-overflow: ellipsis; \">&quot;NGP6236-1BFM&quot;</td><td style=\"white-space: nowrap; max-width: 500px; overflow: hidden; text-overflow: ellipsis; \">1.23e-01</td></tr>\n",
       "<tr><td style=\"white-space: nowrap; max-width: 500px; overflow: hidden; text-overflow: ellipsis; \">&quot;MAP6971&quot;</td><td style=\"white-space: nowrap; max-width: 500px; overflow: hidden; text-overflow: ellipsis; \">&quot;MAP2398&quot;</td><td style=\"white-space: nowrap; max-width: 500px; overflow: hidden; text-overflow: ellipsis; \">2.46e-01</td></tr>\n",
       "<tr><td style=\"white-space: nowrap; max-width: 500px; overflow: hidden; text-overflow: ellipsis; \">&quot;NGP968-1WJJ&quot;</td><td style=\"white-space: nowrap; max-width: 500px; overflow: hidden; text-overflow: ellipsis; \">&quot;NGP_1185-1HMM&quot;</td><td style=\"white-space: nowrap; max-width: 500px; overflow: hidden; text-overflow: ellipsis; \">2.46e-01</td></tr>\n",
       "<tr><td style=\"white-space: nowrap; max-width: 500px; overflow: hidden; text-overflow: ellipsis; \">&quot;NGP8622-1OZP&quot;</td><td style=\"white-space: nowrap; max-width: 500px; overflow: hidden; text-overflow: ellipsis; \">&quot;NGP4251-1DWJ&quot;</td><td style=\"white-space: nowrap; max-width: 500px; overflow: hidden; text-overflow: ellipsis; \">2.34e-01</td></tr>\n",
       "<tr><td style=\"white-space: nowrap; max-width: 500px; overflow: hidden; text-overflow: ellipsis; \">&quot;15001906103258PK&quot;</td><td style=\"white-space: nowrap; max-width: 500px; overflow: hidden; text-overflow: ellipsis; \">&quot;15001906103846PK&quot;</td><td style=\"white-space: nowrap; max-width: 500px; overflow: hidden; text-overflow: ellipsis; \">2.37e-01</td></tr>\n",
       "<tr><td style=\"white-space: nowrap; max-width: 500px; overflow: hidden; text-overflow: ellipsis; \">&quot;15001906103258PK&quot;</td><td style=\"white-space: nowrap; max-width: 500px; overflow: hidden; text-overflow: ellipsis; \">&quot;15001809110049PK&quot;</td><td style=\"white-space: nowrap; max-width: 500px; overflow: hidden; text-overflow: ellipsis; \">1.27e-01</td></tr>\n",
       "</tbody></table><p style=\"background: #fdd; padding: 0.4em;\">showing top 10 rows</p>\n"
      ],
      "text/plain": [
       "+--------------------+--------------------+----------+\n",
       "| ID1                | ID2                |  Kinship |\n",
       "+--------------------+--------------------+----------+\n",
       "| str                | str                |  float64 |\n",
       "+--------------------+--------------------+----------+\n",
       "| \"NGP6484-1KTM\"     | \"NGP_3109-1TTG\"    | 2.50e-01 |\n",
       "| \"MAP11066\"         | \"MAP11833\"         | 2.47e-01 |\n",
       "| \"NGP8956-1BVQ\"     | \"NGP4041-1VUI\"     | 9.22e-02 |\n",
       "| \"NGE7298_2\"        | \"NGE7683\"          | 2.46e-01 |\n",
       "| \"NGP_1716-1TVT\"    | \"NGP6236-1BFM\"     | 1.23e-01 |\n",
       "| \"MAP6971\"          | \"MAP2398\"          | 2.46e-01 |\n",
       "| \"NGP968-1WJJ\"      | \"NGP_1185-1HMM\"    | 2.46e-01 |\n",
       "| \"NGP8622-1OZP\"     | \"NGP4251-1DWJ\"     | 2.34e-01 |\n",
       "| \"15001906103258PK\" | \"15001906103846PK\" | 2.37e-01 |\n",
       "| \"15001906103258PK\" | \"15001809110049PK\" | 1.27e-01 |\n",
       "+--------------------+--------------------+----------+\n",
       "showing top 10 rows"
      ]
     },
     "metadata": {},
     "output_type": "display_data"
    }
   ],
   "source": [
    "#load in precomputed KING file with kinship values for pairs of related samples\n",
    "relatedness_ht = hl.import_table(\"gs://neurogap-bge-imputed-regional/mary/ethnolinguistic/pca/neurogap_imputed_king_kinship_no_dup.txt\", impute=True)\n",
    "relatedness_ht.show()"
   ]
  },
  {
   "cell_type": "code",
   "execution_count": 20,
   "id": "ef7e98fd",
   "metadata": {},
   "outputs": [],
   "source": [
    "#subset KING kinship file to just the individuals in your subset\n",
    "relatedness_ht_sub = relatedness_ht.filter(\n",
    "    final_sample_set.contains(relatedness_ht.ID1) |\n",
    "    final_sample_set.contains(relatedness_ht.ID2)\n",
    ")"
   ]
  },
  {
   "cell_type": "code",
   "execution_count": 21,
   "id": "4c3d48f6",
   "metadata": {},
   "outputs": [
    {
     "name": "stderr",
     "output_type": "stream",
     "text": [
      "2024-10-15 15:43:55.637 Hail: INFO: wrote table with 342 rows in 1 partition to /tmp/yK9l2PM8noBiTQ0uObeMtk\n"
     ]
    }
   ],
   "source": [
    "related_samples = hl.maximal_independent_set(relatedness_ht_sub.ID1, relatedness_ht_sub.ID2, False) "
   ]
  },
  {
   "cell_type": "code",
   "execution_count": 22,
   "id": "26eaf661",
   "metadata": {},
   "outputs": [],
   "source": [
    "#subset again to just the unrelated individuals\n",
    "bgen_subset = bgen_subset.filter_cols(hl.is_defined(related_samples[bgen_subset.col_key]), keep=False) \n"
   ]
  },
  {
   "cell_type": "code",
   "execution_count": 23,
   "id": "a4928f80",
   "metadata": {},
   "outputs": [],
   "source": [
    "#get variant QC statistics\n",
    "bgen_subset = hl.variant_qc(bgen_subset)"
   ]
  },
  {
   "cell_type": "code",
   "execution_count": 24,
   "id": "a4841435",
   "metadata": {},
   "outputs": [],
   "source": [
    "#get the MAC per variant which is just the minimum of the AC\n",
    "bgen_subset = bgen_subset.annotate_rows(MAC = hl.min(bgen_subset.variant_qc.AC[1:]))\n"
   ]
  },
  {
   "cell_type": "code",
   "execution_count": 25,
   "id": "e50eb6e9",
   "metadata": {},
   "outputs": [],
   "source": [
    "#remove alleles with MAC<20\n",
    "bgen_filtered = bgen_subset.filter_rows(bgen_subset.MAC >= 20)"
   ]
  },
  {
   "cell_type": "code",
   "execution_count": 26,
   "id": "d959c220",
   "metadata": {},
   "outputs": [],
   "source": [
    "#set any samples with a variant that has max(GP)<1.0 to missing\n",
    "bgen_filtered_GP = bgen_filtered.annotate_entries(\n",
    "    GT = hl.or_missing(\n",
    "        hl.max(bgen_filtered.GP) == 1.0,  # Keep GT if max(GP) == 1.0, otherwise set to missing\n",
    "        bgen_filtered.GT  # If condition is met, keep original GT\n",
    "    )\n",
    ")"
   ]
  },
  {
   "cell_type": "code",
   "execution_count": 27,
   "id": "62b042a9",
   "metadata": {},
   "outputs": [
    {
     "name": "stderr",
     "output_type": "stream",
     "text": [
      "2024-10-15 15:43:56.972 Hail: INFO: Reading table without type imputation\n",
      "  Loading field 'f0' as type str (not specified)\n",
      "[Stage 29:>                                                         (0 + 1) / 1]\r"
     ]
    },
    {
     "data": {
      "text/html": [
       "<table><thead><tr><td style=\"white-space: nowrap; max-width: 500px; overflow: hidden; text-overflow: ellipsis; \" colspan=\"1\"><div style=\"text-align: left;\"></div></td></tr><tr><td style=\"white-space: nowrap; max-width: 500px; overflow: hidden; text-overflow: ellipsis; \" colspan=\"1\"><div style=\"text-align: left;border-bottom: solid 2px #000; padding-bottom: 5px\">rsid</div></td></tr><tr><td style=\"white-space: nowrap; max-width: 500px; overflow: hidden; text-overflow: ellipsis; text-align: left;\">str</td></tr>\n",
       "</thead><tbody><tr><td style=\"white-space: nowrap; max-width: 500px; overflow: hidden; text-overflow: ellipsis; \">&quot;rs1000000&quot;</td></tr>\n",
       "<tr><td style=\"white-space: nowrap; max-width: 500px; overflow: hidden; text-overflow: ellipsis; \">&quot;rs10000009&quot;</td></tr>\n",
       "<tr><td style=\"white-space: nowrap; max-width: 500px; overflow: hidden; text-overflow: ellipsis; \">&quot;rs10000010&quot;</td></tr>\n",
       "<tr><td style=\"white-space: nowrap; max-width: 500px; overflow: hidden; text-overflow: ellipsis; \">&quot;rs10000023&quot;</td></tr>\n",
       "<tr><td style=\"white-space: nowrap; max-width: 500px; overflow: hidden; text-overflow: ellipsis; \">&quot;rs10000025&quot;</td></tr>\n",
       "</tbody></table><p style=\"background: #fdd; padding: 0.4em;\">showing top 5 rows</p>\n"
      ],
      "text/plain": [
       "+--------------+\n",
       "| rsid         |\n",
       "+--------------+\n",
       "| str          |\n",
       "+--------------+\n",
       "| \"rs1000000\"  |\n",
       "| \"rs10000009\" |\n",
       "| \"rs10000010\" |\n",
       "| \"rs10000023\" |\n",
       "| \"rs10000025\" |\n",
       "+--------------+\n",
       "showing top 5 rows"
      ]
     },
     "metadata": {},
     "output_type": "display_data"
    }
   ],
   "source": [
    "snplist = hl.import_table(\"gs://neurogap-bge-imputed-regional/prscs/rsids_1kg_hm3_afr.txt\",no_header=True)\n",
    "\n",
    "snplist = snplist.rename({'f0': 'rsid'})\n",
    "\n",
    "snplist = snplist.key_by('rsid')\n",
    "\n",
    "snplist.show(5)"
   ]
  },
  {
   "cell_type": "code",
   "execution_count": 28,
   "id": "e84aafad",
   "metadata": {},
   "outputs": [],
   "source": [
    "bgen_prs_subset = bgen_filtered_GP.filter_rows(hl.is_defined(snplist.index(bgen_filtered_GP.rsid)))\n"
   ]
  },
  {
   "cell_type": "code",
   "execution_count": 29,
   "id": "0d9959ca",
   "metadata": {},
   "outputs": [
    {
     "name": "stderr",
     "output_type": "stream",
     "text": [
      "2024-10-15 15:44:04.308 Hail: INFO: Ordering unsorted dataset with network shuffle\n",
      "2024-10-15 15:44:06.763 Hail: INFO: Ordering unsorted dataset with network shuffle\n",
      "2024-10-15 15:55:59.616 Hail: INFO: Ordering unsorted dataset with network shuffle\n",
      "2024-10-15 15:56:01.460 Hail: INFO: Ordering unsorted dataset with network shuffle\n",
      "2024-10-15 15:56:10.534 Hail: INFO: wrote table with 1225319 rows in 1 partition to /tmp/__iruid_27179-XLBksSNpa14AGh6yBuU9I0\n",
      "2024-10-15 16:08:26.159 Hail: INFO: Ordering unsorted dataset with network shuffle\n",
      "2024-10-15 16:29:06.708 Hail: INFO: wrote matrix table with 1087920 rows and 10764 columns in 1087 partitions to gs://neurogap-bge-imputed-regional/temp/AAU_prs_bgen_subset2.mt\n"
     ]
    }
   ],
   "source": [
    "#checkpoint the subset matrixTable so it doesn't need to be re-computed\n",
    "bgen_prs_subset = bgen_prs_subset.checkpoint('gs://neurogap-bge-imputed-regional/temp/AAU_prs_bgen_subset2.mt', overwrite=True)"
   ]
  },
  {
   "cell_type": "code",
   "execution_count": 30,
   "id": "8fff2ec4",
   "metadata": {},
   "outputs": [],
   "source": [
    "# some samples have special characters in their IDs which can cause problems for conversion to plink.\n",
    "# remove all spaces, underscores, and dots and replace them with dashes \"-\"\n",
    "\n",
    "samples = bgen_prs_subset[\"s\"].collect()                                                                                                      \n",
    "samples_new = [sample.replace(\" \", \"-\") for sample in samples]                                                                          \n",
    "samples_new = [sample.replace(\"_\", \"-\") for sample in samples_new]\n",
    "samples_new = [sample.replace(\".\", \"-\") for sample in samples_new]\n",
    "                                                                                                                            \n",
    "pandas_df = pd.DataFrame({\"s\":samples,\"s_new\":samples_new})                                                                       \n",
    "\n",
    "                                                                                                                       \n",
    "ht=hl.Table.from_pandas(pandas_df)                                                                                              \n",
    "ht=ht.key_by(ht.s)  \n",
    "\n",
    "bgen_prs_subset = bgen_prs_subset.annotate_cols(s_new = ht[bgen_prs_subset.s].s_new)  \n"
   ]
  },
  {
   "cell_type": "code",
   "execution_count": 33,
   "id": "32a59c6a",
   "metadata": {},
   "outputs": [],
   "source": [
    "ids = bgen_prs_subset.col_key.s.collect()"
   ]
  },
  {
   "cell_type": "code",
   "execution_count": 34,
   "id": "0dc38b0e",
   "metadata": {},
   "outputs": [
    {
     "name": "stderr",
     "output_type": "stream",
     "text": [
      "\r",
      "[Stage 47:>                                                         (0 + 1) / 1]\r"
     ]
    },
    {
     "data": {
      "text/html": [
       "<table><thead><tr><td style=\"white-space: nowrap; max-width: 500px; overflow: hidden; text-overflow: ellipsis; \" colspan=\"1\"><div style=\"text-align: left;\"></div></td><td style=\"white-space: nowrap; max-width: 500px; overflow: hidden; text-overflow: ellipsis; \" colspan=\"1\"><div style=\"text-align: left;\"></div></td><td style=\"white-space: nowrap; max-width: 500px; overflow: hidden; text-overflow: ellipsis; \" colspan=\"1\"><div style=\"text-align: left;\"></div></td><td style=\"white-space: nowrap; max-width: 500px; overflow: hidden; text-overflow: ellipsis; \" colspan=\"1\"><div style=\"text-align: left;\"></div></td><td style=\"white-space: nowrap; max-width: 500px; overflow: hidden; text-overflow: ellipsis; \" colspan=\"1\"><div style=\"text-align: left;\"></div></td><td style=\"white-space: nowrap; max-width: 500px; overflow: hidden; text-overflow: ellipsis; \" colspan=\"1\"><div style=\"text-align: left;\"></div></td><td style=\"white-space: nowrap; max-width: 500px; overflow: hidden; text-overflow: ellipsis; \" colspan=\"1\"><div style=\"text-align: left;\"></div></td><td style=\"white-space: nowrap; max-width: 500px; overflow: hidden; text-overflow: ellipsis; \" colspan=\"1\"><div style=\"text-align: left;\"></div></td><td style=\"white-space: nowrap; max-width: 500px; overflow: hidden; text-overflow: ellipsis; \" colspan=\"1\"><div style=\"text-align: left;\"></div></td><td style=\"white-space: nowrap; max-width: 500px; overflow: hidden; text-overflow: ellipsis; \" colspan=\"1\"><div style=\"text-align: left;\"></div></td><td style=\"white-space: nowrap; max-width: 500px; overflow: hidden; text-overflow: ellipsis; \" colspan=\"1\"><div style=\"text-align: left;\"></div></td><td style=\"white-space: nowrap; max-width: 500px; overflow: hidden; text-overflow: ellipsis; \" colspan=\"1\"><div style=\"text-align: left;\"></div></td><td style=\"white-space: nowrap; max-width: 500px; overflow: hidden; text-overflow: ellipsis; \" colspan=\"1\"><div style=\"text-align: left;\"></div></td><td style=\"white-space: nowrap; max-width: 500px; overflow: hidden; text-overflow: ellipsis; \" colspan=\"1\"><div style=\"text-align: left;\"></div></td><td style=\"white-space: nowrap; max-width: 500px; overflow: hidden; text-overflow: ellipsis; \" colspan=\"1\"><div style=\"text-align: left;\"></div></td><td style=\"white-space: nowrap; max-width: 500px; overflow: hidden; text-overflow: ellipsis; \" colspan=\"1\"><div style=\"text-align: left;\"></div></td><td style=\"white-space: nowrap; max-width: 500px; overflow: hidden; text-overflow: ellipsis; \" colspan=\"1\"><div style=\"text-align: left;\"></div></td><td style=\"white-space: nowrap; max-width: 500px; overflow: hidden; text-overflow: ellipsis; \" colspan=\"1\"><div style=\"text-align: left;\"></div></td><td style=\"white-space: nowrap; max-width: 500px; overflow: hidden; text-overflow: ellipsis; \" colspan=\"1\"><div style=\"text-align: left;\"></div></td><td style=\"white-space: nowrap; max-width: 500px; overflow: hidden; text-overflow: ellipsis; \" colspan=\"1\"><div style=\"text-align: left;\"></div></td><td style=\"white-space: nowrap; max-width: 500px; overflow: hidden; text-overflow: ellipsis; \" colspan=\"1\"><div style=\"text-align: left;\"></div></td><td style=\"white-space: nowrap; max-width: 500px; overflow: hidden; text-overflow: ellipsis; \" colspan=\"1\"><div style=\"text-align: left;\"></div></td><td style=\"white-space: nowrap; max-width: 500px; overflow: hidden; text-overflow: ellipsis; \" colspan=\"1\"><div style=\"text-align: left;\"></div></td><td style=\"white-space: nowrap; max-width: 500px; overflow: hidden; text-overflow: ellipsis; \" colspan=\"1\"><div style=\"text-align: left;\"></div></td><td style=\"white-space: nowrap; max-width: 500px; overflow: hidden; text-overflow: ellipsis; \" colspan=\"1\"><div style=\"text-align: left;\"></div></td><td style=\"white-space: nowrap; max-width: 500px; overflow: hidden; text-overflow: ellipsis; \" colspan=\"1\"><div style=\"text-align: left;\"></div></td><td style=\"white-space: nowrap; max-width: 500px; overflow: hidden; text-overflow: ellipsis; \" colspan=\"1\"><div style=\"text-align: left;\"></div></td><td style=\"white-space: nowrap; max-width: 500px; overflow: hidden; text-overflow: ellipsis; \" colspan=\"1\"><div style=\"text-align: left;\"></div></td></tr><tr><td style=\"white-space: nowrap; max-width: 500px; overflow: hidden; text-overflow: ellipsis; \" colspan=\"1\"><div style=\"text-align: left;border-bottom: solid 2px #000; padding-bottom: 5px\">PROJECT</div></td><td style=\"white-space: nowrap; max-width: 500px; overflow: hidden; text-overflow: ellipsis; \" colspan=\"1\"><div style=\"text-align: left;border-bottom: solid 2px #000; padding-bottom: 5px\">SUBJECT_ID</div></td><td style=\"white-space: nowrap; max-width: 500px; overflow: hidden; text-overflow: ellipsis; \" colspan=\"1\"><div style=\"text-align: left;border-bottom: solid 2px #000; padding-bottom: 5px\">DATA_TYPE</div></td><td style=\"white-space: nowrap; max-width: 500px; overflow: hidden; text-overflow: ellipsis; \" colspan=\"1\"><div style=\"text-align: left;border-bottom: solid 2px #000; padding-bottom: 5px\">PRIMARY_DISEASE</div></td><td style=\"white-space: nowrap; max-width: 500px; overflow: hidden; text-overflow: ellipsis; \" colspan=\"1\"><div style=\"text-align: left;border-bottom: solid 2px #000; padding-bottom: 5px\">AGE_UNSPECIFIED</div></td><td style=\"white-space: nowrap; max-width: 500px; overflow: hidden; text-overflow: ellipsis; \" colspan=\"1\"><div style=\"text-align: left;border-bottom: solid 2px #000; padding-bottom: 5px\">RACE_ETHNICITY</div></td><td style=\"white-space: nowrap; max-width: 500px; overflow: hidden; text-overflow: ellipsis; \" colspan=\"1\"><div style=\"text-align: left;border-bottom: solid 2px #000; padding-bottom: 5px\">DISEASE_DESCRIPTION</div></td><td style=\"white-space: nowrap; max-width: 500px; overflow: hidden; text-overflow: ellipsis; \" colspan=\"1\"><div style=\"text-align: left;border-bottom: solid 2px #000; padding-bottom: 5px\">VERSION</div></td><td style=\"white-space: nowrap; max-width: 500px; overflow: hidden; text-overflow: ellipsis; \" colspan=\"1\"><div style=\"text-align: left;border-bottom: solid 2px #000; padding-bottom: 5px\">TERRA_WORKSPACE</div></td><td style=\"white-space: nowrap; max-width: 500px; overflow: hidden; text-overflow: ellipsis; \" colspan=\"1\"><div style=\"text-align: left;border-bottom: solid 2px #000; padding-bottom: 5px\">INVESTIGATOR</div></td><td style=\"white-space: nowrap; max-width: 500px; overflow: hidden; text-overflow: ellipsis; \" colspan=\"1\"><div style=\"text-align: left;border-bottom: solid 2px #000; padding-bottom: 5px\">EXTERNAL_PI</div></td><td style=\"white-space: nowrap; max-width: 500px; overflow: hidden; text-overflow: ellipsis; \" colspan=\"1\"><div style=\"text-align: left;border-bottom: solid 2px #000; padding-bottom: 5px\">COHORT</div></td><td style=\"white-space: nowrap; max-width: 500px; overflow: hidden; text-overflow: ellipsis; \" colspan=\"1\"><div style=\"text-align: left;border-bottom: solid 2px #000; padding-bottom: 5px\">ORSP_CG</div></td><td style=\"white-space: nowrap; max-width: 500px; overflow: hidden; text-overflow: ellipsis; \" colspan=\"1\"><div style=\"text-align: left;border-bottom: solid 2px #000; padding-bottom: 5px\">CONSENT</div></td><td style=\"white-space: nowrap; max-width: 500px; overflow: hidden; text-overflow: ellipsis; \" colspan=\"1\"><div style=\"text-align: left;border-bottom: solid 2px #000; padding-bottom: 5px\">SEQ_ID</div></td><td style=\"white-space: nowrap; max-width: 500px; overflow: hidden; text-overflow: ellipsis; \" colspan=\"1\"><div style=\"text-align: left;border-bottom: solid 2px #000; padding-bottom: 5px\">COLLABORATOR_PARTICIPANT_ID</div></td><td style=\"white-space: nowrap; max-width: 500px; overflow: hidden; text-overflow: ellipsis; \" colspan=\"1\"><div style=\"text-align: left;border-bottom: solid 2px #000; padding-bottom: 5px\">SM_ID</div></td><td style=\"white-space: nowrap; max-width: 500px; overflow: hidden; text-overflow: ellipsis; \" colspan=\"1\"><div style=\"text-align: left;border-bottom: solid 2px #000; padding-bottom: 5px\">PDO</div></td><td style=\"white-space: nowrap; max-width: 500px; overflow: hidden; text-overflow: ellipsis; \" colspan=\"1\"><div style=\"text-align: left;border-bottom: solid 2px #000; padding-bottom: 5px\">CAPTURE</div></td><td style=\"white-space: nowrap; max-width: 500px; overflow: hidden; text-overflow: ellipsis; \" colspan=\"1\"><div style=\"text-align: left;border-bottom: solid 2px #000; padding-bottom: 5px\">SEX</div></td><td style=\"white-space: nowrap; max-width: 500px; overflow: hidden; text-overflow: ellipsis; \" colspan=\"1\"><div style=\"text-align: left;border-bottom: solid 2px #000; padding-bottom: 5px\">CRAM</div></td><td style=\"white-space: nowrap; max-width: 500px; overflow: hidden; text-overflow: ellipsis; \" colspan=\"1\"><div style=\"text-align: left;border-bottom: solid 2px #000; padding-bottom: 5px\">GVCF</div></td><td style=\"white-space: nowrap; max-width: 500px; overflow: hidden; text-overflow: ellipsis; \" colspan=\"1\"><div style=\"text-align: left;border-bottom: solid 2px #000; padding-bottom: 5px\">ROLE</div></td><td style=\"white-space: nowrap; max-width: 500px; overflow: hidden; text-overflow: ellipsis; \" colspan=\"1\"><div style=\"text-align: left;border-bottom: solid 2px #000; padding-bottom: 5px\">COVERAGE_MET</div></td><td style=\"white-space: nowrap; max-width: 500px; overflow: hidden; text-overflow: ellipsis; \" colspan=\"1\"><div style=\"text-align: left;border-bottom: solid 2px #000; padding-bottom: 5px\">CHIMERA</div></td><td style=\"white-space: nowrap; max-width: 500px; overflow: hidden; text-overflow: ellipsis; \" colspan=\"1\"><div style=\"text-align: left;border-bottom: solid 2px #000; padding-bottom: 5px\">CONTAMINATION</div></td><td style=\"white-space: nowrap; max-width: 500px; overflow: hidden; text-overflow: ellipsis; \" colspan=\"1\"><div style=\"text-align: left;border-bottom: solid 2px #000; padding-bottom: 5px\">CALLSET</div></td><td style=\"white-space: nowrap; max-width: 500px; overflow: hidden; text-overflow: ellipsis; \" colspan=\"1\"><div style=\"text-align: left;border-bottom: solid 2px #000; padding-bottom: 5px\"></div></td></tr><tr><td style=\"white-space: nowrap; max-width: 500px; overflow: hidden; text-overflow: ellipsis; text-align: left;\">str</td><td style=\"white-space: nowrap; max-width: 500px; overflow: hidden; text-overflow: ellipsis; text-align: left;\">str</td><td style=\"white-space: nowrap; max-width: 500px; overflow: hidden; text-overflow: ellipsis; text-align: left;\">str</td><td style=\"white-space: nowrap; max-width: 500px; overflow: hidden; text-overflow: ellipsis; text-align: left;\">str</td><td style=\"white-space: nowrap; max-width: 500px; overflow: hidden; text-overflow: ellipsis; text-align: left;\">str</td><td style=\"white-space: nowrap; max-width: 500px; overflow: hidden; text-overflow: ellipsis; text-align: left;\">str</td><td style=\"white-space: nowrap; max-width: 500px; overflow: hidden; text-overflow: ellipsis; text-align: left;\">str</td><td style=\"white-space: nowrap; max-width: 500px; overflow: hidden; text-overflow: ellipsis; text-align: left;\">int32</td><td style=\"white-space: nowrap; max-width: 500px; overflow: hidden; text-overflow: ellipsis; text-align: left;\">str</td><td style=\"white-space: nowrap; max-width: 500px; overflow: hidden; text-overflow: ellipsis; text-align: left;\">str</td><td style=\"white-space: nowrap; max-width: 500px; overflow: hidden; text-overflow: ellipsis; text-align: left;\">str</td><td style=\"white-space: nowrap; max-width: 500px; overflow: hidden; text-overflow: ellipsis; text-align: left;\">str</td><td style=\"white-space: nowrap; max-width: 500px; overflow: hidden; text-overflow: ellipsis; text-align: left;\">str</td><td style=\"white-space: nowrap; max-width: 500px; overflow: hidden; text-overflow: ellipsis; text-align: left;\">str</td><td style=\"white-space: nowrap; max-width: 500px; overflow: hidden; text-overflow: ellipsis; text-align: left;\">str</td><td style=\"white-space: nowrap; max-width: 500px; overflow: hidden; text-overflow: ellipsis; text-align: left;\">str</td><td style=\"white-space: nowrap; max-width: 500px; overflow: hidden; text-overflow: ellipsis; text-align: left;\">str</td><td style=\"white-space: nowrap; max-width: 500px; overflow: hidden; text-overflow: ellipsis; text-align: left;\">str</td><td style=\"white-space: nowrap; max-width: 500px; overflow: hidden; text-overflow: ellipsis; text-align: left;\">str</td><td style=\"white-space: nowrap; max-width: 500px; overflow: hidden; text-overflow: ellipsis; text-align: left;\">str</td><td style=\"white-space: nowrap; max-width: 500px; overflow: hidden; text-overflow: ellipsis; text-align: left;\">str</td><td style=\"white-space: nowrap; max-width: 500px; overflow: hidden; text-overflow: ellipsis; text-align: left;\">str</td><td style=\"white-space: nowrap; max-width: 500px; overflow: hidden; text-overflow: ellipsis; text-align: left;\">str</td><td style=\"white-space: nowrap; max-width: 500px; overflow: hidden; text-overflow: ellipsis; text-align: left;\">str</td><td style=\"white-space: nowrap; max-width: 500px; overflow: hidden; text-overflow: ellipsis; text-align: left;\">float64</td><td style=\"white-space: nowrap; max-width: 500px; overflow: hidden; text-overflow: ellipsis; text-align: left;\">float64</td><td style=\"white-space: nowrap; max-width: 500px; overflow: hidden; text-overflow: ellipsis; text-align: left;\">str</td><td style=\"white-space: nowrap; max-width: 500px; overflow: hidden; text-overflow: ellipsis; text-align: left;\">bool</td></tr>\n",
       "</thead><tbody><tr><td style=\"white-space: nowrap; max-width: 500px; overflow: hidden; text-overflow: ellipsis; \">&quot;RP-1837.PDO-29431&quot;</td><td style=\"white-space: nowrap; max-width: 500px; overflow: hidden; text-overflow: ellipsis; \">&quot;NGE0125&quot;</td><td style=\"white-space: nowrap; max-width: 500px; overflow: hidden; text-overflow: ellipsis; \">&quot;BGE&quot;</td><td style=\"white-space: nowrap; max-width: 500px; overflow: hidden; text-overflow: ellipsis; \">&quot;Bipolar Disorder&quot;</td><td style=\"white-space: nowrap; max-width: 500px; overflow: hidden; text-overflow: ellipsis; \">&quot;50&quot;</td><td style=\"white-space: nowrap; max-width: 500px; overflow: hidden; text-overflow: ellipsis; \">&quot;African&quot;</td><td style=\"white-space: nowrap; max-width: 500px; overflow: hidden; text-overflow: ellipsis; \">&quot;SCZ_BP&quot;</td><td style=\"white-space: nowrap; max-width: 500px; overflow: hidden; text-overflow: ellipsis; \">1</td><td style=\"white-space: nowrap; max-width: 500px; overflow: hidden; text-overflow: ellipsis; \">&quot;NeuroGAP-Psychosis_AAU_Psychosis_BGE&quot;</td><td style=\"white-space: nowrap; max-width: 500px; overflow: hidden; text-overflow: ellipsis; \">&quot;Koenen&quot;</td><td style=\"white-space: nowrap; max-width: 500px; overflow: hidden; text-overflow: ellipsis; \">&quot;Teferra&quot;</td><td style=\"white-space: nowrap; max-width: 500px; overflow: hidden; text-overflow: ellipsis; \">&quot;NeuroGAP-Psychosis_AAU&quot;</td><td style=\"white-space: nowrap; max-width: 500px; overflow: hidden; text-overflow: ellipsis; \">&quot;CG-5600&quot;</td><td style=\"white-space: nowrap; max-width: 500px; overflow: hidden; text-overflow: ellipsis; \">&quot;MDS&quot;</td><td style=\"white-space: nowrap; max-width: 500px; overflow: hidden; text-overflow: ellipsis; \">&quot;RP-1837.PDO-29431_NGE0125&quot;</td><td style=\"white-space: nowrap; max-width: 500px; overflow: hidden; text-overflow: ellipsis; \">&quot;AAP15240340&quot;</td><td style=\"white-space: nowrap; max-width: 500px; overflow: hidden; text-overflow: ellipsis; \">&quot;SM-H5MD2&quot;</td><td style=\"white-space: nowrap; max-width: 500px; overflow: hidden; text-overflow: ellipsis; \">&quot;PDO-29431&quot;</td><td style=\"white-space: nowrap; max-width: 500px; overflow: hidden; text-overflow: ellipsis; \">&quot;broad_custom_exome_v1&quot;</td><td style=\"white-space: nowrap; max-width: 500px; overflow: hidden; text-overflow: ellipsis; \">&quot;Female&quot;</td><td style=\"white-space: nowrap; max-width: 500px; overflow: hidden; text-overflow: ellipsis; \">&quot;gs://fc-8bcb1af7-a219-4671-90f7-e5653e87c3ad/NeuroGAP-Psychosis_AAU_Psychosis_BGE/RP-1837.PDO-29431/Exome/NGE0125/v1/NGE0125.cram&quot;</td><td style=\"white-space: nowrap; max-width: 500px; overflow: hidden; text-overflow: ellipsis; \">&quot;gs://fc-8bcb1af7-a219-4671-90f7-e5653e87c3ad/AAU_gVCF/gvcfs/NGE0125.v1.de3dd8c4-ec47-4244-ad58-567b7118f013.rb.g.vcf.gz&quot;</td><td style=\"white-space: nowrap; max-width: 500px; overflow: hidden; text-overflow: ellipsis; \">&quot;Case&quot;</td><td style=\"white-space: nowrap; max-width: 500px; overflow: hidden; text-overflow: ellipsis; \">&quot;2023-01-31&quot;</td><td style=\"white-space: nowrap; max-width: 500px; overflow: hidden; text-overflow: ellipsis; \">1.21e+00</td><td style=\"white-space: nowrap; max-width: 500px; overflow: hidden; text-overflow: ellipsis; \">1.40e-01</td><td style=\"white-space: nowrap; max-width: 500px; overflow: hidden; text-overflow: ellipsis; \">&quot;&quot;</td><td style=\"white-space: nowrap; max-width: 500px; overflow: hidden; text-overflow: ellipsis; \">False</td></tr>\n",
       "<tr><td style=\"white-space: nowrap; max-width: 500px; overflow: hidden; text-overflow: ellipsis; \">&quot;RP-1837.PDO-29431&quot;</td><td style=\"white-space: nowrap; max-width: 500px; overflow: hidden; text-overflow: ellipsis; \">&quot;NGE0134&quot;</td><td style=\"white-space: nowrap; max-width: 500px; overflow: hidden; text-overflow: ellipsis; \">&quot;BGE&quot;</td><td style=\"white-space: nowrap; max-width: 500px; overflow: hidden; text-overflow: ellipsis; \">&quot;Bipolar Disorder&quot;</td><td style=\"white-space: nowrap; max-width: 500px; overflow: hidden; text-overflow: ellipsis; \">&quot;60&quot;</td><td style=\"white-space: nowrap; max-width: 500px; overflow: hidden; text-overflow: ellipsis; \">&quot;African&quot;</td><td style=\"white-space: nowrap; max-width: 500px; overflow: hidden; text-overflow: ellipsis; \">&quot;SCZ_BP&quot;</td><td style=\"white-space: nowrap; max-width: 500px; overflow: hidden; text-overflow: ellipsis; \">1</td><td style=\"white-space: nowrap; max-width: 500px; overflow: hidden; text-overflow: ellipsis; \">&quot;NeuroGAP-Psychosis_AAU_Psychosis_BGE&quot;</td><td style=\"white-space: nowrap; max-width: 500px; overflow: hidden; text-overflow: ellipsis; \">&quot;Koenen&quot;</td><td style=\"white-space: nowrap; max-width: 500px; overflow: hidden; text-overflow: ellipsis; \">&quot;Teferra&quot;</td><td style=\"white-space: nowrap; max-width: 500px; overflow: hidden; text-overflow: ellipsis; \">&quot;NeuroGAP-Psychosis_AAU&quot;</td><td style=\"white-space: nowrap; max-width: 500px; overflow: hidden; text-overflow: ellipsis; \">&quot;CG-5600&quot;</td><td style=\"white-space: nowrap; max-width: 500px; overflow: hidden; text-overflow: ellipsis; \">&quot;MDS&quot;</td><td style=\"white-space: nowrap; max-width: 500px; overflow: hidden; text-overflow: ellipsis; \">&quot;RP-1837.PDO-29431_NGE0134&quot;</td><td style=\"white-space: nowrap; max-width: 500px; overflow: hidden; text-overflow: ellipsis; \">&quot;AAP70688767&quot;</td><td style=\"white-space: nowrap; max-width: 500px; overflow: hidden; text-overflow: ellipsis; \">&quot;SM-H5MDB&quot;</td><td style=\"white-space: nowrap; max-width: 500px; overflow: hidden; text-overflow: ellipsis; \">&quot;PDO-29431&quot;</td><td style=\"white-space: nowrap; max-width: 500px; overflow: hidden; text-overflow: ellipsis; \">&quot;broad_custom_exome_v1&quot;</td><td style=\"white-space: nowrap; max-width: 500px; overflow: hidden; text-overflow: ellipsis; \">&quot;Male&quot;</td><td style=\"white-space: nowrap; max-width: 500px; overflow: hidden; text-overflow: ellipsis; \">&quot;gs://fc-8bcb1af7-a219-4671-90f7-e5653e87c3ad/NeuroGAP-Psychosis_AAU_Psychosis_BGE/RP-1837.PDO-29431/Exome/NGE0134/v1/NGE0134.cram&quot;</td><td style=\"white-space: nowrap; max-width: 500px; overflow: hidden; text-overflow: ellipsis; \">&quot;gs://fc-8bcb1af7-a219-4671-90f7-e5653e87c3ad/AAU_gVCF/gvcfs/NGE0134.v1.4edebd6c-919e-43f5-af39-8e4f576ad580.rb.g.vcf.gz&quot;</td><td style=\"white-space: nowrap; max-width: 500px; overflow: hidden; text-overflow: ellipsis; \">&quot;Case&quot;</td><td style=\"white-space: nowrap; max-width: 500px; overflow: hidden; text-overflow: ellipsis; \">&quot;2023-01-31&quot;</td><td style=\"white-space: nowrap; max-width: 500px; overflow: hidden; text-overflow: ellipsis; \">1.51e+00</td><td style=\"white-space: nowrap; max-width: 500px; overflow: hidden; text-overflow: ellipsis; \">9.00e-02</td><td style=\"white-space: nowrap; max-width: 500px; overflow: hidden; text-overflow: ellipsis; \">&quot;&quot;</td><td style=\"white-space: nowrap; max-width: 500px; overflow: hidden; text-overflow: ellipsis; \">False</td></tr>\n",
       "<tr><td style=\"white-space: nowrap; max-width: 500px; overflow: hidden; text-overflow: ellipsis; \">&quot;RP-1837.PDO-29431&quot;</td><td style=\"white-space: nowrap; max-width: 500px; overflow: hidden; text-overflow: ellipsis; \">&quot;NGE0353&quot;</td><td style=\"white-space: nowrap; max-width: 500px; overflow: hidden; text-overflow: ellipsis; \">&quot;BGE&quot;</td><td style=\"white-space: nowrap; max-width: 500px; overflow: hidden; text-overflow: ellipsis; \">&quot;Control&quot;</td><td style=\"white-space: nowrap; max-width: 500px; overflow: hidden; text-overflow: ellipsis; \">&quot;21&quot;</td><td style=\"white-space: nowrap; max-width: 500px; overflow: hidden; text-overflow: ellipsis; \">&quot;African&quot;</td><td style=\"white-space: nowrap; max-width: 500px; overflow: hidden; text-overflow: ellipsis; \">&quot;SCZ_BP&quot;</td><td style=\"white-space: nowrap; max-width: 500px; overflow: hidden; text-overflow: ellipsis; \">1</td><td style=\"white-space: nowrap; max-width: 500px; overflow: hidden; text-overflow: ellipsis; \">&quot;NeuroGAP-Psychosis_AAU_Psychosis_BGE&quot;</td><td style=\"white-space: nowrap; max-width: 500px; overflow: hidden; text-overflow: ellipsis; \">&quot;Koenen&quot;</td><td style=\"white-space: nowrap; max-width: 500px; overflow: hidden; text-overflow: ellipsis; \">&quot;Teferra&quot;</td><td style=\"white-space: nowrap; max-width: 500px; overflow: hidden; text-overflow: ellipsis; \">&quot;NeuroGAP-Psychosis_AAU&quot;</td><td style=\"white-space: nowrap; max-width: 500px; overflow: hidden; text-overflow: ellipsis; \">&quot;CG-5600&quot;</td><td style=\"white-space: nowrap; max-width: 500px; overflow: hidden; text-overflow: ellipsis; \">&quot;MDS&quot;</td><td style=\"white-space: nowrap; max-width: 500px; overflow: hidden; text-overflow: ellipsis; \">&quot;RP-1837.PDO-29431_NGE0353&quot;</td><td style=\"white-space: nowrap; max-width: 500px; overflow: hidden; text-overflow: ellipsis; \">&quot;AAP19253657&quot;</td><td style=\"white-space: nowrap; max-width: 500px; overflow: hidden; text-overflow: ellipsis; \">&quot;SM-HKAJ3&quot;</td><td style=\"white-space: nowrap; max-width: 500px; overflow: hidden; text-overflow: ellipsis; \">&quot;PDO-29431&quot;</td><td style=\"white-space: nowrap; max-width: 500px; overflow: hidden; text-overflow: ellipsis; \">&quot;broad_custom_exome_v1&quot;</td><td style=\"white-space: nowrap; max-width: 500px; overflow: hidden; text-overflow: ellipsis; \">&quot;Male&quot;</td><td style=\"white-space: nowrap; max-width: 500px; overflow: hidden; text-overflow: ellipsis; \">&quot;gs://fc-8bcb1af7-a219-4671-90f7-e5653e87c3ad/NeuroGAP-Psychosis_AAU_Psychosis_BGE/RP-1837.PDO-29431/Exome/NGE0353/v1/NGE0353.cram&quot;</td><td style=\"white-space: nowrap; max-width: 500px; overflow: hidden; text-overflow: ellipsis; \">&quot;gs://fc-8bcb1af7-a219-4671-90f7-e5653e87c3ad/AAU_gVCF/gvcfs/NGE0353.v1.fbaa384d-e980-46f4-839a-3cfc38810967.rb.g.vcf.gz&quot;</td><td style=\"white-space: nowrap; max-width: 500px; overflow: hidden; text-overflow: ellipsis; \">&quot;Control&quot;</td><td style=\"white-space: nowrap; max-width: 500px; overflow: hidden; text-overflow: ellipsis; \">&quot;2023-01-31&quot;</td><td style=\"white-space: nowrap; max-width: 500px; overflow: hidden; text-overflow: ellipsis; \">1.32e+00</td><td style=\"white-space: nowrap; max-width: 500px; overflow: hidden; text-overflow: ellipsis; \">3.00e-02</td><td style=\"white-space: nowrap; max-width: 500px; overflow: hidden; text-overflow: ellipsis; \">&quot;&quot;</td><td style=\"white-space: nowrap; max-width: 500px; overflow: hidden; text-overflow: ellipsis; \">True</td></tr>\n",
       "<tr><td style=\"white-space: nowrap; max-width: 500px; overflow: hidden; text-overflow: ellipsis; \">&quot;RP-1837.PDO-29431&quot;</td><td style=\"white-space: nowrap; max-width: 500px; overflow: hidden; text-overflow: ellipsis; \">&quot;NGE0356&quot;</td><td style=\"white-space: nowrap; max-width: 500px; overflow: hidden; text-overflow: ellipsis; \">&quot;BGE&quot;</td><td style=\"white-space: nowrap; max-width: 500px; overflow: hidden; text-overflow: ellipsis; \">&quot;Control&quot;</td><td style=\"white-space: nowrap; max-width: 500px; overflow: hidden; text-overflow: ellipsis; \">&quot;30&quot;</td><td style=\"white-space: nowrap; max-width: 500px; overflow: hidden; text-overflow: ellipsis; \">&quot;African&quot;</td><td style=\"white-space: nowrap; max-width: 500px; overflow: hidden; text-overflow: ellipsis; \">&quot;SCZ_BP&quot;</td><td style=\"white-space: nowrap; max-width: 500px; overflow: hidden; text-overflow: ellipsis; \">1</td><td style=\"white-space: nowrap; max-width: 500px; overflow: hidden; text-overflow: ellipsis; \">&quot;NeuroGAP-Psychosis_AAU_Psychosis_BGE&quot;</td><td style=\"white-space: nowrap; max-width: 500px; overflow: hidden; text-overflow: ellipsis; \">&quot;Koenen&quot;</td><td style=\"white-space: nowrap; max-width: 500px; overflow: hidden; text-overflow: ellipsis; \">&quot;Teferra&quot;</td><td style=\"white-space: nowrap; max-width: 500px; overflow: hidden; text-overflow: ellipsis; \">&quot;NeuroGAP-Psychosis_AAU&quot;</td><td style=\"white-space: nowrap; max-width: 500px; overflow: hidden; text-overflow: ellipsis; \">&quot;CG-5600&quot;</td><td style=\"white-space: nowrap; max-width: 500px; overflow: hidden; text-overflow: ellipsis; \">&quot;MDS&quot;</td><td style=\"white-space: nowrap; max-width: 500px; overflow: hidden; text-overflow: ellipsis; \">&quot;RP-1837.PDO-29431_NGE0356&quot;</td><td style=\"white-space: nowrap; max-width: 500px; overflow: hidden; text-overflow: ellipsis; \">&quot;AAP20466375&quot;</td><td style=\"white-space: nowrap; max-width: 500px; overflow: hidden; text-overflow: ellipsis; \">&quot;SM-HKAJ6&quot;</td><td style=\"white-space: nowrap; max-width: 500px; overflow: hidden; text-overflow: ellipsis; \">&quot;PDO-29431&quot;</td><td style=\"white-space: nowrap; max-width: 500px; overflow: hidden; text-overflow: ellipsis; \">&quot;broad_custom_exome_v1&quot;</td><td style=\"white-space: nowrap; max-width: 500px; overflow: hidden; text-overflow: ellipsis; \">&quot;Male&quot;</td><td style=\"white-space: nowrap; max-width: 500px; overflow: hidden; text-overflow: ellipsis; \">&quot;gs://fc-8bcb1af7-a219-4671-90f7-e5653e87c3ad/NeuroGAP-Psychosis_AAU_Psychosis_BGE/RP-1837.PDO-29431/Exome/NGE0356/v1/NGE0356.cram&quot;</td><td style=\"white-space: nowrap; max-width: 500px; overflow: hidden; text-overflow: ellipsis; \">&quot;gs://fc-8bcb1af7-a219-4671-90f7-e5653e87c3ad/AAU_gVCF/gvcfs/NGE0356.v1.3fce2de0-b9a7-4040-a09e-90adc771c569.rb.g.vcf.gz&quot;</td><td style=\"white-space: nowrap; max-width: 500px; overflow: hidden; text-overflow: ellipsis; \">&quot;Control&quot;</td><td style=\"white-space: nowrap; max-width: 500px; overflow: hidden; text-overflow: ellipsis; \">&quot;2023-01-31&quot;</td><td style=\"white-space: nowrap; max-width: 500px; overflow: hidden; text-overflow: ellipsis; \">1.12e+00</td><td style=\"white-space: nowrap; max-width: 500px; overflow: hidden; text-overflow: ellipsis; \">6.00e-02</td><td style=\"white-space: nowrap; max-width: 500px; overflow: hidden; text-overflow: ellipsis; \">&quot;&quot;</td><td style=\"white-space: nowrap; max-width: 500px; overflow: hidden; text-overflow: ellipsis; \">True</td></tr>\n",
       "<tr><td style=\"white-space: nowrap; max-width: 500px; overflow: hidden; text-overflow: ellipsis; \">&quot;RP-1837.PDO-29431&quot;</td><td style=\"white-space: nowrap; max-width: 500px; overflow: hidden; text-overflow: ellipsis; \">&quot;NGE0367&quot;</td><td style=\"white-space: nowrap; max-width: 500px; overflow: hidden; text-overflow: ellipsis; \">&quot;BGE&quot;</td><td style=\"white-space: nowrap; max-width: 500px; overflow: hidden; text-overflow: ellipsis; \">&quot;Schizophrenia&quot;</td><td style=\"white-space: nowrap; max-width: 500px; overflow: hidden; text-overflow: ellipsis; \">&quot;43&quot;</td><td style=\"white-space: nowrap; max-width: 500px; overflow: hidden; text-overflow: ellipsis; \">&quot;African&quot;</td><td style=\"white-space: nowrap; max-width: 500px; overflow: hidden; text-overflow: ellipsis; \">&quot;SCZ_BP&quot;</td><td style=\"white-space: nowrap; max-width: 500px; overflow: hidden; text-overflow: ellipsis; \">1</td><td style=\"white-space: nowrap; max-width: 500px; overflow: hidden; text-overflow: ellipsis; \">&quot;NeuroGAP-Psychosis_AAU_Psychosis_BGE&quot;</td><td style=\"white-space: nowrap; max-width: 500px; overflow: hidden; text-overflow: ellipsis; \">&quot;Koenen&quot;</td><td style=\"white-space: nowrap; max-width: 500px; overflow: hidden; text-overflow: ellipsis; \">&quot;Teferra&quot;</td><td style=\"white-space: nowrap; max-width: 500px; overflow: hidden; text-overflow: ellipsis; \">&quot;NeuroGAP-Psychosis_AAU&quot;</td><td style=\"white-space: nowrap; max-width: 500px; overflow: hidden; text-overflow: ellipsis; \">&quot;CG-5600&quot;</td><td style=\"white-space: nowrap; max-width: 500px; overflow: hidden; text-overflow: ellipsis; \">&quot;MDS&quot;</td><td style=\"white-space: nowrap; max-width: 500px; overflow: hidden; text-overflow: ellipsis; \">&quot;RP-1837.PDO-29431_NGE0367&quot;</td><td style=\"white-space: nowrap; max-width: 500px; overflow: hidden; text-overflow: ellipsis; \">&quot;AAP33014231&quot;</td><td style=\"white-space: nowrap; max-width: 500px; overflow: hidden; text-overflow: ellipsis; \">&quot;SM-HKAJH&quot;</td><td style=\"white-space: nowrap; max-width: 500px; overflow: hidden; text-overflow: ellipsis; \">&quot;PDO-29431&quot;</td><td style=\"white-space: nowrap; max-width: 500px; overflow: hidden; text-overflow: ellipsis; \">&quot;broad_custom_exome_v1&quot;</td><td style=\"white-space: nowrap; max-width: 500px; overflow: hidden; text-overflow: ellipsis; \">&quot;Male&quot;</td><td style=\"white-space: nowrap; max-width: 500px; overflow: hidden; text-overflow: ellipsis; \">&quot;gs://fc-8bcb1af7-a219-4671-90f7-e5653e87c3ad/NeuroGAP-Psychosis_AAU_Psychosis_BGE/RP-1837.PDO-29431/Exome/NGE0367/v1/NGE0367.cram&quot;</td><td style=\"white-space: nowrap; max-width: 500px; overflow: hidden; text-overflow: ellipsis; \">&quot;gs://fc-8bcb1af7-a219-4671-90f7-e5653e87c3ad/AAU_gVCF/gvcfs/NGE0367.v1.f66ffe63-539f-4483-af97-fb9c603e6c53.rb.g.vcf.gz&quot;</td><td style=\"white-space: nowrap; max-width: 500px; overflow: hidden; text-overflow: ellipsis; \">&quot;Case&quot;</td><td style=\"white-space: nowrap; max-width: 500px; overflow: hidden; text-overflow: ellipsis; \">&quot;2023-01-31&quot;</td><td style=\"white-space: nowrap; max-width: 500px; overflow: hidden; text-overflow: ellipsis; \">1.28e+00</td><td style=\"white-space: nowrap; max-width: 500px; overflow: hidden; text-overflow: ellipsis; \">4.00e-02</td><td style=\"white-space: nowrap; max-width: 500px; overflow: hidden; text-overflow: ellipsis; \">&quot;&quot;</td><td style=\"white-space: nowrap; max-width: 500px; overflow: hidden; text-overflow: ellipsis; \">False</td></tr>\n",
       "</tbody></table><p style=\"background: #fdd; padding: 0.4em;\">showing top 5 rows</p>\n"
      ],
      "text/plain": [
       "+---------------------+------------+-----------+--------------------+\n",
       "| PROJECT             | SUBJECT_ID | DATA_TYPE | PRIMARY_DISEASE    |\n",
       "+---------------------+------------+-----------+--------------------+\n",
       "| str                 | str        | str       | str                |\n",
       "+---------------------+------------+-----------+--------------------+\n",
       "| \"RP-1837.PDO-29431\" | \"NGE0125\"  | \"BGE\"     | \"Bipolar Disorder\" |\n",
       "| \"RP-1837.PDO-29431\" | \"NGE0134\"  | \"BGE\"     | \"Bipolar Disorder\" |\n",
       "| \"RP-1837.PDO-29431\" | \"NGE0353\"  | \"BGE\"     | \"Control\"          |\n",
       "| \"RP-1837.PDO-29431\" | \"NGE0356\"  | \"BGE\"     | \"Control\"          |\n",
       "| \"RP-1837.PDO-29431\" | \"NGE0367\"  | \"BGE\"     | \"Schizophrenia\"    |\n",
       "+---------------------+------------+-----------+--------------------+\n",
       "\n",
       "+-----------------+----------------+---------------------+---------+\n",
       "| AGE_UNSPECIFIED | RACE_ETHNICITY | DISEASE_DESCRIPTION | VERSION |\n",
       "+-----------------+----------------+---------------------+---------+\n",
       "| str             | str            | str                 |   int32 |\n",
       "+-----------------+----------------+---------------------+---------+\n",
       "| \"50\"            | \"African\"      | \"SCZ_BP\"            |       1 |\n",
       "| \"60\"            | \"African\"      | \"SCZ_BP\"            |       1 |\n",
       "| \"21\"            | \"African\"      | \"SCZ_BP\"            |       1 |\n",
       "| \"30\"            | \"African\"      | \"SCZ_BP\"            |       1 |\n",
       "| \"43\"            | \"African\"      | \"SCZ_BP\"            |       1 |\n",
       "+-----------------+----------------+---------------------+---------+\n",
       "\n",
       "+----------------------------------------+--------------+-------------+\n",
       "| TERRA_WORKSPACE                        | INVESTIGATOR | EXTERNAL_PI |\n",
       "+----------------------------------------+--------------+-------------+\n",
       "| str                                    | str          | str         |\n",
       "+----------------------------------------+--------------+-------------+\n",
       "| \"NeuroGAP-Psychosis_AAU_Psychosis_BGE\" | \"Koenen\"     | \"Teferra\"   |\n",
       "| \"NeuroGAP-Psychosis_AAU_Psychosis_BGE\" | \"Koenen\"     | \"Teferra\"   |\n",
       "| \"NeuroGAP-Psychosis_AAU_Psychosis_BGE\" | \"Koenen\"     | \"Teferra\"   |\n",
       "| \"NeuroGAP-Psychosis_AAU_Psychosis_BGE\" | \"Koenen\"     | \"Teferra\"   |\n",
       "| \"NeuroGAP-Psychosis_AAU_Psychosis_BGE\" | \"Koenen\"     | \"Teferra\"   |\n",
       "+----------------------------------------+--------------+-------------+\n",
       "\n",
       "+--------------------------+-----------+---------+-----------------------------+\n",
       "| COHORT                   | ORSP_CG   | CONSENT | SEQ_ID                      |\n",
       "+--------------------------+-----------+---------+-----------------------------+\n",
       "| str                      | str       | str     | str                         |\n",
       "+--------------------------+-----------+---------+-----------------------------+\n",
       "| \"NeuroGAP-Psychosis_AAU\" | \"CG-5600\" | \"MDS\"   | \"RP-1837.PDO-29431_NGE0125\" |\n",
       "| \"NeuroGAP-Psychosis_AAU\" | \"CG-5600\" | \"MDS\"   | \"RP-1837.PDO-29431_NGE0134\" |\n",
       "| \"NeuroGAP-Psychosis_AAU\" | \"CG-5600\" | \"MDS\"   | \"RP-1837.PDO-29431_NGE0353\" |\n",
       "| \"NeuroGAP-Psychosis_AAU\" | \"CG-5600\" | \"MDS\"   | \"RP-1837.PDO-29431_NGE0356\" |\n",
       "| \"NeuroGAP-Psychosis_AAU\" | \"CG-5600\" | \"MDS\"   | \"RP-1837.PDO-29431_NGE0367\" |\n",
       "+--------------------------+-----------+---------+-----------------------------+\n",
       "\n",
       "+-----------------------------+------------+-------------+\n",
       "| COLLABORATOR_PARTICIPANT_ID | SM_ID      | PDO         |\n",
       "+-----------------------------+------------+-------------+\n",
       "| str                         | str        | str         |\n",
       "+-----------------------------+------------+-------------+\n",
       "| \"AAP15240340\"               | \"SM-H5MD2\" | \"PDO-29431\" |\n",
       "| \"AAP70688767\"               | \"SM-H5MDB\" | \"PDO-29431\" |\n",
       "| \"AAP19253657\"               | \"SM-HKAJ3\" | \"PDO-29431\" |\n",
       "| \"AAP20466375\"               | \"SM-HKAJ6\" | \"PDO-29431\" |\n",
       "| \"AAP33014231\"               | \"SM-HKAJH\" | \"PDO-29431\" |\n",
       "+-----------------------------+------------+-------------+\n",
       "\n",
       "+-------------------------+----------+\n",
       "| CAPTURE                 | SEX      |\n",
       "+-------------------------+----------+\n",
       "| str                     | str      |\n",
       "+-------------------------+----------+\n",
       "| \"broad_custom_exome_v1\" | \"Female\" |\n",
       "| \"broad_custom_exome_v1\" | \"Male\"   |\n",
       "| \"broad_custom_exome_v1\" | \"Male\"   |\n",
       "| \"broad_custom_exome_v1\" | \"Male\"   |\n",
       "| \"broad_custom_exome_v1\" | \"Male\"   |\n",
       "+-------------------------+----------+\n",
       "\n",
       "+------------------------------------------------------------------------------+\n",
       "| CRAM                                                                         |\n",
       "+------------------------------------------------------------------------------+\n",
       "| str                                                                          |\n",
       "+------------------------------------------------------------------------------+\n",
       "| \"gs://fc-8bcb1af7-a219-4671-90f7-e5653e87c3ad/NeuroGAP-Psychosis_AAU_Psyc... |\n",
       "| \"gs://fc-8bcb1af7-a219-4671-90f7-e5653e87c3ad/NeuroGAP-Psychosis_AAU_Psyc... |\n",
       "| \"gs://fc-8bcb1af7-a219-4671-90f7-e5653e87c3ad/NeuroGAP-Psychosis_AAU_Psyc... |\n",
       "| \"gs://fc-8bcb1af7-a219-4671-90f7-e5653e87c3ad/NeuroGAP-Psychosis_AAU_Psyc... |\n",
       "| \"gs://fc-8bcb1af7-a219-4671-90f7-e5653e87c3ad/NeuroGAP-Psychosis_AAU_Psyc... |\n",
       "+------------------------------------------------------------------------------+\n",
       "\n",
       "+------------------------------------------------------------------------------+\n",
       "| GVCF                                                                         |\n",
       "+------------------------------------------------------------------------------+\n",
       "| str                                                                          |\n",
       "+------------------------------------------------------------------------------+\n",
       "| \"gs://fc-8bcb1af7-a219-4671-90f7-e5653e87c3ad/AAU_gVCF/gvcfs/NGE0125.v1.d... |\n",
       "| \"gs://fc-8bcb1af7-a219-4671-90f7-e5653e87c3ad/AAU_gVCF/gvcfs/NGE0134.v1.4... |\n",
       "| \"gs://fc-8bcb1af7-a219-4671-90f7-e5653e87c3ad/AAU_gVCF/gvcfs/NGE0353.v1.f... |\n",
       "| \"gs://fc-8bcb1af7-a219-4671-90f7-e5653e87c3ad/AAU_gVCF/gvcfs/NGE0356.v1.3... |\n",
       "| \"gs://fc-8bcb1af7-a219-4671-90f7-e5653e87c3ad/AAU_gVCF/gvcfs/NGE0367.v1.f... |\n",
       "+------------------------------------------------------------------------------+\n",
       "\n",
       "+-----------+--------------+----------+---------------+---------+-------+\n",
       "| ROLE      | COVERAGE_MET |  CHIMERA | CONTAMINATION | CALLSET |       |\n",
       "+-----------+--------------+----------+---------------+---------+-------+\n",
       "| str       | str          |  float64 |       float64 | str     |  bool |\n",
       "+-----------+--------------+----------+---------------+---------+-------+\n",
       "| \"Case\"    | \"2023-01-31\" | 1.21e+00 |      1.40e-01 | \"\"      | False |\n",
       "| \"Case\"    | \"2023-01-31\" | 1.51e+00 |      9.00e-02 | \"\"      | False |\n",
       "| \"Control\" | \"2023-01-31\" | 1.32e+00 |      3.00e-02 | \"\"      |  True |\n",
       "| \"Control\" | \"2023-01-31\" | 1.12e+00 |      6.00e-02 | \"\"      |  True |\n",
       "| \"Case\"    | \"2023-01-31\" | 1.28e+00 |      4.00e-02 | \"\"      | False |\n",
       "+-----------+--------------+----------+---------------+---------+-------+\n",
       "showing top 5 rows"
      ]
     },
     "metadata": {},
     "output_type": "display_data"
    }
   ],
   "source": [
    "manifest_prs_sub = manifest_sub.filter(hl.literal(ids).contains(manifest_sub.SUBJECT_ID))\n",
    "manifest_prs_sub.show(5)"
   ]
  },
  {
   "cell_type": "code",
   "execution_count": 43,
   "id": "5c05c0d9",
   "metadata": {},
   "outputs": [
    {
     "data": {
      "text/html": [
       "<table><thead><tr><td style=\"white-space: nowrap; max-width: 500px; overflow: hidden; text-overflow: ellipsis; \" colspan=\"1\"><div style=\"text-align: left;\"></div></td><td style=\"white-space: nowrap; max-width: 500px; overflow: hidden; text-overflow: ellipsis; \" colspan=\"1\"><div style=\"text-align: left;\"></div></td><td style=\"white-space: nowrap; max-width: 500px; overflow: hidden; text-overflow: ellipsis; \" colspan=\"1\"><div style=\"text-align: left;\"></div></td><td style=\"white-space: nowrap; max-width: 500px; overflow: hidden; text-overflow: ellipsis; \" colspan=\"1\"><div style=\"text-align: left;\"></div></td></tr><tr><td style=\"white-space: nowrap; max-width: 500px; overflow: hidden; text-overflow: ellipsis; \" colspan=\"1\"><div style=\"text-align: left;border-bottom: solid 2px #000; padding-bottom: 5px\">SUBJECT_ID</div></td><td style=\"white-space: nowrap; max-width: 500px; overflow: hidden; text-overflow: ellipsis; \" colspan=\"1\"><div style=\"text-align: left;border-bottom: solid 2px #000; padding-bottom: 5px\">ROLE</div></td><td style=\"white-space: nowrap; max-width: 500px; overflow: hidden; text-overflow: ellipsis; \" colspan=\"1\"><div style=\"text-align: left;border-bottom: solid 2px #000; padding-bottom: 5px\">SEX</div></td><td style=\"white-space: nowrap; max-width: 500px; overflow: hidden; text-overflow: ellipsis; \" colspan=\"1\"><div style=\"text-align: left;border-bottom: solid 2px #000; padding-bottom: 5px\">FAM_ID</div></td></tr><tr><td style=\"white-space: nowrap; max-width: 500px; overflow: hidden; text-overflow: ellipsis; text-align: left;\">str</td><td style=\"white-space: nowrap; max-width: 500px; overflow: hidden; text-overflow: ellipsis; text-align: left;\">str</td><td style=\"white-space: nowrap; max-width: 500px; overflow: hidden; text-overflow: ellipsis; text-align: left;\">str</td><td style=\"white-space: nowrap; max-width: 500px; overflow: hidden; text-overflow: ellipsis; text-align: left;\">str</td></tr>\n",
       "</thead><tbody><tr><td style=\"white-space: nowrap; max-width: 500px; overflow: hidden; text-overflow: ellipsis; \">&quot;NGE0125&quot;</td><td style=\"white-space: nowrap; max-width: 500px; overflow: hidden; text-overflow: ellipsis; \">&quot;2&quot;</td><td style=\"white-space: nowrap; max-width: 500px; overflow: hidden; text-overflow: ellipsis; \">&quot;2&quot;</td><td style=\"white-space: nowrap; max-width: 500px; overflow: hidden; text-overflow: ellipsis; \">&quot;NGE0125&quot;</td></tr>\n",
       "<tr><td style=\"white-space: nowrap; max-width: 500px; overflow: hidden; text-overflow: ellipsis; \">&quot;NGE0134&quot;</td><td style=\"white-space: nowrap; max-width: 500px; overflow: hidden; text-overflow: ellipsis; \">&quot;2&quot;</td><td style=\"white-space: nowrap; max-width: 500px; overflow: hidden; text-overflow: ellipsis; \">&quot;1&quot;</td><td style=\"white-space: nowrap; max-width: 500px; overflow: hidden; text-overflow: ellipsis; \">&quot;NGE0134&quot;</td></tr>\n",
       "<tr><td style=\"white-space: nowrap; max-width: 500px; overflow: hidden; text-overflow: ellipsis; \">&quot;NGE0353&quot;</td><td style=\"white-space: nowrap; max-width: 500px; overflow: hidden; text-overflow: ellipsis; \">&quot;1&quot;</td><td style=\"white-space: nowrap; max-width: 500px; overflow: hidden; text-overflow: ellipsis; \">&quot;1&quot;</td><td style=\"white-space: nowrap; max-width: 500px; overflow: hidden; text-overflow: ellipsis; \">&quot;NGE0353&quot;</td></tr>\n",
       "<tr><td style=\"white-space: nowrap; max-width: 500px; overflow: hidden; text-overflow: ellipsis; \">&quot;NGE0356&quot;</td><td style=\"white-space: nowrap; max-width: 500px; overflow: hidden; text-overflow: ellipsis; \">&quot;1&quot;</td><td style=\"white-space: nowrap; max-width: 500px; overflow: hidden; text-overflow: ellipsis; \">&quot;1&quot;</td><td style=\"white-space: nowrap; max-width: 500px; overflow: hidden; text-overflow: ellipsis; \">&quot;NGE0356&quot;</td></tr>\n",
       "<tr><td style=\"white-space: nowrap; max-width: 500px; overflow: hidden; text-overflow: ellipsis; \">&quot;NGE0367&quot;</td><td style=\"white-space: nowrap; max-width: 500px; overflow: hidden; text-overflow: ellipsis; \">&quot;2&quot;</td><td style=\"white-space: nowrap; max-width: 500px; overflow: hidden; text-overflow: ellipsis; \">&quot;1&quot;</td><td style=\"white-space: nowrap; max-width: 500px; overflow: hidden; text-overflow: ellipsis; \">&quot;NGE0367&quot;</td></tr>\n",
       "</tbody></table><p style=\"background: #fdd; padding: 0.4em;\">showing top 5 rows</p>\n"
      ],
      "text/plain": [
       "+------------+------+-----+-----------+\n",
       "| SUBJECT_ID | ROLE | SEX | FAM_ID    |\n",
       "+------------+------+-----+-----------+\n",
       "| str        | str  | str | str       |\n",
       "+------------+------+-----+-----------+\n",
       "| \"NGE0125\"  | \"2\"  | \"2\" | \"NGE0125\" |\n",
       "| \"NGE0134\"  | \"2\"  | \"1\" | \"NGE0134\" |\n",
       "| \"NGE0353\"  | \"1\"  | \"1\" | \"NGE0353\" |\n",
       "| \"NGE0356\"  | \"1\"  | \"1\" | \"NGE0356\" |\n",
       "| \"NGE0367\"  | \"2\"  | \"1\" | \"NGE0367\" |\n",
       "+------------+------+-----+-----------+\n",
       "showing top 5 rows"
      ]
     },
     "metadata": {},
     "output_type": "display_data"
    }
   ],
   "source": [
    "columns_to_keep = ['SUBJECT_ID','ROLE', 'SEX'] \n",
    "sample_info = manifest_prs_sub.select(*columns_to_keep)\n",
    "\n",
    "sample_info = sample_info.annotate(FAM_ID=sample_info.SUBJECT_ID)\n",
    "\n",
    "\n",
    "sample_info = sample_info.annotate(ROLE=hl.if_else(sample_info.ROLE == 'Case', \"2\",\n",
    "                            hl.if_else(sample_info.ROLE == 'Control', \"1\", sample_info.ROLE)))\n",
    "\n",
    "sample_info = sample_info.annotate(SEX=hl.if_else(sample_info.SEX == 'Female', \"2\",\n",
    "                            hl.if_else(sample_info.SEX == 'Male', \"1\", sample_info.SEX)))\n",
    "\n",
    "\n",
    "#replace dots, spaces, or underscore with dash\n",
    "sample_info = sample_info.annotate(\n",
    "    SUBJECT_ID=hl.str(sample_info.SUBJECT_ID).replace(r'[._\\s]', '-')\n",
    ")\n",
    "\n",
    "#replace dots, spaces, or underscore with dash\n",
    "sample_info = sample_info.annotate(\n",
    "    FAM_ID=hl.str(sample_info.FAM_ID).replace(r'[._\\s]', '-')\n",
    ")\n",
    "\n",
    "sample_info_sex = sample_info.select('SUBJECT_ID', 'FAM_ID', 'SEX')\n",
    "sample_info_role = sample_info.select('SUBJECT_ID', 'FAM_ID', 'ROLE')\n",
    "\n",
    "sample_info.show(5)"
   ]
  },
  {
   "cell_type": "code",
   "execution_count": 44,
   "id": "48c57132",
   "metadata": {},
   "outputs": [
    {
     "name": "stderr",
     "output_type": "stream",
     "text": [
      "2024-10-15 16:39:26.032 Hail: INFO: merging 1 files totalling 215.3K...+ 1) / 1]\n",
      "2024-10-15 16:39:26.214 Hail: INFO: while writing:\n",
      "    gs://neurogap-bge-imputed-regional/forPRSWiki/AAU_sex.tsv\n",
      "  merge time: 182.060ms\n",
      "2024-10-15 16:39:32.902 Hail: INFO: merging 1 files totalling 215.3K...+ 1) / 1]\n",
      "2024-10-15 16:39:33.091 Hail: INFO: while writing:\n",
      "    gs://neurogap-bge-imputed-regional/forPRSWiki/AAU_role.tsv\n",
      "  merge time: 188.915ms\n"
     ]
    }
   ],
   "source": [
    "sample_info_output_path_sex = \"gs://neurogap-bge-imputed-regional/forPRSWiki/AAU_sex.tsv\"\n",
    "sample_info_sex.export(sample_info_output_path_sex, header=False)\n",
    "\n",
    "sample_info_output_path_role = \"gs://neurogap-bge-imputed-regional/forPRSWiki/AAU_role.tsv\"\n",
    "sample_info_role.export(sample_info_output_path_role, header=False)\n"
   ]
  },
  {
   "cell_type": "code",
   "execution_count": 35,
   "id": "f73273ae",
   "metadata": {},
   "outputs": [
    {
     "name": "stderr",
     "output_type": "stream",
     "text": [
      "2024-10-07 20:50:02.928 Hail: INFO: merging 1088 files totalling 2.7G... / 1087]\n",
      "2024-10-07 20:50:44.452 Hail: INFO: while writing:\n",
      "    gs://neurogap-bge-imputed-regional/forPRSWiki/AAU.bed\n",
      "  merge time: 41.524s\n",
      "2024-10-07 20:50:44.911 Hail: INFO: merging 1087 files totalling 34.1M...\n",
      "2024-10-07 20:50:46.645 Hail: INFO: while writing:\n",
      "    gs://neurogap-bge-imputed-regional/forPRSWiki/AAU.bim\n",
      "  merge time: 1.733s\n"
     ]
    }
   ],
   "source": [
    "plink_path=\"gs://neurogap-bge-imputed-regional/forPRSWiki/AAU\"                         \n",
    "\n",
    "hl.export_plink(bgen_prs_subset,output=plink_path,fam_id=bgen_prs_subset.s_new, ind_id=bgen_prs_subset.s_new,varid=bgen_prs_subset[\"rsid\"])      \n"
   ]
  },
  {
   "cell_type": "code",
   "execution_count": null,
   "id": "c345a85f",
   "metadata": {},
   "outputs": [],
   "source": []
  }
 ],
 "metadata": {
  "kernelspec": {
   "display_name": "Python 3 (ipykernel)",
   "language": "python",
   "name": "python3"
  },
  "language_info": {
   "codemirror_mode": {
    "name": "ipython",
    "version": 3
   },
   "file_extension": ".py",
   "mimetype": "text/x-python",
   "name": "python",
   "nbconvert_exporter": "python",
   "pygments_lexer": "ipython3",
   "version": "3.12.1"
  }
 },
 "nbformat": 4,
 "nbformat_minor": 5
}
