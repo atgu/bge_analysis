{
 "cells": [
  {
   "cell_type": "code",
   "execution_count": null,
   "id": "0e0d826b",
   "metadata": {
    "scrolled": true
   },
   "outputs": [],
   "source": [
    "import hail as hl\n",
    "hl.init(spark_conf={'spark.driver.memory': '128g'})\n",
    "import pandas as pd"
   ]
  },
  {
   "cell_type": "code",
   "execution_count": 2,
   "id": "7a18c10a",
   "metadata": {},
   "outputs": [
    {
     "name": "stderr",
     "output_type": "stream",
     "text": [
      "2025-07-28 23:00:06.619 Hail: INFO: Reading table to impute column types 1) / 1]\n",
      "2025-07-28 23:00:09.012 Hail: INFO: Finished type imputation        (0 + 1) / 1]\n",
      "  Loading field 'PROJECT' as type str (imputed)\n",
      "  Loading field 'SUBJECT_ID' as type str (imputed)\n",
      "  Loading field 'DATA_TYPE' as type str (imputed)\n",
      "  Loading field 'PRIMARY_DISEASE' as type str (imputed)\n",
      "  Loading field 'AGE_UNSPECIFIED' as type str (imputed)\n",
      "  Loading field 'RACE_ETHNICITY' as type str (imputed)\n",
      "  Loading field 'DISEASE_DESCRIPTION' as type str (imputed)\n",
      "  Loading field 'VERSION' as type int32 (imputed)\n",
      "  Loading field 'TERRA_WORKSPACE' as type str (imputed)\n",
      "  Loading field 'INVESTIGATOR' as type str (imputed)\n",
      "  Loading field 'EXTERNAL_PI' as type str (imputed)\n",
      "  Loading field 'COHORT' as type str (imputed)\n",
      "  Loading field 'ORSP_CG' as type str (imputed)\n",
      "  Loading field 'CONSENT' as type str (imputed)\n",
      "  Loading field 'SEQ_ID' as type str (imputed)\n",
      "  Loading field 'COLLABORATOR_PARTICIPANT_ID' as type str (imputed)\n",
      "  Loading field 'SM_ID' as type str (imputed)\n",
      "  Loading field 'PDO' as type str (imputed)\n",
      "  Loading field 'CAPTURE' as type str (imputed)\n",
      "  Loading field 'SEX' as type str (imputed)\n",
      "  Loading field 'CRAM' as type str (imputed)\n",
      "  Loading field 'GVCF' as type str (imputed)\n",
      "  Loading field 'ROLE' as type str (imputed)\n",
      "  Loading field 'COVERAGE_MET' as type str (imputed)\n",
      "  Loading field 'CHIMERA' as type float64 (imputed)\n",
      "  Loading field 'CONTAMINATION' as type float64 (imputed)\n",
      "WARNING: An illegal reflective access operation has occurred\n",
      "WARNING: Illegal reflective access by org.apache.spark.util.SizeEstimator$ (file:/usr/lib/spark/jars/spark-core_2.12-3.5.0.jar) to field java.nio.charset.Charset.name\n",
      "WARNING: Please consider reporting this to the maintainers of org.apache.spark.util.SizeEstimator$\n",
      "WARNING: Use --illegal-access=warn to enable warnings of further illegal reflective access operations\n",
      "WARNING: All illegal access operations will be denied in a future release\n",
      "[Stage 3:>                                                          (0 + 1) / 1]\r"
     ]
    },
    {
     "data": {
      "text/html": [
       "<table><thead><tr><td style=\"white-space: nowrap; max-width: 500px; overflow: hidden; text-overflow: ellipsis; \" colspan=\"1\"><div style=\"text-align: left;\"></div></td><td style=\"white-space: nowrap; max-width: 500px; overflow: hidden; text-overflow: ellipsis; \" colspan=\"1\"><div style=\"text-align: left;\"></div></td><td style=\"white-space: nowrap; max-width: 500px; overflow: hidden; text-overflow: ellipsis; \" colspan=\"1\"><div style=\"text-align: left;\"></div></td><td style=\"white-space: nowrap; max-width: 500px; overflow: hidden; text-overflow: ellipsis; \" colspan=\"1\"><div style=\"text-align: left;\"></div></td><td style=\"white-space: nowrap; max-width: 500px; overflow: hidden; text-overflow: ellipsis; \" colspan=\"1\"><div style=\"text-align: left;\"></div></td><td style=\"white-space: nowrap; max-width: 500px; overflow: hidden; text-overflow: ellipsis; \" colspan=\"1\"><div style=\"text-align: left;\"></div></td><td style=\"white-space: nowrap; max-width: 500px; overflow: hidden; text-overflow: ellipsis; \" colspan=\"1\"><div style=\"text-align: left;\"></div></td><td style=\"white-space: nowrap; max-width: 500px; overflow: hidden; text-overflow: ellipsis; \" colspan=\"1\"><div style=\"text-align: left;\"></div></td><td style=\"white-space: nowrap; max-width: 500px; overflow: hidden; text-overflow: ellipsis; \" colspan=\"1\"><div style=\"text-align: left;\"></div></td><td style=\"white-space: nowrap; max-width: 500px; overflow: hidden; text-overflow: ellipsis; \" colspan=\"1\"><div style=\"text-align: left;\"></div></td><td style=\"white-space: nowrap; max-width: 500px; overflow: hidden; text-overflow: ellipsis; \" colspan=\"1\"><div style=\"text-align: left;\"></div></td><td style=\"white-space: nowrap; max-width: 500px; overflow: hidden; text-overflow: ellipsis; \" colspan=\"1\"><div style=\"text-align: left;\"></div></td><td style=\"white-space: nowrap; max-width: 500px; overflow: hidden; text-overflow: ellipsis; \" colspan=\"1\"><div style=\"text-align: left;\"></div></td><td style=\"white-space: nowrap; max-width: 500px; overflow: hidden; text-overflow: ellipsis; \" colspan=\"1\"><div style=\"text-align: left;\"></div></td><td style=\"white-space: nowrap; max-width: 500px; overflow: hidden; text-overflow: ellipsis; \" colspan=\"1\"><div style=\"text-align: left;\"></div></td><td style=\"white-space: nowrap; max-width: 500px; overflow: hidden; text-overflow: ellipsis; \" colspan=\"1\"><div style=\"text-align: left;\"></div></td><td style=\"white-space: nowrap; max-width: 500px; overflow: hidden; text-overflow: ellipsis; \" colspan=\"1\"><div style=\"text-align: left;\"></div></td><td style=\"white-space: nowrap; max-width: 500px; overflow: hidden; text-overflow: ellipsis; \" colspan=\"1\"><div style=\"text-align: left;\"></div></td><td style=\"white-space: nowrap; max-width: 500px; overflow: hidden; text-overflow: ellipsis; \" colspan=\"1\"><div style=\"text-align: left;\"></div></td><td style=\"white-space: nowrap; max-width: 500px; overflow: hidden; text-overflow: ellipsis; \" colspan=\"1\"><div style=\"text-align: left;\"></div></td><td style=\"white-space: nowrap; max-width: 500px; overflow: hidden; text-overflow: ellipsis; \" colspan=\"1\"><div style=\"text-align: left;\"></div></td><td style=\"white-space: nowrap; max-width: 500px; overflow: hidden; text-overflow: ellipsis; \" colspan=\"1\"><div style=\"text-align: left;\"></div></td><td style=\"white-space: nowrap; max-width: 500px; overflow: hidden; text-overflow: ellipsis; \" colspan=\"1\"><div style=\"text-align: left;\"></div></td><td style=\"white-space: nowrap; max-width: 500px; overflow: hidden; text-overflow: ellipsis; \" colspan=\"1\"><div style=\"text-align: left;\"></div></td><td style=\"white-space: nowrap; max-width: 500px; overflow: hidden; text-overflow: ellipsis; \" colspan=\"1\"><div style=\"text-align: left;\"></div></td><td style=\"white-space: nowrap; max-width: 500px; overflow: hidden; text-overflow: ellipsis; \" colspan=\"1\"><div style=\"text-align: left;\"></div></td><td style=\"white-space: nowrap; max-width: 500px; overflow: hidden; text-overflow: ellipsis; \" colspan=\"1\"><div style=\"text-align: left;\"></div></td><td style=\"white-space: nowrap; max-width: 500px; overflow: hidden; text-overflow: ellipsis; \" colspan=\"1\"><div style=\"text-align: left;\"></div></td></tr><tr><td style=\"white-space: nowrap; max-width: 500px; overflow: hidden; text-overflow: ellipsis; \" colspan=\"1\"><div style=\"text-align: left;border-bottom: solid 2px #000; padding-bottom: 5px\">PROJECT</div></td><td style=\"white-space: nowrap; max-width: 500px; overflow: hidden; text-overflow: ellipsis; \" colspan=\"1\"><div style=\"text-align: left;border-bottom: solid 2px #000; padding-bottom: 5px\">SUBJECT_ID</div></td><td style=\"white-space: nowrap; max-width: 500px; overflow: hidden; text-overflow: ellipsis; \" colspan=\"1\"><div style=\"text-align: left;border-bottom: solid 2px #000; padding-bottom: 5px\">DATA_TYPE</div></td><td style=\"white-space: nowrap; max-width: 500px; overflow: hidden; text-overflow: ellipsis; \" colspan=\"1\"><div style=\"text-align: left;border-bottom: solid 2px #000; padding-bottom: 5px\">PRIMARY_DISEASE</div></td><td style=\"white-space: nowrap; max-width: 500px; overflow: hidden; text-overflow: ellipsis; \" colspan=\"1\"><div style=\"text-align: left;border-bottom: solid 2px #000; padding-bottom: 5px\">AGE_UNSPECIFIED</div></td><td style=\"white-space: nowrap; max-width: 500px; overflow: hidden; text-overflow: ellipsis; \" colspan=\"1\"><div style=\"text-align: left;border-bottom: solid 2px #000; padding-bottom: 5px\">RACE_ETHNICITY</div></td><td style=\"white-space: nowrap; max-width: 500px; overflow: hidden; text-overflow: ellipsis; \" colspan=\"1\"><div style=\"text-align: left;border-bottom: solid 2px #000; padding-bottom: 5px\">DISEASE_DESCRIPTION</div></td><td style=\"white-space: nowrap; max-width: 500px; overflow: hidden; text-overflow: ellipsis; \" colspan=\"1\"><div style=\"text-align: left;border-bottom: solid 2px #000; padding-bottom: 5px\">VERSION</div></td><td style=\"white-space: nowrap; max-width: 500px; overflow: hidden; text-overflow: ellipsis; \" colspan=\"1\"><div style=\"text-align: left;border-bottom: solid 2px #000; padding-bottom: 5px\">TERRA_WORKSPACE</div></td><td style=\"white-space: nowrap; max-width: 500px; overflow: hidden; text-overflow: ellipsis; \" colspan=\"1\"><div style=\"text-align: left;border-bottom: solid 2px #000; padding-bottom: 5px\">INVESTIGATOR</div></td><td style=\"white-space: nowrap; max-width: 500px; overflow: hidden; text-overflow: ellipsis; \" colspan=\"1\"><div style=\"text-align: left;border-bottom: solid 2px #000; padding-bottom: 5px\">EXTERNAL_PI</div></td><td style=\"white-space: nowrap; max-width: 500px; overflow: hidden; text-overflow: ellipsis; \" colspan=\"1\"><div style=\"text-align: left;border-bottom: solid 2px #000; padding-bottom: 5px\">COHORT</div></td><td style=\"white-space: nowrap; max-width: 500px; overflow: hidden; text-overflow: ellipsis; \" colspan=\"1\"><div style=\"text-align: left;border-bottom: solid 2px #000; padding-bottom: 5px\">ORSP_CG</div></td><td style=\"white-space: nowrap; max-width: 500px; overflow: hidden; text-overflow: ellipsis; \" colspan=\"1\"><div style=\"text-align: left;border-bottom: solid 2px #000; padding-bottom: 5px\">CONSENT</div></td><td style=\"white-space: nowrap; max-width: 500px; overflow: hidden; text-overflow: ellipsis; \" colspan=\"1\"><div style=\"text-align: left;border-bottom: solid 2px #000; padding-bottom: 5px\">SEQ_ID</div></td><td style=\"white-space: nowrap; max-width: 500px; overflow: hidden; text-overflow: ellipsis; \" colspan=\"1\"><div style=\"text-align: left;border-bottom: solid 2px #000; padding-bottom: 5px\">COLLABORATOR_PARTICIPANT_ID</div></td><td style=\"white-space: nowrap; max-width: 500px; overflow: hidden; text-overflow: ellipsis; \" colspan=\"1\"><div style=\"text-align: left;border-bottom: solid 2px #000; padding-bottom: 5px\">SM_ID</div></td><td style=\"white-space: nowrap; max-width: 500px; overflow: hidden; text-overflow: ellipsis; \" colspan=\"1\"><div style=\"text-align: left;border-bottom: solid 2px #000; padding-bottom: 5px\">PDO</div></td><td style=\"white-space: nowrap; max-width: 500px; overflow: hidden; text-overflow: ellipsis; \" colspan=\"1\"><div style=\"text-align: left;border-bottom: solid 2px #000; padding-bottom: 5px\">CAPTURE</div></td><td style=\"white-space: nowrap; max-width: 500px; overflow: hidden; text-overflow: ellipsis; \" colspan=\"1\"><div style=\"text-align: left;border-bottom: solid 2px #000; padding-bottom: 5px\">SEX</div></td><td style=\"white-space: nowrap; max-width: 500px; overflow: hidden; text-overflow: ellipsis; \" colspan=\"1\"><div style=\"text-align: left;border-bottom: solid 2px #000; padding-bottom: 5px\">CRAM</div></td><td style=\"white-space: nowrap; max-width: 500px; overflow: hidden; text-overflow: ellipsis; \" colspan=\"1\"><div style=\"text-align: left;border-bottom: solid 2px #000; padding-bottom: 5px\">GVCF</div></td><td style=\"white-space: nowrap; max-width: 500px; overflow: hidden; text-overflow: ellipsis; \" colspan=\"1\"><div style=\"text-align: left;border-bottom: solid 2px #000; padding-bottom: 5px\">ROLE</div></td><td style=\"white-space: nowrap; max-width: 500px; overflow: hidden; text-overflow: ellipsis; \" colspan=\"1\"><div style=\"text-align: left;border-bottom: solid 2px #000; padding-bottom: 5px\">COVERAGE_MET</div></td><td style=\"white-space: nowrap; max-width: 500px; overflow: hidden; text-overflow: ellipsis; \" colspan=\"1\"><div style=\"text-align: left;border-bottom: solid 2px #000; padding-bottom: 5px\">CHIMERA</div></td><td style=\"white-space: nowrap; max-width: 500px; overflow: hidden; text-overflow: ellipsis; \" colspan=\"1\"><div style=\"text-align: left;border-bottom: solid 2px #000; padding-bottom: 5px\">CONTAMINATION</div></td><td style=\"white-space: nowrap; max-width: 500px; overflow: hidden; text-overflow: ellipsis; \" colspan=\"1\"><div style=\"text-align: left;border-bottom: solid 2px #000; padding-bottom: 5px\">SUBJECT_ID_CLEAN</div></td><td style=\"white-space: nowrap; max-width: 500px; overflow: hidden; text-overflow: ellipsis; \" colspan=\"1\"><div style=\"text-align: left;border-bottom: solid 2px #000; padding-bottom: 5px\">PHENOTYPE</div></td></tr><tr><td style=\"white-space: nowrap; max-width: 500px; overflow: hidden; text-overflow: ellipsis; text-align: left;\">str</td><td style=\"white-space: nowrap; max-width: 500px; overflow: hidden; text-overflow: ellipsis; text-align: left;\">str</td><td style=\"white-space: nowrap; max-width: 500px; overflow: hidden; text-overflow: ellipsis; text-align: left;\">str</td><td style=\"white-space: nowrap; max-width: 500px; overflow: hidden; text-overflow: ellipsis; text-align: left;\">str</td><td style=\"white-space: nowrap; max-width: 500px; overflow: hidden; text-overflow: ellipsis; text-align: left;\">str</td><td style=\"white-space: nowrap; max-width: 500px; overflow: hidden; text-overflow: ellipsis; text-align: left;\">str</td><td style=\"white-space: nowrap; max-width: 500px; overflow: hidden; text-overflow: ellipsis; text-align: left;\">str</td><td style=\"white-space: nowrap; max-width: 500px; overflow: hidden; text-overflow: ellipsis; text-align: left;\">int32</td><td style=\"white-space: nowrap; max-width: 500px; overflow: hidden; text-overflow: ellipsis; text-align: left;\">str</td><td style=\"white-space: nowrap; max-width: 500px; overflow: hidden; text-overflow: ellipsis; text-align: left;\">str</td><td style=\"white-space: nowrap; max-width: 500px; overflow: hidden; text-overflow: ellipsis; text-align: left;\">str</td><td style=\"white-space: nowrap; max-width: 500px; overflow: hidden; text-overflow: ellipsis; text-align: left;\">str</td><td style=\"white-space: nowrap; max-width: 500px; overflow: hidden; text-overflow: ellipsis; text-align: left;\">str</td><td style=\"white-space: nowrap; max-width: 500px; overflow: hidden; text-overflow: ellipsis; text-align: left;\">str</td><td style=\"white-space: nowrap; max-width: 500px; overflow: hidden; text-overflow: ellipsis; text-align: left;\">str</td><td style=\"white-space: nowrap; max-width: 500px; overflow: hidden; text-overflow: ellipsis; text-align: left;\">str</td><td style=\"white-space: nowrap; max-width: 500px; overflow: hidden; text-overflow: ellipsis; text-align: left;\">str</td><td style=\"white-space: nowrap; max-width: 500px; overflow: hidden; text-overflow: ellipsis; text-align: left;\">str</td><td style=\"white-space: nowrap; max-width: 500px; overflow: hidden; text-overflow: ellipsis; text-align: left;\">str</td><td style=\"white-space: nowrap; max-width: 500px; overflow: hidden; text-overflow: ellipsis; text-align: left;\">str</td><td style=\"white-space: nowrap; max-width: 500px; overflow: hidden; text-overflow: ellipsis; text-align: left;\">str</td><td style=\"white-space: nowrap; max-width: 500px; overflow: hidden; text-overflow: ellipsis; text-align: left;\">str</td><td style=\"white-space: nowrap; max-width: 500px; overflow: hidden; text-overflow: ellipsis; text-align: left;\">str</td><td style=\"white-space: nowrap; max-width: 500px; overflow: hidden; text-overflow: ellipsis; text-align: left;\">str</td><td style=\"white-space: nowrap; max-width: 500px; overflow: hidden; text-overflow: ellipsis; text-align: left;\">float64</td><td style=\"white-space: nowrap; max-width: 500px; overflow: hidden; text-overflow: ellipsis; text-align: left;\">float64</td><td style=\"white-space: nowrap; max-width: 500px; overflow: hidden; text-overflow: ellipsis; text-align: left;\">str</td><td style=\"white-space: nowrap; max-width: 500px; overflow: hidden; text-overflow: ellipsis; text-align: left;\">str</td></tr>\n",
       "</thead><tbody><tr><td style=\"white-space: nowrap; max-width: 500px; overflow: hidden; text-overflow: ellipsis; \">&quot;RP-1691.PDO-29438&quot;</td><td style=\"white-space: nowrap; max-width: 500px; overflow: hidden; text-overflow: ellipsis; \">&quot;MAP1&quot;</td><td style=\"white-space: nowrap; max-width: 500px; overflow: hidden; text-overflow: ellipsis; \">&quot;BGE&quot;</td><td style=\"white-space: nowrap; max-width: 500px; overflow: hidden; text-overflow: ellipsis; \">&quot;Control&quot;</td><td style=\"white-space: nowrap; max-width: 500px; overflow: hidden; text-overflow: ellipsis; \">&quot;31&quot;</td><td style=\"white-space: nowrap; max-width: 500px; overflow: hidden; text-overflow: ellipsis; \">&quot;African&quot;</td><td style=\"white-space: nowrap; max-width: 500px; overflow: hidden; text-overflow: ellipsis; \">&quot;SCZ_BP&quot;</td><td style=\"white-space: nowrap; max-width: 500px; overflow: hidden; text-overflow: ellipsis; \">1</td><td style=\"white-space: nowrap; max-width: 500px; overflow: hidden; text-overflow: ellipsis; \">&quot;NeuroGAP-Psychosis_Uganda_Psychosis_BGE&quot;</td><td style=\"white-space: nowrap; max-width: 500px; overflow: hidden; text-overflow: ellipsis; \">&quot;Koenen&quot;</td><td style=\"white-space: nowrap; max-width: 500px; overflow: hidden; text-overflow: ellipsis; \">&quot;Akena&quot;</td><td style=\"white-space: nowrap; max-width: 500px; overflow: hidden; text-overflow: ellipsis; \">&quot;NeuroGAP-Psychosis_Uganda&quot;</td><td style=\"white-space: nowrap; max-width: 500px; overflow: hidden; text-overflow: ellipsis; \">&quot;CG-5599&quot;</td><td style=\"white-space: nowrap; max-width: 500px; overflow: hidden; text-overflow: ellipsis; \">&quot;GRU&quot;</td><td style=\"white-space: nowrap; max-width: 500px; overflow: hidden; text-overflow: ellipsis; \">&quot;RP-1691.PDO-29438_MAP1&quot;</td><td style=\"white-space: nowrap; max-width: 500px; overflow: hidden; text-overflow: ellipsis; \">&quot;MAP28544999&quot;</td><td style=\"white-space: nowrap; max-width: 500px; overflow: hidden; text-overflow: ellipsis; \">&quot;SM-GN3VD&quot;</td><td style=\"white-space: nowrap; max-width: 500px; overflow: hidden; text-overflow: ellipsis; \">&quot;PDO-29438&quot;</td><td style=\"white-space: nowrap; max-width: 500px; overflow: hidden; text-overflow: ellipsis; \">&quot;broad_custom_exome_v1&quot;</td><td style=\"white-space: nowrap; max-width: 500px; overflow: hidden; text-overflow: ellipsis; \">&quot;Female&quot;</td><td style=\"white-space: nowrap; max-width: 500px; overflow: hidden; text-overflow: ellipsis; \">&quot;gs://fc-5058e99a-3e69-47a7-bc79-73aae6b19e95/NeuroGAP-Psychosis_Uganda_Psychosis_BGE/RP-1691.PDO-29438/Exome/MAP1/v1/MAP1.cram&quot;</td><td style=\"white-space: nowrap; max-width: 500px; overflow: hidden; text-overflow: ellipsis; \">&quot;gs://fc-5058e99a-3e69-47a7-bc79-73aae6b19e95/Uganda_gVCF/gvcfs/MAP1.v1.96223ab4-520b-42ba-a356-eb172208fab2.rb.g.vcf.gz&quot;</td><td style=\"white-space: nowrap; max-width: 500px; overflow: hidden; text-overflow: ellipsis; \">&quot;Control&quot;</td><td style=\"white-space: nowrap; max-width: 500px; overflow: hidden; text-overflow: ellipsis; \">&quot;2/14/23&quot;</td><td style=\"white-space: nowrap; max-width: 500px; overflow: hidden; text-overflow: ellipsis; \">1.55e+00</td><td style=\"white-space: nowrap; max-width: 500px; overflow: hidden; text-overflow: ellipsis; \">5.00e-02</td><td style=\"white-space: nowrap; max-width: 500px; overflow: hidden; text-overflow: ellipsis; \">&quot;MAP1&quot;</td><td style=\"white-space: nowrap; max-width: 500px; overflow: hidden; text-overflow: ellipsis; \">&quot;Control&quot;</td></tr>\n",
       "<tr><td style=\"white-space: nowrap; max-width: 500px; overflow: hidden; text-overflow: ellipsis; \">&quot;RP-1691.PDO-29438&quot;</td><td style=\"white-space: nowrap; max-width: 500px; overflow: hidden; text-overflow: ellipsis; \">&quot;MAP10&quot;</td><td style=\"white-space: nowrap; max-width: 500px; overflow: hidden; text-overflow: ellipsis; \">&quot;BGE&quot;</td><td style=\"white-space: nowrap; max-width: 500px; overflow: hidden; text-overflow: ellipsis; \">&quot;Control&quot;</td><td style=\"white-space: nowrap; max-width: 500px; overflow: hidden; text-overflow: ellipsis; \">&quot;18&quot;</td><td style=\"white-space: nowrap; max-width: 500px; overflow: hidden; text-overflow: ellipsis; \">&quot;African&quot;</td><td style=\"white-space: nowrap; max-width: 500px; overflow: hidden; text-overflow: ellipsis; \">&quot;SCZ_BP&quot;</td><td style=\"white-space: nowrap; max-width: 500px; overflow: hidden; text-overflow: ellipsis; \">1</td><td style=\"white-space: nowrap; max-width: 500px; overflow: hidden; text-overflow: ellipsis; \">&quot;NeuroGAP-Psychosis_Uganda_Psychosis_BGE&quot;</td><td style=\"white-space: nowrap; max-width: 500px; overflow: hidden; text-overflow: ellipsis; \">&quot;Koenen&quot;</td><td style=\"white-space: nowrap; max-width: 500px; overflow: hidden; text-overflow: ellipsis; \">&quot;Akena&quot;</td><td style=\"white-space: nowrap; max-width: 500px; overflow: hidden; text-overflow: ellipsis; \">&quot;NeuroGAP-Psychosis_Uganda&quot;</td><td style=\"white-space: nowrap; max-width: 500px; overflow: hidden; text-overflow: ellipsis; \">&quot;CG-5599&quot;</td><td style=\"white-space: nowrap; max-width: 500px; overflow: hidden; text-overflow: ellipsis; \">&quot;GRU&quot;</td><td style=\"white-space: nowrap; max-width: 500px; overflow: hidden; text-overflow: ellipsis; \">&quot;RP-1691.PDO-29438_MAP10&quot;</td><td style=\"white-space: nowrap; max-width: 500px; overflow: hidden; text-overflow: ellipsis; \">&quot;MAP66243082&quot;</td><td style=\"white-space: nowrap; max-width: 500px; overflow: hidden; text-overflow: ellipsis; \">&quot;SM-GN3VM&quot;</td><td style=\"white-space: nowrap; max-width: 500px; overflow: hidden; text-overflow: ellipsis; \">&quot;PDO-29438&quot;</td><td style=\"white-space: nowrap; max-width: 500px; overflow: hidden; text-overflow: ellipsis; \">&quot;broad_custom_exome_v1&quot;</td><td style=\"white-space: nowrap; max-width: 500px; overflow: hidden; text-overflow: ellipsis; \">&quot;Male&quot;</td><td style=\"white-space: nowrap; max-width: 500px; overflow: hidden; text-overflow: ellipsis; \">&quot;gs://fc-5058e99a-3e69-47a7-bc79-73aae6b19e95/NeuroGAP-Psychosis_Uganda_Psychosis_BGE/RP-1691.PDO-29438/Exome/MAP10/v1/MAP10.cram&quot;</td><td style=\"white-space: nowrap; max-width: 500px; overflow: hidden; text-overflow: ellipsis; \">&quot;gs://fc-5058e99a-3e69-47a7-bc79-73aae6b19e95/Uganda_gVCF/gvcfs/MAP10.v1.7714ad9b-3cb9-45f1-a59a-272b8fdcddc9.rb.g.vcf.gz&quot;</td><td style=\"white-space: nowrap; max-width: 500px; overflow: hidden; text-overflow: ellipsis; \">&quot;Control&quot;</td><td style=\"white-space: nowrap; max-width: 500px; overflow: hidden; text-overflow: ellipsis; \">&quot;2/13/23&quot;</td><td style=\"white-space: nowrap; max-width: 500px; overflow: hidden; text-overflow: ellipsis; \">1.73e+00</td><td style=\"white-space: nowrap; max-width: 500px; overflow: hidden; text-overflow: ellipsis; \">4.00e-02</td><td style=\"white-space: nowrap; max-width: 500px; overflow: hidden; text-overflow: ellipsis; \">&quot;MAP10&quot;</td><td style=\"white-space: nowrap; max-width: 500px; overflow: hidden; text-overflow: ellipsis; \">&quot;Control&quot;</td></tr>\n",
       "<tr><td style=\"white-space: nowrap; max-width: 500px; overflow: hidden; text-overflow: ellipsis; \">&quot;RP-1691.PDO-29438&quot;</td><td style=\"white-space: nowrap; max-width: 500px; overflow: hidden; text-overflow: ellipsis; \">&quot;MAP100&quot;</td><td style=\"white-space: nowrap; max-width: 500px; overflow: hidden; text-overflow: ellipsis; \">&quot;BGE&quot;</td><td style=\"white-space: nowrap; max-width: 500px; overflow: hidden; text-overflow: ellipsis; \">&quot;Control&quot;</td><td style=\"white-space: nowrap; max-width: 500px; overflow: hidden; text-overflow: ellipsis; \">&quot;27&quot;</td><td style=\"white-space: nowrap; max-width: 500px; overflow: hidden; text-overflow: ellipsis; \">&quot;African&quot;</td><td style=\"white-space: nowrap; max-width: 500px; overflow: hidden; text-overflow: ellipsis; \">&quot;SCZ_BP&quot;</td><td style=\"white-space: nowrap; max-width: 500px; overflow: hidden; text-overflow: ellipsis; \">1</td><td style=\"white-space: nowrap; max-width: 500px; overflow: hidden; text-overflow: ellipsis; \">&quot;NeuroGAP-Psychosis_Uganda_Psychosis_BGE&quot;</td><td style=\"white-space: nowrap; max-width: 500px; overflow: hidden; text-overflow: ellipsis; \">&quot;Koenen&quot;</td><td style=\"white-space: nowrap; max-width: 500px; overflow: hidden; text-overflow: ellipsis; \">&quot;Akena&quot;</td><td style=\"white-space: nowrap; max-width: 500px; overflow: hidden; text-overflow: ellipsis; \">&quot;NeuroGAP-Psychosis_Uganda&quot;</td><td style=\"white-space: nowrap; max-width: 500px; overflow: hidden; text-overflow: ellipsis; \">&quot;CG-5599&quot;</td><td style=\"white-space: nowrap; max-width: 500px; overflow: hidden; text-overflow: ellipsis; \">&quot;GRU&quot;</td><td style=\"white-space: nowrap; max-width: 500px; overflow: hidden; text-overflow: ellipsis; \">&quot;RP-1691.PDO-29438_MAP100&quot;</td><td style=\"white-space: nowrap; max-width: 500px; overflow: hidden; text-overflow: ellipsis; \">&quot;MAP65206400&quot;</td><td style=\"white-space: nowrap; max-width: 500px; overflow: hidden; text-overflow: ellipsis; \">&quot;SM-GN6PF&quot;</td><td style=\"white-space: nowrap; max-width: 500px; overflow: hidden; text-overflow: ellipsis; \">&quot;PDO-29438&quot;</td><td style=\"white-space: nowrap; max-width: 500px; overflow: hidden; text-overflow: ellipsis; \">&quot;broad_custom_exome_v1&quot;</td><td style=\"white-space: nowrap; max-width: 500px; overflow: hidden; text-overflow: ellipsis; \">&quot;Female&quot;</td><td style=\"white-space: nowrap; max-width: 500px; overflow: hidden; text-overflow: ellipsis; \">&quot;gs://fc-5058e99a-3e69-47a7-bc79-73aae6b19e95/NeuroGAP-Psychosis_Uganda_Psychosis_BGE/RP-1691.PDO-29438/Exome/MAP100/v1/MAP100.cram&quot;</td><td style=\"white-space: nowrap; max-width: 500px; overflow: hidden; text-overflow: ellipsis; \">&quot;gs://fc-5058e99a-3e69-47a7-bc79-73aae6b19e95/Uganda_gVCF/gvcfs/MAP100.v1.8d16a9e5-3275-4b01-acb0-7fe4a1c7593a.rb.g.vcf.gz&quot;</td><td style=\"white-space: nowrap; max-width: 500px; overflow: hidden; text-overflow: ellipsis; \">&quot;Control&quot;</td><td style=\"white-space: nowrap; max-width: 500px; overflow: hidden; text-overflow: ellipsis; \">&quot;2/14/23&quot;</td><td style=\"white-space: nowrap; max-width: 500px; overflow: hidden; text-overflow: ellipsis; \">1.67e+00</td><td style=\"white-space: nowrap; max-width: 500px; overflow: hidden; text-overflow: ellipsis; \">4.20e-01</td><td style=\"white-space: nowrap; max-width: 500px; overflow: hidden; text-overflow: ellipsis; \">&quot;MAP100&quot;</td><td style=\"white-space: nowrap; max-width: 500px; overflow: hidden; text-overflow: ellipsis; \">&quot;Control&quot;</td></tr>\n",
       "<tr><td style=\"white-space: nowrap; max-width: 500px; overflow: hidden; text-overflow: ellipsis; \">&quot;RP-1691.PDO-29438&quot;</td><td style=\"white-space: nowrap; max-width: 500px; overflow: hidden; text-overflow: ellipsis; \">&quot;MAP1000&quot;</td><td style=\"white-space: nowrap; max-width: 500px; overflow: hidden; text-overflow: ellipsis; \">&quot;BGE&quot;</td><td style=\"white-space: nowrap; max-width: 500px; overflow: hidden; text-overflow: ellipsis; \">&quot;Control&quot;</td><td style=\"white-space: nowrap; max-width: 500px; overflow: hidden; text-overflow: ellipsis; \">&quot;42&quot;</td><td style=\"white-space: nowrap; max-width: 500px; overflow: hidden; text-overflow: ellipsis; \">&quot;African&quot;</td><td style=\"white-space: nowrap; max-width: 500px; overflow: hidden; text-overflow: ellipsis; \">&quot;SCZ_BP&quot;</td><td style=\"white-space: nowrap; max-width: 500px; overflow: hidden; text-overflow: ellipsis; \">1</td><td style=\"white-space: nowrap; max-width: 500px; overflow: hidden; text-overflow: ellipsis; \">&quot;NeuroGAP-Psychosis_Uganda_Psychosis_BGE&quot;</td><td style=\"white-space: nowrap; max-width: 500px; overflow: hidden; text-overflow: ellipsis; \">&quot;Koenen&quot;</td><td style=\"white-space: nowrap; max-width: 500px; overflow: hidden; text-overflow: ellipsis; \">&quot;Akena&quot;</td><td style=\"white-space: nowrap; max-width: 500px; overflow: hidden; text-overflow: ellipsis; \">&quot;NeuroGAP-Psychosis_Uganda&quot;</td><td style=\"white-space: nowrap; max-width: 500px; overflow: hidden; text-overflow: ellipsis; \">&quot;CG-5599&quot;</td><td style=\"white-space: nowrap; max-width: 500px; overflow: hidden; text-overflow: ellipsis; \">&quot;GRU&quot;</td><td style=\"white-space: nowrap; max-width: 500px; overflow: hidden; text-overflow: ellipsis; \">&quot;RP-1691.PDO-29438_MAP1000&quot;</td><td style=\"white-space: nowrap; max-width: 500px; overflow: hidden; text-overflow: ellipsis; \">&quot;MAP83154158&quot;</td><td style=\"white-space: nowrap; max-width: 500px; overflow: hidden; text-overflow: ellipsis; \">&quot;SM-I4D6S&quot;</td><td style=\"white-space: nowrap; max-width: 500px; overflow: hidden; text-overflow: ellipsis; \">&quot;PDO-29438&quot;</td><td style=\"white-space: nowrap; max-width: 500px; overflow: hidden; text-overflow: ellipsis; \">&quot;broad_custom_exome_v1&quot;</td><td style=\"white-space: nowrap; max-width: 500px; overflow: hidden; text-overflow: ellipsis; \">&quot;Female&quot;</td><td style=\"white-space: nowrap; max-width: 500px; overflow: hidden; text-overflow: ellipsis; \">&quot;gs://fc-5058e99a-3e69-47a7-bc79-73aae6b19e95/NeuroGAP-Psychosis_Uganda_Psychosis_BGE/RP-1691.PDO-29438/Exome/MAP1000/v1/MAP1000.cram&quot;</td><td style=\"white-space: nowrap; max-width: 500px; overflow: hidden; text-overflow: ellipsis; \">&quot;gs://fc-5058e99a-3e69-47a7-bc79-73aae6b19e95/Uganda_gVCF/gvcfs/MAP1000.v1.edfe93a4-4d71-40a7-8165-bacdb5ffd8f2.rb.g.vcf.gz&quot;</td><td style=\"white-space: nowrap; max-width: 500px; overflow: hidden; text-overflow: ellipsis; \">&quot;Control&quot;</td><td style=\"white-space: nowrap; max-width: 500px; overflow: hidden; text-overflow: ellipsis; \">&quot;2/6/23&quot;</td><td style=\"white-space: nowrap; max-width: 500px; overflow: hidden; text-overflow: ellipsis; \">1.61e+00</td><td style=\"white-space: nowrap; max-width: 500px; overflow: hidden; text-overflow: ellipsis; \">8.00e-02</td><td style=\"white-space: nowrap; max-width: 500px; overflow: hidden; text-overflow: ellipsis; \">&quot;MAP1000&quot;</td><td style=\"white-space: nowrap; max-width: 500px; overflow: hidden; text-overflow: ellipsis; \">&quot;Control&quot;</td></tr>\n",
       "<tr><td style=\"white-space: nowrap; max-width: 500px; overflow: hidden; text-overflow: ellipsis; \">&quot;RP-1691.PDO-31405&quot;</td><td style=\"white-space: nowrap; max-width: 500px; overflow: hidden; text-overflow: ellipsis; \">&quot;MAP10000&quot;</td><td style=\"white-space: nowrap; max-width: 500px; overflow: hidden; text-overflow: ellipsis; \">&quot;BGE&quot;</td><td style=\"white-space: nowrap; max-width: 500px; overflow: hidden; text-overflow: ellipsis; \">&quot;Psychotic Disorder NOS&quot;</td><td style=\"white-space: nowrap; max-width: 500px; overflow: hidden; text-overflow: ellipsis; \">&quot;50&quot;</td><td style=\"white-space: nowrap; max-width: 500px; overflow: hidden; text-overflow: ellipsis; \">&quot;African&quot;</td><td style=\"white-space: nowrap; max-width: 500px; overflow: hidden; text-overflow: ellipsis; \">&quot;SCZ_BP&quot;</td><td style=\"white-space: nowrap; max-width: 500px; overflow: hidden; text-overflow: ellipsis; \">1</td><td style=\"white-space: nowrap; max-width: 500px; overflow: hidden; text-overflow: ellipsis; \">&quot;NeuroGAP-Psychosis_Uganda_Psychosis_BGE&quot;</td><td style=\"white-space: nowrap; max-width: 500px; overflow: hidden; text-overflow: ellipsis; \">&quot;Koenen&quot;</td><td style=\"white-space: nowrap; max-width: 500px; overflow: hidden; text-overflow: ellipsis; \">&quot;Akena&quot;</td><td style=\"white-space: nowrap; max-width: 500px; overflow: hidden; text-overflow: ellipsis; \">&quot;NeuroGAP-Psychosis_Uganda&quot;</td><td style=\"white-space: nowrap; max-width: 500px; overflow: hidden; text-overflow: ellipsis; \">&quot;CG-5599&quot;</td><td style=\"white-space: nowrap; max-width: 500px; overflow: hidden; text-overflow: ellipsis; \">&quot;GRU&quot;</td><td style=\"white-space: nowrap; max-width: 500px; overflow: hidden; text-overflow: ellipsis; \">&quot;RP-1691.PDO-31405_MAP10000&quot;</td><td style=\"white-space: nowrap; max-width: 500px; overflow: hidden; text-overflow: ellipsis; \">&quot;MAP99234450&quot;</td><td style=\"white-space: nowrap; max-width: 500px; overflow: hidden; text-overflow: ellipsis; \">&quot;SM-N9EUU&quot;</td><td style=\"white-space: nowrap; max-width: 500px; overflow: hidden; text-overflow: ellipsis; \">&quot;PDO-31405&quot;</td><td style=\"white-space: nowrap; max-width: 500px; overflow: hidden; text-overflow: ellipsis; \">&quot;broad_custom_exome_v1&quot;</td><td style=\"white-space: nowrap; max-width: 500px; overflow: hidden; text-overflow: ellipsis; \">&quot;Female&quot;</td><td style=\"white-space: nowrap; max-width: 500px; overflow: hidden; text-overflow: ellipsis; \">&quot;gs://fc-5058e99a-3e69-47a7-bc79-73aae6b19e95/NeuroGAP-Psychosis_Uganda_Psychosis_BGE/RP-1691.PDO-31405/Exome/MAP10000/v1/MAP10000.cram&quot;</td><td style=\"white-space: nowrap; max-width: 500px; overflow: hidden; text-overflow: ellipsis; \">&quot;gs://fc-5058e99a-3e69-47a7-bc79-73aae6b19e95/Uganda_gVCF/gvcfs/MAP10000.v1.bd58c59a-a50e-407b-adff-4b604875335a.rb.g.vcf.gz&quot;</td><td style=\"white-space: nowrap; max-width: 500px; overflow: hidden; text-overflow: ellipsis; \">&quot;Case&quot;</td><td style=\"white-space: nowrap; max-width: 500px; overflow: hidden; text-overflow: ellipsis; \">&quot;6/27/23&quot;</td><td style=\"white-space: nowrap; max-width: 500px; overflow: hidden; text-overflow: ellipsis; \">2.02e+00</td><td style=\"white-space: nowrap; max-width: 500px; overflow: hidden; text-overflow: ellipsis; \">6.00e-02</td><td style=\"white-space: nowrap; max-width: 500px; overflow: hidden; text-overflow: ellipsis; \">&quot;MAP10000&quot;</td><td style=\"white-space: nowrap; max-width: 500px; overflow: hidden; text-overflow: ellipsis; \">&quot;Case&quot;</td></tr>\n",
       "</tbody></table><p style=\"background: #fdd; padding: 0.4em;\">showing top 5 rows</p>\n"
      ],
      "text/plain": [
       "+---------------------+------------+-----------+--------------------------+\n",
       "| PROJECT             | SUBJECT_ID | DATA_TYPE | PRIMARY_DISEASE          |\n",
       "+---------------------+------------+-----------+--------------------------+\n",
       "| str                 | str        | str       | str                      |\n",
       "+---------------------+------------+-----------+--------------------------+\n",
       "| \"RP-1691.PDO-29438\" | \"MAP1\"     | \"BGE\"     | \"Control\"                |\n",
       "| \"RP-1691.PDO-29438\" | \"MAP10\"    | \"BGE\"     | \"Control\"                |\n",
       "| \"RP-1691.PDO-29438\" | \"MAP100\"   | \"BGE\"     | \"Control\"                |\n",
       "| \"RP-1691.PDO-29438\" | \"MAP1000\"  | \"BGE\"     | \"Control\"                |\n",
       "| \"RP-1691.PDO-31405\" | \"MAP10000\" | \"BGE\"     | \"Psychotic Disorder NOS\" |\n",
       "+---------------------+------------+-----------+--------------------------+\n",
       "\n",
       "+-----------------+----------------+---------------------+---------+\n",
       "| AGE_UNSPECIFIED | RACE_ETHNICITY | DISEASE_DESCRIPTION | VERSION |\n",
       "+-----------------+----------------+---------------------+---------+\n",
       "| str             | str            | str                 |   int32 |\n",
       "+-----------------+----------------+---------------------+---------+\n",
       "| \"31\"            | \"African\"      | \"SCZ_BP\"            |       1 |\n",
       "| \"18\"            | \"African\"      | \"SCZ_BP\"            |       1 |\n",
       "| \"27\"            | \"African\"      | \"SCZ_BP\"            |       1 |\n",
       "| \"42\"            | \"African\"      | \"SCZ_BP\"            |       1 |\n",
       "| \"50\"            | \"African\"      | \"SCZ_BP\"            |       1 |\n",
       "+-----------------+----------------+---------------------+---------+\n",
       "\n",
       "+-------------------------------------------+--------------+-------------+\n",
       "| TERRA_WORKSPACE                           | INVESTIGATOR | EXTERNAL_PI |\n",
       "+-------------------------------------------+--------------+-------------+\n",
       "| str                                       | str          | str         |\n",
       "+-------------------------------------------+--------------+-------------+\n",
       "| \"NeuroGAP-Psychosis_Uganda_Psychosis_BGE\" | \"Koenen\"     | \"Akena\"     |\n",
       "| \"NeuroGAP-Psychosis_Uganda_Psychosis_BGE\" | \"Koenen\"     | \"Akena\"     |\n",
       "| \"NeuroGAP-Psychosis_Uganda_Psychosis_BGE\" | \"Koenen\"     | \"Akena\"     |\n",
       "| \"NeuroGAP-Psychosis_Uganda_Psychosis_BGE\" | \"Koenen\"     | \"Akena\"     |\n",
       "| \"NeuroGAP-Psychosis_Uganda_Psychosis_BGE\" | \"Koenen\"     | \"Akena\"     |\n",
       "+-------------------------------------------+--------------+-------------+\n",
       "\n",
       "+-----------------------------+-----------+---------+\n",
       "| COHORT                      | ORSP_CG   | CONSENT |\n",
       "+-----------------------------+-----------+---------+\n",
       "| str                         | str       | str     |\n",
       "+-----------------------------+-----------+---------+\n",
       "| \"NeuroGAP-Psychosis_Uganda\" | \"CG-5599\" | \"GRU\"   |\n",
       "| \"NeuroGAP-Psychosis_Uganda\" | \"CG-5599\" | \"GRU\"   |\n",
       "| \"NeuroGAP-Psychosis_Uganda\" | \"CG-5599\" | \"GRU\"   |\n",
       "| \"NeuroGAP-Psychosis_Uganda\" | \"CG-5599\" | \"GRU\"   |\n",
       "| \"NeuroGAP-Psychosis_Uganda\" | \"CG-5599\" | \"GRU\"   |\n",
       "+-----------------------------+-----------+---------+\n",
       "\n",
       "+------------------------------+-----------------------------+------------+\n",
       "| SEQ_ID                       | COLLABORATOR_PARTICIPANT_ID | SM_ID      |\n",
       "+------------------------------+-----------------------------+------------+\n",
       "| str                          | str                         | str        |\n",
       "+------------------------------+-----------------------------+------------+\n",
       "| \"RP-1691.PDO-29438_MAP1\"     | \"MAP28544999\"               | \"SM-GN3VD\" |\n",
       "| \"RP-1691.PDO-29438_MAP10\"    | \"MAP66243082\"               | \"SM-GN3VM\" |\n",
       "| \"RP-1691.PDO-29438_MAP100\"   | \"MAP65206400\"               | \"SM-GN6PF\" |\n",
       "| \"RP-1691.PDO-29438_MAP1000\"  | \"MAP83154158\"               | \"SM-I4D6S\" |\n",
       "| \"RP-1691.PDO-31405_MAP10000\" | \"MAP99234450\"               | \"SM-N9EUU\" |\n",
       "+------------------------------+-----------------------------+------------+\n",
       "\n",
       "+-------------+-------------------------+----------+\n",
       "| PDO         | CAPTURE                 | SEX      |\n",
       "+-------------+-------------------------+----------+\n",
       "| str         | str                     | str      |\n",
       "+-------------+-------------------------+----------+\n",
       "| \"PDO-29438\" | \"broad_custom_exome_v1\" | \"Female\" |\n",
       "| \"PDO-29438\" | \"broad_custom_exome_v1\" | \"Male\"   |\n",
       "| \"PDO-29438\" | \"broad_custom_exome_v1\" | \"Female\" |\n",
       "| \"PDO-29438\" | \"broad_custom_exome_v1\" | \"Female\" |\n",
       "| \"PDO-31405\" | \"broad_custom_exome_v1\" | \"Female\" |\n",
       "+-------------+-------------------------+----------+\n",
       "\n",
       "+------------------------------------------------------------------------------+\n",
       "| CRAM                                                                         |\n",
       "+------------------------------------------------------------------------------+\n",
       "| str                                                                          |\n",
       "+------------------------------------------------------------------------------+\n",
       "| \"gs://fc-5058e99a-3e69-47a7-bc79-73aae6b19e95/NeuroGAP-Psychosis_Uganda_P... |\n",
       "| \"gs://fc-5058e99a-3e69-47a7-bc79-73aae6b19e95/NeuroGAP-Psychosis_Uganda_P... |\n",
       "| \"gs://fc-5058e99a-3e69-47a7-bc79-73aae6b19e95/NeuroGAP-Psychosis_Uganda_P... |\n",
       "| \"gs://fc-5058e99a-3e69-47a7-bc79-73aae6b19e95/NeuroGAP-Psychosis_Uganda_P... |\n",
       "| \"gs://fc-5058e99a-3e69-47a7-bc79-73aae6b19e95/NeuroGAP-Psychosis_Uganda_P... |\n",
       "+------------------------------------------------------------------------------+\n",
       "\n",
       "+------------------------------------------------------------------------------+\n",
       "| GVCF                                                                         |\n",
       "+------------------------------------------------------------------------------+\n",
       "| str                                                                          |\n",
       "+------------------------------------------------------------------------------+\n",
       "| \"gs://fc-5058e99a-3e69-47a7-bc79-73aae6b19e95/Uganda_gVCF/gvcfs/MAP1.v1.9... |\n",
       "| \"gs://fc-5058e99a-3e69-47a7-bc79-73aae6b19e95/Uganda_gVCF/gvcfs/MAP10.v1.... |\n",
       "| \"gs://fc-5058e99a-3e69-47a7-bc79-73aae6b19e95/Uganda_gVCF/gvcfs/MAP100.v1... |\n",
       "| \"gs://fc-5058e99a-3e69-47a7-bc79-73aae6b19e95/Uganda_gVCF/gvcfs/MAP1000.v... |\n",
       "| \"gs://fc-5058e99a-3e69-47a7-bc79-73aae6b19e95/Uganda_gVCF/gvcfs/MAP10000.... |\n",
       "+------------------------------------------------------------------------------+\n",
       "\n",
       "+-----------+--------------+----------+---------------+------------------+\n",
       "| ROLE      | COVERAGE_MET |  CHIMERA | CONTAMINATION | SUBJECT_ID_CLEAN |\n",
       "+-----------+--------------+----------+---------------+------------------+\n",
       "| str       | str          |  float64 |       float64 | str              |\n",
       "+-----------+--------------+----------+---------------+------------------+\n",
       "| \"Control\" | \"2/14/23\"    | 1.55e+00 |      5.00e-02 | \"MAP1\"           |\n",
       "| \"Control\" | \"2/13/23\"    | 1.73e+00 |      4.00e-02 | \"MAP10\"          |\n",
       "| \"Control\" | \"2/14/23\"    | 1.67e+00 |      4.20e-01 | \"MAP100\"         |\n",
       "| \"Control\" | \"2/6/23\"     | 1.61e+00 |      8.00e-02 | \"MAP1000\"        |\n",
       "| \"Case\"    | \"6/27/23\"    | 2.02e+00 |      6.00e-02 | \"MAP10000\"       |\n",
       "+-----------+--------------+----------+---------------+------------------+\n",
       "\n",
       "+-----------+\n",
       "| PHENOTYPE |\n",
       "+-----------+\n",
       "| str       |\n",
       "+-----------+\n",
       "| \"Control\" |\n",
       "| \"Control\" |\n",
       "| \"Control\" |\n",
       "| \"Control\" |\n",
       "| \"Case\"    |\n",
       "+-----------+\n",
       "showing top 5 rows"
      ]
     },
     "metadata": {},
     "output_type": "display_data"
    }
   ],
   "source": [
    "# Load manifest and filter site of interest\n",
    "manifest = hl.import_table(\"gs://fc-728aff93-d8b3-439a-b002-91dd07198e77/NeuroGAP/BGE_NeuroGAP_Manifest.tsv\", impute=True)\n",
    "manifest = manifest.key_by('SUBJECT_ID')\n",
    "\n",
    "# Clean SUBJECT_ID for matching and export (replace dots, spaces, or underscore with dash)\n",
    "manifest = manifest.annotate(\n",
    "    SUBJECT_ID_CLEAN = hl.str(manifest.SUBJECT_ID).replace(r'[._\\s]', '-'),\n",
    "    SEX = manifest.SEX,\n",
    "    PHENOTYPE = manifest.ROLE,\n",
    "    TERRA_WORKSPACE = manifest.TERRA_WORKSPACE\n",
    ").key_by('SUBJECT_ID_CLEAN')\n",
    "\n",
    "manifest_sub = manifest.filter(manifest.TERRA_WORKSPACE == \"NeuroGAP-Psychosis_Uganda_Psychosis_BGE\")\n",
    "manifest_sub.show(5)  # Display first few rows"
   ]
  },
  {
   "cell_type": "code",
   "execution_count": 3,
   "id": "f3281ca8",
   "metadata": {},
   "outputs": [
    {
     "name": "stderr",
     "output_type": "stream",
     "text": [
      "2025-07-28 23:00:16.332 Hail: INFO: Reading table to impute column types\n",
      "2025-07-28 23:00:17.067 Hail: INFO: Finished type imputation\n",
      "  Loading field '#FID' as type str (imputed)\n",
      "  Loading field 'IID' as type str (imputed)\n"
     ]
    }
   ],
   "source": [
    "# Remove duplicates and mismatches\n",
    "\n",
    "# Read in duplicate IDs that were identified by `plink2 --king-cutoff 0.355`\n",
    "# which was run to find the maximal independent set after removing duplicates/MZ twins\n",
    "# these are the IDs we will remove first, as well as IDs identified to be \"mismatches\" between case and control status\n",
    "# Note that this is in plink format, with FID and IID as the two columns, but these are the same ID in both columns\n",
    "\n",
    "dups = hl.import_table(\"gs://fc-728aff93-d8b3-439a-b002-91dd07198e77/NeuroGAP/dups_to_remove.txt\", impute=True, delimiter='\\t')\n",
    "dup_ids = hl.set(dups.IID.collect())\n"
   ]
  },
  {
   "cell_type": "code",
   "execution_count": 4,
   "id": "8f71c972",
   "metadata": {},
   "outputs": [
    {
     "name": "stderr",
     "output_type": "stream",
     "text": [
      "2025-07-28 23:01:31.874 Hail: INFO: Reading table to impute column types\n",
      "2025-07-28 23:01:32.654 Hail: INFO: Finished type imputation\n",
      "  Loading field 'ID1' as type str (imputed)\n",
      "  Loading field 'ID1_SUBJECT_ID' as type str (imputed)\n",
      "  Loading field 'ID1_COLLABORATOR_PARTICIPANT_ID' as type str (imputed)\n",
      "  Loading field 'ID2' as type str (imputed)\n",
      "  Loading field 'ID2_SUBJECT_ID' as type str (imputed)\n",
      "  Loading field 'ID2_COLLABORATOR_PARTICIPANT_ID' as type str (imputed)\n",
      "  Loading field 'N_SNP' as type int32 (imputed)\n",
      "  Loading field 'HetHet' as type float64 (imputed)\n",
      "  Loading field 'IBS0' as type int32 (imputed)\n",
      "  Loading field 'HetConc' as type float64 (imputed)\n",
      "  Loading field 'HomIBS0' as type float64 (imputed)\n",
      "  Loading field 'Kinship' as type float64 (imputed)\n",
      "  Loading field 'IBD1Seg' as type float64 (imputed)\n",
      "  Loading field 'IBD2Seg' as type float64 (imputed)\n",
      "  Loading field 'PropIBD' as type float64 (imputed)\n",
      "  Loading field 'InfType' as type str (imputed)\n",
      "  Loading field 'ID1_cohort' as type str (imputed)\n",
      "  Loading field 'ID2_cohort' as type str (imputed)\n",
      "  Loading field 'ID1_role' as type str (imputed)\n",
      "  Loading field 'ID2_role' as type str (imputed)\n",
      "  Loading field 'ID1_n_times_appear_in_dup_pair' as type int32 (imputed)\n",
      "  Loading field 'ID2_n_times_appear_in_dup_pair' as type int32 (imputed)\n",
      "  Loading field 'ID1_primary_disease' as type str (imputed)\n",
      "  Loading field 'ID2_primary_disease' as type str (imputed)\n",
      "  Loading field 'same_site' as type bool (imputed)\n",
      "  Loading field 'same_role' as type bool (imputed)\n",
      "  Loading field 'same_primary_disease' as type bool (imputed)\n"
     ]
    }
   ],
   "source": [
    "# Read in duplicates with case/control status file\n",
    "# Subset the duplicates table to only include instances where diagnosis does not match (same_primary_disease == False)\n",
    "dup_info = hl.import_table(\"gs://fc-728aff93-d8b3-439a-b002-91dd07198e77/NeuroGAP/neurogap_fullset.kin0_with_cohorts_roles_kinmin_354.csv\", impute=True, delimiter=',')\n",
    "mismatches = dup_info.filter(~dup_info.same_primary_disease)\n",
    "mismatch_ids = hl.set(mismatches.ID1_SUBJECT_ID.collect() + mismatches.ID2_SUBJECT_ID.collect())"
   ]
  },
  {
   "cell_type": "code",
   "execution_count": 5,
   "id": "06d2ea9b",
   "metadata": {},
   "outputs": [
    {
     "name": "stderr",
     "output_type": "stream",
     "text": [
      "2025-07-28 23:01:42.283 Hail: INFO: Ordering unsorted dataset with network shuffle\n",
      "[Stage 14:>                                                         (0 + 1) / 1]\r"
     ]
    }
   ],
   "source": [
    "combined_remove_ids = dup_ids.union(mismatch_ids)\n",
    "manifest_final = manifest_sub.filter(~combined_remove_ids.contains(manifest_sub.SUBJECT_ID))\n",
    "final_sample_set = hl.set(manifest_final.SUBJECT_ID.collect())"
   ]
  },
  {
   "cell_type": "code",
   "execution_count": 6,
   "id": "3072a138",
   "metadata": {},
   "outputs": [
    {
     "name": "stderr",
     "output_type": "stream",
     "text": [
      "2025-07-28 23:02:08.343 Hail: INFO: Number of BGEN files parsed: 22\n",
      "2025-07-28 23:02:08.343 Hail: INFO: Number of samples in BGEN files: 38797\n",
      "2025-07-28 23:02:08.343 Hail: INFO: Number of variants across all BGEN files: 32294864\n",
      "2025-07-28 23:02:40.462 Hail: INFO: Number of BGEN files parsed: 22\n",
      "2025-07-28 23:02:40.462 Hail: INFO: Number of samples in BGEN files: 38797\n",
      "2025-07-28 23:02:40.462 Hail: INFO: Number of variants across all BGEN files: 32294864\n",
      "2025-07-28 23:26:56.202 Hail: INFO: wrote matrix table with 32294864 rows and 10639 columns in 1087 partitions to gs://neurogap-bge-imputed-regional/toni/temp/Uganda_prs_bgen_subset1.mt\n"
     ]
    }
   ],
   "source": [
    "# Load and filter genotype data\n",
    "\n",
    "input_path = f\"gs://fc-728aff93-d8b3-439a-b002-91dd07198e77/NeuroGAP/bgen/neurogap_final_merged_INFO0.8_rsIDs_chr*.bgen\"\n",
    "\n",
    "bgen = hl.import_bgen(input_path,entry_fields=['GT','GP'])\n",
    "\n",
    "# Clean bgen sample IDs and rekey\n",
    "bgen = bgen.annotate_cols(clean_s = hl.str(bgen.s).replace(r'[._\\s]', '-'))\n",
    "bgen = bgen.key_cols_by(s = bgen.clean_s)\n",
    "bgen = bgen.filter_cols(final_sample_set.contains(bgen.s))\n",
    "\n",
    "#checkpoint the subset matrixTable so it doesn't need to be re-computed\n",
    "bgen = bgen.checkpoint('gs://neurogap-bge-imputed-regional/toni/temp/Uganda_prs_bgen_subset1.mt', overwrite=True)"
   ]
  },
  {
   "cell_type": "code",
   "execution_count": 7,
   "id": "55019669",
   "metadata": {},
   "outputs": [
    {
     "name": "stderr",
     "output_type": "stream",
     "text": [
      "2025-07-28 23:26:59.230 Hail: INFO: Reading table to impute column types\n",
      "2025-07-28 23:26:59.793 Hail: INFO: Finished type imputation\n",
      "  Loading field 'ID1' as type str (imputed)\n",
      "  Loading field 'ID2' as type str (imputed)\n",
      "  Loading field 'Kinship' as type float64 (imputed)\n",
      "2025-07-28 23:27:08.700 Hail: INFO: wrote table with 882 rows in 1 partition to /tmp/uWtI3Dh0246LBwABSfVArO\n"
     ]
    }
   ],
   "source": [
    "# Remove related individuals using KING kinship file\n",
    "relatedness = hl.import_table(\"gs://fc-728aff93-d8b3-439a-b002-91dd07198e77/NeuroGAP/neurogap_imputed_king_kinship_no_dup.txt\", impute=True)\n",
    "relatedness = relatedness.filter(final_sample_set.contains(relatedness.ID1) | final_sample_set.contains(relatedness.ID2))\n",
    "related_samples = hl.maximal_independent_set(relatedness.ID1, relatedness.ID2, False)\n"
   ]
  },
  {
   "cell_type": "code",
   "execution_count": 8,
   "id": "6e7b26b2",
   "metadata": {},
   "outputs": [],
   "source": [
    "# Filter to unrelated individuals\n",
    "bgen = bgen.filter_cols(hl.is_defined(related_samples[bgen.col_key]), keep=False)\n"
   ]
  },
  {
   "cell_type": "code",
   "execution_count": 9,
   "id": "92f290b1",
   "metadata": {},
   "outputs": [],
   "source": [
    "# Variant QC and MAF filter\n",
    "bgen = hl.variant_qc(bgen)\n",
    "bgen = bgen.filter_rows(bgen.variant_qc.AF[1] >= 0.05)\n"
   ]
  },
  {
   "cell_type": "code",
   "execution_count": 10,
   "id": "15b6927a",
   "metadata": {},
   "outputs": [],
   "source": [
    "# Filter entries based on GP confidence (here threshold of 0.8 is used, anything lower is set to missing)\n",
    "bgen = bgen.annotate_entries(\n",
    "    GT = hl.or_missing(\n",
    "        hl.max(bgen.GP) >= 0.8,\n",
    "        bgen.GT\n",
    "    )\n",
    ")"
   ]
  },
  {
   "cell_type": "code",
   "execution_count": 11,
   "id": "0c818163",
   "metadata": {},
   "outputs": [
    {
     "name": "stderr",
     "output_type": "stream",
     "text": [
      "2025-07-28 23:27:09.851 Hail: INFO: Reading table without type imputation\n",
      "  Loading field 'f0' as type str (not specified)\n"
     ]
    }
   ],
   "source": [
    "# Filter variants to rsIDs in SNP list provided by PRS-CS\n",
    "snplist = hl.import_table(\"gs://fc-728aff93-d8b3-439a-b002-91dd07198e77/NeuroGAP/rsids_1kg_hm3_afr.txt\",no_header=True)\n",
    "snplist = snplist.rename({'f0': 'rsid'}).key_by('rsid')\n",
    "bgen = bgen.filter_rows(hl.is_defined(snplist.index(bgen.rsid)))\n"
   ]
  },
  {
   "cell_type": "code",
   "execution_count": 12,
   "id": "61823385",
   "metadata": {},
   "outputs": [
    {
     "name": "stderr",
     "output_type": "stream",
     "text": [
      "2025-07-28 23:27:15.435 Hail: INFO: Ordering unsorted dataset with network shuffle\n",
      "2025-07-28 23:27:18.024 Hail: INFO: Ordering unsorted dataset with network shuffle\n",
      "2025-07-28 23:38:57.867 Hail: INFO: Ordering unsorted dataset with network shuffle\n",
      "2025-07-28 23:38:59.681 Hail: INFO: Ordering unsorted dataset with network shuffle\n",
      "2025-07-28 23:39:08.478 Hail: INFO: wrote table with 1225319 rows in 1 partition to /tmp/__iruid_1072-uEyGClCfKE0RfBqOLKHtey\n",
      "2025-07-28 23:51:13.555 Hail: INFO: Ordering unsorted dataset with network shuffle\n",
      "2025-07-29 00:12:33.283 Hail: INFO: wrote matrix table with 1099581 rows and 9922 columns in 1087 partitions to gs://neurogap-bge-imputed-regional/toni/temp/Uganda_prs_bgen_subset2.mt\n"
     ]
    }
   ],
   "source": [
    "bgen = bgen.checkpoint('gs://neurogap-bge-imputed-regional/toni/temp/Uganda_prs_bgen_subset2.mt', overwrite=True)\n"
   ]
  },
  {
   "cell_type": "code",
   "execution_count": 15,
   "id": "2b4e8ddc",
   "metadata": {},
   "outputs": [],
   "source": [
    "# Annotate phenotype, sex, and cleaned ID to plink format\n",
    "bgen = bgen.annotate_cols(\n",
    "    pheno = hl.case()\n",
    "        .when(manifest[bgen.s].PHENOTYPE.lower() == 'case', 2)\n",
    "        .when(manifest[bgen.s].PHENOTYPE.lower() == 'control', 1)\n",
    "        .default(-9),\n",
    "    is_female = hl.case()\n",
    "        .when(manifest[bgen.s].SEX == 'Female', True)\n",
    "        .when(manifest[bgen.s].SEX == 'Male', False)\n",
    "        .default(hl.missing(hl.tbool))\n",
    ")"
   ]
  },
  {
   "cell_type": "code",
   "execution_count": 16,
   "id": "f3bdc40f",
   "metadata": {
    "scrolled": true
   },
   "outputs": [
    {
     "name": "stderr",
     "output_type": "stream",
     "text": [
      "2025-07-29 00:32:09.259 Hail: INFO: merging 1088 files totalling 2.5G... / 1087]\n",
      "2025-07-29 00:32:52.821 Hail: INFO: while writing:\n",
      "    gs://neurogap-bge-imputed-regional/toni/forPRSWiki/Uganda.bed\n",
      "  merge time: 43.561s\n",
      "2025-07-29 00:32:53.260 Hail: INFO: merging 1087 files totalling 43.3M...\n",
      "2025-07-29 00:32:55.302 Hail: INFO: while writing:\n",
      "    gs://neurogap-bge-imputed-regional/toni/forPRSWiki/Uganda.bim\n",
      "  merge time: 2.042s\n"
     ]
    }
   ],
   "source": [
    "# Export PLINK files with phenotype and sex\n",
    "\n",
    "plink_path=\"gs://neurogap-bge-imputed-regional/toni/forPRSWiki/Uganda\"       \n",
    "\n",
    "hl.export_plink(\n",
    "    bgen,\n",
    "    output=plink_path,\n",
    "    fam_id=bgen.s,\n",
    "    ind_id=bgen.s,\n",
    "    is_female=bgen.is_female\n",
    "    pheno=bgen.pheno\n",
    "    varid=bgen.rsid\n",
    ")"
   ]
  },
  {
   "cell_type": "code",
   "execution_count": null,
   "id": "c345a85f",
   "metadata": {},
   "outputs": [],
   "source": []
  }
 ],
 "metadata": {
  "kernelspec": {
   "display_name": "Python 3 (ipykernel)",
   "language": "python",
   "name": "python3"
  },
  "language_info": {
   "codemirror_mode": {
    "name": "ipython",
    "version": 3
   },
   "file_extension": ".py",
   "mimetype": "text/x-python",
   "name": "python",
   "nbconvert_exporter": "python",
   "pygments_lexer": "ipython3",
   "version": "3.12.7"
  }
 },
 "nbformat": 4,
 "nbformat_minor": 5
}
